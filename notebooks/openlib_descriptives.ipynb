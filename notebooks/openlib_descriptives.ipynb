{
 "cells": [
  {
   "cell_type": "code",
   "execution_count": null,
   "id": "067dc107-9c68-42c5-a2dc-9d7475eff854",
   "metadata": {},
   "outputs": [],
   "source": [
    "# Add scripts directory to sys.path to import marc21_countries\n",
    "import sys\n",
    "import os\n",
    "sys.path.append(os.path.abspath('/home/msds2025/jvalera/bdcc2025/bdcc-lab-openlib/scripts'))\n",
    "\n",
    "# All imports\n",
    "from pyspark.sql import SparkSession\n",
    "from pyspark.sql.functions import col, explode, concat, lit, regexp_replace, regexp_extract, when, floor, row_number, broadcast, collect_list, lower\n",
    "from pyspark.sql.types import StringType\n",
    "from pyspark.sql.window import Window\n",
    "\n",
    "from pyspark.sql.functions import udf\n",
    "import matplotlib.pyplot as plt\n",
    "import matplotlib.colors as mcolors\n",
    "import seaborn as sns\n",
    "\n",
    "import pandas as pd\n",
    "\n",
    "from marc21_countries import country_mapping\n",
    "\n",
    "import nltk\n",
    "from nltk.tokenize import word_tokenize\n",
    "from nltk.corpus import stopwords\n",
    "from nltk.stem import WordNetLemmatizer\n",
    "import re"
   ]
  },
  {
   "cell_type": "code",
   "execution_count": null,
   "id": "f1ff616a-4ddc-444e-bbfe-373480002cb6",
   "metadata": {},
   "outputs": [],
   "source": [
    "# Download NLTK resources\n",
    "nltk.download('punkt')\n",
    "nltk.download('stopwords')\n",
    "nltk.download('wordnet')\n",
    "\n",
    "# Define earth-tone palette\n",
    "denver_palette = ['#DBEFBC', '#AEC1D7', '#8093F1', '#72DDF7', '#E8AEB7', '#FAA381']\n",
    "sns.set_palette(denver_palette)\n",
    "\n",
    "# Define custom colormap for heatmap\n",
    "colors = ['#DBEFBC', '#DFDFBB', '#E2CFBA', '#E5BFB9', '#E8AEB7']  \n",
    "denver_cmap = mcolors.LinearSegmentedColormap.from_list(\"denver_cmap\", colors)"
   ]
  },
  {
   "cell_type": "code",
   "execution_count": null,
   "id": "dc4efdc7-98f8-4f78-adf3-20eb831df598",
   "metadata": {},
   "outputs": [],
   "source": [
    "os.getcwd()"
   ]
  },
  {
   "cell_type": "code",
   "execution_count": null,
   "id": "c4c3c536-0134-4963-bc26-0eeac5141333",
   "metadata": {},
   "outputs": [],
   "source": [
    "# Initialize Spark session\n",
    "spark = (SparkSession\n",
    "         .builder\n",
    "         .appName(\"OpenLib EDA\")\n",
    "         .master(\"local[*]\")\n",
    "         .config(\"spark.sql.shuffle.partitions\", \"200\")\n",
    "         .getOrCreate()\n",
    "        )\n",
    "\n",
    "# spark = SparkSession.builder \\\n",
    "#     .appName(\"Open Library EDA\") \\\n",
    "#     .master(\"local[*]\") \\\n",
    "#     .config(\"spark.driver.memory\", \"10g\") \\\n",
    "#     .config(\"spark.executor.memory\", \"6g\") \\\n",
    "#     .config(\"spark.memory.offHeap.enabled\", \"true\") \\\n",
    "#     .config(\"spark.memory.offHeap.size\", \"4g\") \\\n",
    "#     .config(\"spark.sql.shuffle.partitions\", \"200\") \\\n",
    "#     .config(\"spark.default.parallelism\", \"200\") \\\n",
    "#     .getOrCreate()"
   ]
  },
  {
   "cell_type": "markdown",
   "id": "6dbd043e-5146-4e5a-bcd6-3b33b82846e2",
   "metadata": {},
   "source": [
    "# Load partitioned DataFrames"
   ]
  },
  {
   "cell_type": "code",
   "execution_count": null,
   "id": "6b2c6896-8149-47b6-be7f-87165278dec6",
   "metadata": {},
   "outputs": [],
   "source": [
    "eds_output_path = \"/home/msds2025/jvalera/bdcc2025/bdcc-lab-openlib/partitioned_data/eds_partitioned\"\n",
    "# works_output_path = \"/home/msds2025/jvalera/bdcc2025/bdcc-lab-openlib/partitioned_data/works_partitioned\"\n",
    "authors_output_path = \"/home/msds2025/jvalera/bdcc2025/bdcc-lab-openlib/partitioned_data/authors_partitioned\"\n",
    "\n",
    "df_eds_final = spark.read.parquet(eds_output_path)\n",
    "# df_works_final = spark.read.parquet(works_output_path)\n",
    "df_authors_final = spark.read.parquet(authors_output_path).select(\"author_key\", \"name\").distinct()\n"
   ]
  },
  {
   "cell_type": "code",
   "execution_count": null,
   "id": "2291b4c8-f148-467b-a1f3-5b9f11f59bd6",
   "metadata": {},
   "outputs": [],
   "source": [
    "# Inspect schemas\n",
    "df_eds_final.printSchema()\n",
    "# df_works_final.printSchema()\n",
    "df_authors_final.printSchema()"
   ]
  },
  {
   "cell_type": "markdown",
   "id": "16229226-cf7a-4692-96f4-dae0effa2ab6",
   "metadata": {},
   "source": [
    "# Preprocessing"
   ]
  },
  {
   "cell_type": "code",
   "execution_count": null,
   "id": "628d3b2e-25f3-4092-b4b7-f20d5e8ee0bf",
   "metadata": {},
   "outputs": [],
   "source": [
    "\"\"\" df_eds 1 will be used for:\n",
    "    timeline\n",
    "    top countries (all time)\n",
    "    top subjects (all time)\n",
    "    top subjects per top country (all time)\n",
    "    top countries per top subject (all time)\n",
    "    top countries per decade\n",
    "    top subjects per decade\n",
    "    top subjects per top country per decade\n",
    "    top counties per top subject per decade\n",
    "\n",
    "    note: make sure to explode subjects for subject-related tasks\n",
    "\"\"\"\n",
    "df_eds1 = (df_eds_final\n",
    "                .withColumn(\"year\", \n",
    "                            when(regexp_extract(col(\"publish_date\"), r\"(\\d{4})\", 1) != \"\",\n",
    "                                 regexp_extract(col(\"publish_date\"), r\"(\\d{4})\", 1)\n",
    "                                ).otherwise(None)\n",
    "                           )\n",
    "                .withColumn(\"decade\",\n",
    "                            when(col(\"year\").isNotNull(),\n",
    "                                 concat((floor(col(\"year\") / 10) * 10).cast(\"string\"), lit(\"s\"))\n",
    "                                ).otherwise(lit(\"Unknown\"))\n",
    "                           )\n",
    "                .filter(col(\"year\").isNotNull() & col(\"year\").between(1900, 2020))\n",
    "                .withColumn(\"publish_country\",\n",
    "                            lower(regexp_replace(col(\"publish_country\"), r\"^-\", \"\"))\n",
    "                           )\n",
    "                .join(broadcast(spark.createDataFrame(list(country_mapping.items()),[\"publish_country\", \"country\"])),\n",
    "                      on=\"publish_country\",\n",
    "                      how=\"left\"\n",
    "                     )\n",
    "                .withColumn(\"country\",\n",
    "                            when(col(\"country\").isNotNull(),\n",
    "                                 col(\"country\")\n",
    "                                ).otherwise(lit(\"Unknown\"))\n",
    "                           )\n",
    "                .select(\"decade\", \"country\", \"subjects\")\n",
    "               )"
   ]
  },
  {
   "cell_type": "code",
   "execution_count": null,
   "id": "51a69853-6b71-4369-8ac0-b15e15e6022e",
   "metadata": {},
   "outputs": [],
   "source": [
    "df_eds1.columns"
   ]
  },
  {
   "cell_type": "markdown",
   "id": "e4ac2aed-c32a-48d2-80b0-303cda5808c3",
   "metadata": {
    "execution": {
     "iopub.execute_input": "2025-05-12T11:46:56.810624Z",
     "iopub.status.busy": "2025-05-12T11:46:56.809576Z",
     "iopub.status.idle": "2025-05-12T11:46:56.818558Z",
     "shell.execute_reply": "2025-05-12T11:46:56.816950Z",
     "shell.execute_reply.started": "2025-05-12T11:46:56.810499Z"
    }
   },
   "source": [
    "# Descriptives"
   ]
  },
  {
   "cell_type": "markdown",
   "id": "d5a362d0-63ca-4d6e-a005-df2d800b02aa",
   "metadata": {},
   "source": [
    "## 1. Timeline of Editions by Decade (1900-2025)"
   ]
  },
  {
   "cell_type": "code",
   "execution_count": 54,
   "id": "b2adaa0f-0c15-49cd-9945-e8d03220af3e",
   "metadata": {
    "execution": {
     "iopub.status.idle": "2025-05-12T13:39:36.224884Z",
     "shell.execute_reply": "2025-05-12T13:39:36.223802Z",
     "shell.execute_reply.started": "2025-05-12T13:39:05.605254Z"
    }
   },
   "outputs": [
    {
     "name": "stdout",
     "output_type": "stream",
     "text": [
      "Total Number of Publications from 1900-2025: 136,386,008\n"
     ]
    }
   ],
   "source": [
    "print(f\"Total Number of Publications from 1900-2025: {df_eds1.count():,}\")"
   ]
  },
  {
   "cell_type": "code",
   "execution_count": 55,
   "id": "3ccc6114-a337-4eb2-bdcc-f199d3bdbaad",
   "metadata": {
    "execution": {
     "iopub.execute_input": "2025-05-12T13:39:36.226942Z",
     "iopub.status.busy": "2025-05-12T13:39:36.226303Z",
     "iopub.status.idle": "2025-05-12T13:40:18.311841Z",
     "shell.execute_reply": "2025-05-12T13:40:18.310155Z",
     "shell.execute_reply.started": "2025-05-12T13:39:36.226885Z"
    }
   },
   "outputs": [],
   "source": [
    "df_decade_counts = (df_eds1\n",
    "                    .groupBy(\"decade\")\n",
    "                    .count()\n",
    "                    .orderBy(\"decade\")\n",
    "                    .toPandas()\n",
    "                   )"
   ]
  },
  {
   "cell_type": "code",
   "execution_count": 56,
   "id": "95d5966b-ac94-4657-a1ac-877ca9857bb0",
   "metadata": {
    "execution": {
     "iopub.execute_input": "2025-05-12T13:40:18.320344Z",
     "iopub.status.busy": "2025-05-12T13:40:18.319737Z",
     "iopub.status.idle": "2025-05-12T13:40:18.334473Z",
     "shell.execute_reply": "2025-05-12T13:40:18.333446Z",
     "shell.execute_reply.started": "2025-05-12T13:40:18.320299Z"
    }
   },
   "outputs": [
    {
     "data": {
      "text/html": [
       "<div>\n",
       "<style scoped>\n",
       "    .dataframe tbody tr th:only-of-type {\n",
       "        vertical-align: middle;\n",
       "    }\n",
       "\n",
       "    .dataframe tbody tr th {\n",
       "        vertical-align: top;\n",
       "    }\n",
       "\n",
       "    .dataframe thead th {\n",
       "        text-align: right;\n",
       "    }\n",
       "</style>\n",
       "<table border=\"1\" class=\"dataframe\">\n",
       "  <thead>\n",
       "    <tr style=\"text-align: right;\">\n",
       "      <th></th>\n",
       "      <th>decade</th>\n",
       "      <th>count</th>\n",
       "    </tr>\n",
       "  </thead>\n",
       "  <tbody>\n",
       "    <tr>\n",
       "      <th>0</th>\n",
       "      <td>1900s</td>\n",
       "      <td>1974567</td>\n",
       "    </tr>\n",
       "    <tr>\n",
       "      <th>1</th>\n",
       "      <td>1910s</td>\n",
       "      <td>1748241</td>\n",
       "    </tr>\n",
       "    <tr>\n",
       "      <th>2</th>\n",
       "      <td>1920s</td>\n",
       "      <td>1717966</td>\n",
       "    </tr>\n",
       "    <tr>\n",
       "      <th>3</th>\n",
       "      <td>1930s</td>\n",
       "      <td>1790097</td>\n",
       "    </tr>\n",
       "    <tr>\n",
       "      <th>4</th>\n",
       "      <td>1940s</td>\n",
       "      <td>1859055</td>\n",
       "    </tr>\n",
       "    <tr>\n",
       "      <th>5</th>\n",
       "      <td>1950s</td>\n",
       "      <td>2883122</td>\n",
       "    </tr>\n",
       "    <tr>\n",
       "      <th>6</th>\n",
       "      <td>1960s</td>\n",
       "      <td>6850482</td>\n",
       "    </tr>\n",
       "    <tr>\n",
       "      <th>7</th>\n",
       "      <td>1970s</td>\n",
       "      <td>12540296</td>\n",
       "    </tr>\n",
       "    <tr>\n",
       "      <th>8</th>\n",
       "      <td>1980s</td>\n",
       "      <td>19159663</td>\n",
       "    </tr>\n",
       "    <tr>\n",
       "      <th>9</th>\n",
       "      <td>1990s</td>\n",
       "      <td>26108903</td>\n",
       "    </tr>\n",
       "    <tr>\n",
       "      <th>10</th>\n",
       "      <td>2000s</td>\n",
       "      <td>35754366</td>\n",
       "    </tr>\n",
       "    <tr>\n",
       "      <th>11</th>\n",
       "      <td>2010s</td>\n",
       "      <td>21611418</td>\n",
       "    </tr>\n",
       "    <tr>\n",
       "      <th>12</th>\n",
       "      <td>2020s</td>\n",
       "      <td>2387832</td>\n",
       "    </tr>\n",
       "  </tbody>\n",
       "</table>\n",
       "</div>"
      ],
      "text/plain": [
       "   decade     count\n",
       "0   1900s   1974567\n",
       "1   1910s   1748241\n",
       "2   1920s   1717966\n",
       "3   1930s   1790097\n",
       "4   1940s   1859055\n",
       "5   1950s   2883122\n",
       "6   1960s   6850482\n",
       "7   1970s  12540296\n",
       "8   1980s  19159663\n",
       "9   1990s  26108903\n",
       "10  2000s  35754366\n",
       "11  2010s  21611418\n",
       "12  2020s   2387832"
      ]
     },
     "execution_count": 56,
     "metadata": {},
     "output_type": "execute_result"
    }
   ],
   "source": [
    "df_decade_counts"
   ]
  },
  {
   "cell_type": "code",
   "execution_count": 57,
   "id": "c84a8d30-2fe2-4952-a05b-a3668db9ac4d",
   "metadata": {
    "execution": {
     "iopub.execute_input": "2025-05-12T13:40:18.335556Z",
     "iopub.status.busy": "2025-05-12T13:40:18.335211Z",
     "iopub.status.idle": "2025-05-12T13:40:18.626278Z",
     "shell.execute_reply": "2025-05-12T13:40:18.625476Z",
     "shell.execute_reply.started": "2025-05-12T13:40:18.335523Z"
    }
   },
   "outputs": [
    {
     "data": {
      "image/png": "[encoded data removed]",
      "text/plain": [
       "<Figure size 1200x600 with 1 Axes>"
      ]
     },
     "metadata": {},
     "output_type": "display_data"
    },
    {
     "data": {
      "text/plain": [
       "<Figure size 640x480 with 0 Axes>"
      ]
     },
     "metadata": {},
     "output_type": "display_data"
    }
   ],
   "source": [
    "# Plot Timeline\n",
    "plt.figure(figsize=(12, 6))\n",
    "sns.barplot(x=\"decade\", y=\"count\", data=df_decade_counts, color=\"#8093F1\")\n",
    "plt.title(\"Editions Published per Decade (1900–2025)\")\n",
    "plt.xlabel(\"Decades\")\n",
    "plt.ylabel(\"Number of Publications\")\n",
    "# plt.xticks(rotation=45)\n",
    "plt.tight_layout()\n",
    "plt.show()\n",
    "plt.savefig(\"/home/msds2025/jvalera/bdcc2025/bdcc-lab-openlib/plots/decade_counts.png\")"
   ]
  },
  {
   "cell_type": "markdown",
   "id": "2b9fb271-37fd-44e5-90c7-9adb52300c8d",
   "metadata": {},
   "source": [
    "# 2. Countries with the Most Publications (1900-2025)"
   ]
  },
  {
   "cell_type": "code",
   "execution_count": 58,
   "id": "037cbf0e-16f3-40a3-9f27-ddb2d0a863c1",
   "metadata": {
    "execution": {
     "iopub.execute_input": "2025-05-12T13:40:18.627247Z",
     "iopub.status.busy": "2025-05-12T13:40:18.627037Z",
     "iopub.status.idle": "2025-05-12T13:40:53.986381Z",
     "shell.execute_reply": "2025-05-12T13:40:53.985099Z",
     "shell.execute_reply.started": "2025-05-12T13:40:18.627227Z"
    }
   },
   "outputs": [],
   "source": [
    "df_country_counts = (df_eds1\n",
    "                     .filter(col(\"country\") != \"Unknown\")\n",
    "                     .withColumn(\"country\",\n",
    "                                 when(col(\"country\") == \"United States of America\", \"USA\")\n",
    "                                 .when(col(\"country\") == \"United Kingdom\", \"UK\")\n",
    "                                 .otherwise(col(\"country\")))\n",
    "                     .groupBy(\"country\")\n",
    "                     .count()\n",
    "                     .orderBy(col(\"count\").desc())\n",
    "                     .limit(20)\n",
    "                     .toPandas()\n",
    "                    )"
   ]
  },
  {
   "cell_type": "code",
   "execution_count": 59,
   "id": "ad8e9f80-d671-49ec-8c4a-6cefc1520c8a",
   "metadata": {
    "execution": {
     "iopub.execute_input": "2025-05-12T13:40:53.988699Z",
     "iopub.status.busy": "2025-05-12T13:40:53.988024Z",
     "iopub.status.idle": "2025-05-12T13:40:54.004666Z",
     "shell.execute_reply": "2025-05-12T13:40:54.003163Z",
     "shell.execute_reply.started": "2025-05-12T13:40:53.988641Z"
    }
   },
   "outputs": [
    {
     "data": {
      "text/html": [
       "<div>\n",
       "<style scoped>\n",
       "    .dataframe tbody tr th:only-of-type {\n",
       "        vertical-align: middle;\n",
       "    }\n",
       "\n",
       "    .dataframe tbody tr th {\n",
       "        vertical-align: top;\n",
       "    }\n",
       "\n",
       "    .dataframe thead th {\n",
       "        text-align: right;\n",
       "    }\n",
       "</style>\n",
       "<table border=\"1\" class=\"dataframe\">\n",
       "  <thead>\n",
       "    <tr style=\"text-align: right;\">\n",
       "      <th></th>\n",
       "      <th>country</th>\n",
       "      <th>count</th>\n",
       "    </tr>\n",
       "  </thead>\n",
       "  <tbody>\n",
       "    <tr>\n",
       "      <th>0</th>\n",
       "      <td>USA</td>\n",
       "      <td>30666409</td>\n",
       "    </tr>\n",
       "    <tr>\n",
       "      <th>1</th>\n",
       "      <td>UK</td>\n",
       "      <td>10843031</td>\n",
       "    </tr>\n",
       "    <tr>\n",
       "      <th>2</th>\n",
       "      <td>Canada</td>\n",
       "      <td>2863827</td>\n",
       "    </tr>\n",
       "    <tr>\n",
       "      <th>3</th>\n",
       "      <td>Russia</td>\n",
       "      <td>935869</td>\n",
       "    </tr>\n",
       "    <tr>\n",
       "      <th>4</th>\n",
       "      <td>Germany</td>\n",
       "      <td>905490</td>\n",
       "    </tr>\n",
       "    <tr>\n",
       "      <th>5</th>\n",
       "      <td>China</td>\n",
       "      <td>901327</td>\n",
       "    </tr>\n",
       "    <tr>\n",
       "      <th>6</th>\n",
       "      <td>France</td>\n",
       "      <td>516194</td>\n",
       "    </tr>\n",
       "    <tr>\n",
       "      <th>7</th>\n",
       "      <td>Japan</td>\n",
       "      <td>409248</td>\n",
       "    </tr>\n",
       "    <tr>\n",
       "      <th>8</th>\n",
       "      <td>Italy</td>\n",
       "      <td>333223</td>\n",
       "    </tr>\n",
       "    <tr>\n",
       "      <th>9</th>\n",
       "      <td>Korea (South)</td>\n",
       "      <td>220803</td>\n",
       "    </tr>\n",
       "    <tr>\n",
       "      <th>10</th>\n",
       "      <td>Israel</td>\n",
       "      <td>204665</td>\n",
       "    </tr>\n",
       "    <tr>\n",
       "      <th>11</th>\n",
       "      <td>Ukraine</td>\n",
       "      <td>157261</td>\n",
       "    </tr>\n",
       "    <tr>\n",
       "      <th>12</th>\n",
       "      <td>Netherlands</td>\n",
       "      <td>151143</td>\n",
       "    </tr>\n",
       "    <tr>\n",
       "      <th>13</th>\n",
       "      <td>India</td>\n",
       "      <td>147354</td>\n",
       "    </tr>\n",
       "    <tr>\n",
       "      <th>14</th>\n",
       "      <td>Spain</td>\n",
       "      <td>141271</td>\n",
       "    </tr>\n",
       "    <tr>\n",
       "      <th>15</th>\n",
       "      <td>Switzerland</td>\n",
       "      <td>110421</td>\n",
       "    </tr>\n",
       "    <tr>\n",
       "      <th>16</th>\n",
       "      <td>Poland</td>\n",
       "      <td>106781</td>\n",
       "    </tr>\n",
       "    <tr>\n",
       "      <th>17</th>\n",
       "      <td>Egypt</td>\n",
       "      <td>85059</td>\n",
       "    </tr>\n",
       "    <tr>\n",
       "      <th>18</th>\n",
       "      <td>Brazil</td>\n",
       "      <td>72293</td>\n",
       "    </tr>\n",
       "    <tr>\n",
       "      <th>19</th>\n",
       "      <td>Turkey</td>\n",
       "      <td>72183</td>\n",
       "    </tr>\n",
       "  </tbody>\n",
       "</table>\n",
       "</div>"
      ],
      "text/plain": [
       "          country     count\n",
       "0             USA  30666409\n",
       "1              UK  10843031\n",
       "2          Canada   2863827\n",
       "3          Russia    935869\n",
       "4         Germany    905490\n",
       "5           China    901327\n",
       "6          France    516194\n",
       "7           Japan    409248\n",
       "8           Italy    333223\n",
       "9   Korea (South)    220803\n",
       "10         Israel    204665\n",
       "11        Ukraine    157261\n",
       "12    Netherlands    151143\n",
       "13          India    147354\n",
       "14          Spain    141271\n",
       "15    Switzerland    110421\n",
       "16         Poland    106781\n",
       "17          Egypt     85059\n",
       "18         Brazil     72293\n",
       "19         Turkey     72183"
      ]
     },
     "execution_count": 59,
     "metadata": {},
     "output_type": "execute_result"
    }
   ],
   "source": [
    "df_country_counts"
   ]
  },
  {
   "cell_type": "code",
   "execution_count": 60,
   "id": "d9e70e35-1d63-421e-a63e-7736c0c44ed1",
   "metadata": {
    "execution": {
     "iopub.execute_input": "2025-05-12T13:40:54.006528Z",
     "iopub.status.busy": "2025-05-12T13:40:54.006074Z",
     "iopub.status.idle": "2025-05-12T13:40:54.348819Z",
     "shell.execute_reply": "2025-05-12T13:40:54.347834Z",
     "shell.execute_reply.started": "2025-05-12T13:40:54.006487Z"
    }
   },
   "outputs": [
    {
     "data": {
      "image/png": "[encoded data removed]",
      "text/plain": [
       "<Figure size 1200x600 with 1 Axes>"
      ]
     },
     "metadata": {},
     "output_type": "display_data"
    },
    {
     "data": {
      "text/plain": [
       "<Figure size 640x480 with 0 Axes>"
      ]
     },
     "metadata": {},
     "output_type": "display_data"
    }
   ],
   "source": [
    "# Plot Top Countries\n",
    "plt.figure(figsize=(12, 6))\n",
    "sns.barplot(x=\"country\", y=\"count\", data=df_country_counts, color=\"#8093F1\")\n",
    "plt.title(\"Top 20 Countries with Most Publications (1900–2025)\")\n",
    "plt.xlabel(\"Countries\")\n",
    "plt.ylabel(\"Number of Publications\")\n",
    "plt.xticks(rotation=45)\n",
    "plt.tight_layout()\n",
    "plt.show()\n",
    "plt.savefig(\"/home/msds2025/jvalera/bdcc2025/bdcc-lab-openlib/plots/country_counts.png\")"
   ]
  },
  {
   "cell_type": "code",
   "execution_count": 61,
   "id": "3fd8c64a-169e-435b-8ede-30b3ef8649c1",
   "metadata": {
    "execution": {
     "iopub.execute_input": "2025-05-12T13:40:54.349685Z",
     "iopub.status.busy": "2025-05-12T13:40:54.349476Z",
     "iopub.status.idle": "2025-05-12T13:40:54.357956Z",
     "shell.execute_reply": "2025-05-12T13:40:54.356527Z",
     "shell.execute_reply.started": "2025-05-12T13:40:54.349666Z"
    }
   },
   "outputs": [
    {
     "data": {
      "text/plain": [
       "\"Just for fun, here's the full list! Uncomment if you're bored!\""
      ]
     },
     "execution_count": 61,
     "metadata": {},
     "output_type": "execute_result"
    }
   ],
   "source": [
    "\"\"\"Just for fun, here's the full list! Uncomment if you're bored!\"\"\"\n",
    "\n",
    "# df_country_counts_full = (df_eds1\n",
    "#                      .filter(col(\"country\") != \"Unknown\")\n",
    "#                      .withColumn(\"country\",\n",
    "#                                  when(col(\"country\") == \"United States of America\", \"USA\")\n",
    "#                                  .when(col(\"country\") == \"United Kingdom\", \"UK\")\n",
    "#                                  .otherwise(col(\"country\")))\n",
    "#                      .groupBy(\"country\")\n",
    "#                      .count()\n",
    "#                      .orderBy(col(\"count\").desc())\n",
    "#                      .toPandas()\n",
    "#                     )\n",
    "# df_country_counts_full.to_csv(\"/home/msds2025/jvalera/bdcc2025/bdcc-lab-openlib/extras/full_country_counts.csv\", index=False)\n"
   ]
  },
  {
   "cell_type": "markdown",
   "id": "ee8421ca-4bfd-4715-ac05-f434ef3947ec",
   "metadata": {},
   "source": [
    "## 3. Top Subjects Globally (1900-2025)"
   ]
  },
  {
   "cell_type": "code",
   "execution_count": 62,
   "id": "e65b22a3-b1c9-4c86-b5ea-33563f95315e",
   "metadata": {
    "execution": {
     "iopub.execute_input": "2025-05-12T13:40:54.358752Z",
     "iopub.status.busy": "2025-05-12T13:40:54.358557Z",
     "iopub.status.idle": "2025-05-12T13:40:54.365866Z",
     "shell.execute_reply": "2025-05-12T13:40:54.364473Z",
     "shell.execute_reply.started": "2025-05-12T13:40:54.358734Z"
    }
   },
   "outputs": [],
   "source": [
    "\"\"\" Let's clean up the subjects first. \"\"\"\n",
    "spark.conf.set(\"spark.sql.execution.arrow.pyspark.enabled\", \"true\")\n",
    "\n",
    "# Initialize NLTK resources\n",
    "stop_words = set(stopwords.words('english'))\n",
    "lemmatizer = WordNetLemmatizer()"
   ]
  },
  {
   "cell_type": "code",
   "execution_count": 63,
   "id": "9cdeffc9-dcee-446d-989b-8af5f5213572",
   "metadata": {
    "execution": {
     "iopub.execute_input": "2025-05-12T13:40:54.367986Z",
     "iopub.status.busy": "2025-05-12T13:40:54.367384Z",
     "iopub.status.idle": "2025-05-12T13:40:54.380495Z",
     "shell.execute_reply": "2025-05-12T13:40:54.378884Z",
     "shell.execute_reply.started": "2025-05-12T13:40:54.367932Z"
    }
   },
   "outputs": [],
   "source": [
    "@udf(returnType=StringType())\n",
    "def clean_subject(subject):\n",
    "    if not subject:\n",
    "        return None\n",
    "    # Lowercase and remove special characters\n",
    "    subject = subject.lower()\n",
    "    subject = re.sub(r'[^a-z\\s]', ' ', subject)\n",
    "    # Tokenize\n",
    "    tokens = word_tokenize(subject)\n",
    "    # Remove stopwords, short tokens, and lemmatize\n",
    "    tokens = [lemmatizer.lemmatize(token) for token in tokens if token not in stop_words and len(token) >= 3]\n",
    "    # Map synonyms\n",
    "    tokens = [synonym_map.get(token, token) for token in tokens]\n",
    "    # Remove duplicates and join\n",
    "    tokens = list(dict.fromkeys(tokens))  # Preserve order\n",
    "    return ' '.join(tokens) if tokens else None"
   ]
  },
  {
   "cell_type": "code",
   "execution_count": 64,
   "id": "3d69c1a3-831d-46ea-87c0-79938984fdde",
   "metadata": {
    "execution": {
     "iopub.execute_input": "2025-05-12T13:40:54.382355Z",
     "iopub.status.busy": "2025-05-12T13:40:54.381847Z",
     "iopub.status.idle": "2025-05-12T13:40:54.522693Z",
     "shell.execute_reply": "2025-05-12T13:40:54.520743Z",
     "shell.execute_reply.started": "2025-05-12T13:40:54.382306Z"
    }
   },
   "outputs": [],
   "source": [
    "df_subject_counts = (df_eds1\n",
    "                     .withColumn(\"subject\", explode(col(\"subjects\")))\n",
    "                     .filter(col(\"subject\").isNotNull())\n",
    "                     .withColumn(\"cleaned_subject\", clean_subject(col(\"subject\")))\n",
    "                     .filter(col(\"cleaned_subject\").isNotNull())\n",
    "                     .groupBy(\"cleaned_subject\")\n",
    "                     .count()\n",
    "                     .orderBy(col(\"count\").desc())\n",
    "                     .limit(50)\n",
    "                     .cache()\n",
    "                    )"
   ]
  },
  {
   "cell_type": "code",
   "execution_count": null,
   "id": "4dac7f84-8ec7-47a9-81df-a8e1f949c6a4",
   "metadata": {},
   "outputs": [],
   "source": []
  }
 ],
 "metadata": {
  "kernelspec": {
   "display_name": "Python [conda env:base] *",
   "language": "python",
   "name": "conda-base-py"
  },
  "language_info": {
   "codemirror_mode": {
    "name": "ipython",
    "version": 3
   },
   "file_extension": ".py",
   "mimetype": "text/x-python",
   "name": "python",
   "nbconvert_exporter": "python",
   "pygments_lexer": "ipython3",
   "version": "3.12.8"
  }
 },
 "nbformat": 4,
 "nbformat_minor": 5
}
