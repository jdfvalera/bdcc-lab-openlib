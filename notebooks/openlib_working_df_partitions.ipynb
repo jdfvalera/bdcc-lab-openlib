{
 "cells": [
  {
   "cell_type": "code",
   "execution_count": 1,
   "id": "3389f3cd-ce1f-4fe2-9621-4aca782f4ae8",
   "metadata": {
    "execution": {
     "iopub.execute_input": "2025-05-18T11:26:18.431519Z",
     "iopub.status.busy": "2025-05-18T11:26:18.431279Z",
     "iopub.status.idle": "2025-05-18T11:26:18.850216Z",
     "shell.execute_reply": "2025-05-18T11:26:18.849261Z",
     "shell.execute_reply.started": "2025-05-18T11:26:18.431495Z"
    }
   },
   "outputs": [],
   "source": [
    "# Imports\n",
    "import sys\n",
    "import os\n",
    "sys.path.append(os.path.abspath('/home/msds2025/jvalera/bdcc2025/bdcc-lab-openlib/scripts'))\n",
    "from marc21_countries import country_mapping\n",
    "\n",
    "from pyspark.sql import SparkSession\n",
    "from pyspark.sql.functions import (\n",
    "    col, when, regexp_extract, regexp_replace, floor, lit, lower, explode, concat, array_contains,\n",
    "    broadcast, transform, split, trim, lower, flatten, array_distinct, size, expr\n",
    ")"
   ]
  },
  {
   "cell_type": "code",
   "execution_count": 2,
   "id": "33c7dff3-25b2-4f6b-862d-073468dbb7ff",
   "metadata": {
    "execution": {
     "iopub.execute_input": "2025-05-18T11:26:18.851060Z",
     "iopub.status.busy": "2025-05-18T11:26:18.850784Z",
     "iopub.status.idle": "2025-05-18T11:26:25.147316Z",
     "shell.execute_reply": "2025-05-18T11:26:25.145767Z",
     "shell.execute_reply.started": "2025-05-18T11:26:18.851039Z"
    }
   },
   "outputs": [],
   "source": [
    "spark = (SparkSession\n",
    "         .builder\n",
    "         .appName(\"Working Dataframe Creation\")\n",
    "         .master(\"local[*]\")\n",
    "         .config(\"spark.driver.memory\", \"16g\")\n",
    "         .config(\"spark.driver.maxResultSize\", \"2g\")\n",
    "         .config(\"spark.executor.memory\", \"8g\")\n",
    "         .config(\"spark.executor.cores\", \"4\")\n",
    "         .config(\"spark.sql.shuffle.partitions\", \"32\")\n",
    "         .config(\"spark.default.parallelism\", \"32\")\n",
    "         .config(\"spark.sql.adaptive.enabled\", \"true\")\n",
    "         .config(\"spark.memory.offHeap.enabled\", \"true\")\n",
    "         .config(\"spark.memory.offHeap.size\", \"4g\")\n",
    "         .config(\"spark.sql.autoBroadcastJoinThreshold\", \"-1\")\n",
    "         .getOrCreate()\n",
    "        )"
   ]
  },
  {
   "cell_type": "code",
   "execution_count": 3,
   "id": "7087487f-f7f5-4a41-a477-719e728aefe5",
   "metadata": {
    "execution": {
     "iopub.execute_input": "2025-05-18T11:26:25.152155Z",
     "iopub.status.busy": "2025-05-18T11:26:25.151154Z",
     "iopub.status.idle": "2025-05-18T11:26:29.261593Z",
     "shell.execute_reply": "2025-05-18T11:26:29.260511Z",
     "shell.execute_reply.started": "2025-05-18T11:26:25.152082Z"
    }
   },
   "outputs": [],
   "source": [
    "eds_output_path = \"/home/msds2025/jvalera/bdcc2025/bdcc-lab-openlib/partitioned_data/eds_partitioned\"\n",
    "df_eds_final = spark.read.parquet(eds_output_path)"
   ]
  },
  {
   "cell_type": "code",
   "execution_count": 4,
   "id": "baf7d2db-9326-4ec3-aa56-30ab3f7a0cd0",
   "metadata": {
    "execution": {
     "iopub.execute_input": "2025-05-18T11:26:29.262708Z",
     "iopub.status.busy": "2025-05-18T11:26:29.262463Z",
     "iopub.status.idle": "2025-05-18T11:26:30.261658Z",
     "shell.execute_reply": "2025-05-18T11:26:30.260700Z",
     "shell.execute_reply.started": "2025-05-18T11:26:29.262686Z"
    }
   },
   "outputs": [],
   "source": [
    "from pyspark.sql.functions import (\n",
    "    col, lit, lower, regexp_replace, trim, when, regexp_extract,\n",
    "    floor, broadcast, split, array_distinct, flatten, transform, filter as spark_filter\n",
    ")\n",
    "\n",
    "df_eds = (df_eds_final\n",
    "    .withColumn(\"year\",\n",
    "        when(regexp_extract(col(\"publish_date\"), r\"(\\d{4})\", 1) != \"\",\n",
    "             regexp_extract(col(\"publish_date\"), r\"(\\d{4})\", 1))\n",
    "        .otherwise(None))\n",
    "    .withColumn(\"decade\",\n",
    "        when(col(\"year\").isNotNull(),\n",
    "             concat((floor(col(\"year\") / 10) * 10).cast(\"string\"), lit(\"s\")))\n",
    "        .otherwise(lit(\"Unknown\")))\n",
    "    .filter(col(\"year\").isNotNull() & col(\"year\").between(1900, 2020))\n",
    "    .withColumn(\"publish_country\",\n",
    "        lower(regexp_replace(col(\"publish_country\"), r\"^-\", \"\"))) \n",
    "    .join(\n",
    "        broadcast(spark.createDataFrame(list(country_mapping.items()), [\"publish_country\", \"country\"])),\n",
    "        on=\"publish_country\",\n",
    "        how=\"left\")\n",
    "    .withColumn(\"country\",\n",
    "        when(col(\"country\").isNotNull(), col(\"country\"))\n",
    "        .otherwise(lit(\"Unknown\")))\n",
    "    .withColumn(\"subjects_cleaned\",\n",
    "        transform(col(\"subjects\"),\n",
    "            lambda s: trim(lower(\n",
    "                regexp_replace(\n",
    "                    regexp_replace(\n",
    "                        regexp_replace(s, r\"\\.+\", \"\"),     \n",
    "                        r\"/\", \",\"),                        \n",
    "                    r\"\\s*-\\s*\", \",\")))))                  \n",
    "    .withColumn(\"subject_clean_flat\",\n",
    "        array_distinct(\n",
    "            flatten(\n",
    "                transform(col(\"subjects_cleaned\"),\n",
    "                          lambda s: split(s, \",\")))))\n",
    "    .withColumn(\"subject_clean\",\n",
    "        array_distinct(\n",
    "            spark_filter(\n",
    "                transform(col(\"subject_clean_flat\"),\n",
    "                    lambda s: when(~s.rlike(r\"^\\s*$\") & (lower(s) != \"etc\"),\n",
    "                                   trim(regexp_replace(s, r\"\\s+\", \" \")))\n",
    "                              .otherwise(None)),\n",
    "                lambda s: s.isNotNull())))\n",
    "    \n",
    "    .filter(size(col(\"subject_clean\")) > 0)\n",
    "    \n",
    "    .select(\"decade\", \"country\", \"subject_clean\")\n",
    ")\n"
   ]
  },
  {
   "cell_type": "code",
   "execution_count": 5,
   "id": "150d0559-0ce9-4594-a398-d0ffebae673f",
   "metadata": {
    "execution": {
     "iopub.execute_input": "2025-05-18T11:26:30.262794Z",
     "iopub.status.busy": "2025-05-18T11:26:30.262478Z",
     "iopub.status.idle": "2025-05-18T11:33:17.264396Z",
     "shell.execute_reply": "2025-05-18T11:33:17.263022Z",
     "shell.execute_reply.started": "2025-05-18T11:26:30.262773Z"
    }
   },
   "outputs": [],
   "source": [
    "# Partition and write\n",
    "output_dir = \"/home/msds2025/jvalera/bdcc2025/bdcc-lab-openlib/partitioned_data\"\n",
    "df_eds_path = f\"{output_dir}/df_eds_partitioned\"\n",
    "df_eds.write.parquet(df_eds_path, mode=\"overwrite\")"
   ]
  },
  {
   "cell_type": "code",
   "execution_count": 6,
   "id": "bb4a6738-4955-4574-b077-96fedd44cb1a",
   "metadata": {
    "execution": {
     "iopub.execute_input": "2025-05-18T11:33:17.265771Z",
     "iopub.status.busy": "2025-05-18T11:33:17.265439Z",
     "iopub.status.idle": "2025-05-18T11:33:17.330238Z",
     "shell.execute_reply": "2025-05-18T11:33:17.329302Z",
     "shell.execute_reply.started": "2025-05-18T11:33:17.265742Z"
    }
   },
   "outputs": [],
   "source": [
    "# Explode df_eds to make df_explode\n",
    "df_explode = (df_eds\n",
    "            .withColumn(\"subject\", explode(col(\"subject_clean\")))\n",
    "            .select(\"decade\", \"country\", \"subject\")\n",
    "            .filter(col(\"subject\").isNotNull())\n",
    "           )"
   ]
  },
  {
   "cell_type": "code",
   "execution_count": 7,
   "id": "85c42826-7e9d-4474-93ed-cce0543a4e15",
   "metadata": {
    "execution": {
     "iopub.execute_input": "2025-05-18T11:33:17.331371Z",
     "iopub.status.busy": "2025-05-18T11:33:17.331151Z",
     "iopub.status.idle": "2025-05-18T11:40:26.475280Z",
     "shell.execute_reply": "2025-05-18T11:40:26.473730Z",
     "shell.execute_reply.started": "2025-05-18T11:33:17.331351Z"
    }
   },
   "outputs": [],
   "source": [
    "df_exp_path = f\"{output_dir}/df_exp_partitioned\"\n",
    "df_explode.write.parquet(df_exp_path, mode=\"overwrite\")"
   ]
  },
  {
   "cell_type": "code",
   "execution_count": 8,
   "id": "b3e029e1-4063-4eef-8201-874bc34f650b",
   "metadata": {
    "execution": {
     "iopub.execute_input": "2025-05-18T11:40:26.478087Z",
     "iopub.status.busy": "2025-05-18T11:40:26.476987Z",
     "iopub.status.idle": "2025-05-18T11:40:27.459876Z",
     "shell.execute_reply": "2025-05-18T11:40:27.458140Z",
     "shell.execute_reply.started": "2025-05-18T11:40:26.478031Z"
    }
   },
   "outputs": [],
   "source": [
    "spark.stop()"
   ]
  },
  {
   "cell_type": "code",
   "execution_count": null,
   "id": "d6c15eac-0c59-46c9-9704-ed2d49c247b8",
   "metadata": {},
   "outputs": [],
   "source": []
  }
 ],
 "metadata": {
  "kernelspec": {
   "display_name": "Python [conda env:base] *",
   "language": "python",
   "name": "conda-base-py"
  },
  "language_info": {
   "codemirror_mode": {
    "name": "ipython",
    "version": 3
   },
   "file_extension": ".py",
   "mimetype": "text/x-python",
   "name": "python",
   "nbconvert_exporter": "python",
   "pygments_lexer": "ipython3",
   "version": "3.12.8"
  }
 },
 "nbformat": 4,
 "nbformat_minor": 5
}
