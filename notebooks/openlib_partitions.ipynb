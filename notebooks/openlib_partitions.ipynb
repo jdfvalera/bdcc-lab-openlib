{
 "cells": [
  {
   "cell_type": "code",
   "execution_count": 1,
   "id": "392ffff0-c5fa-41b6-9689-9319d00a9e1d",
   "metadata": {
    "execution": {
     "iopub.execute_input": "2025-05-11T08:40:51.619613Z",
     "iopub.status.busy": "2025-05-11T08:40:51.619414Z",
     "iopub.status.idle": "2025-05-11T08:40:52.410822Z",
     "shell.execute_reply": "2025-05-11T08:40:52.409421Z",
     "shell.execute_reply.started": "2025-05-11T08:40:51.619592Z"
    }
   },
   "outputs": [],
   "source": [
    "import os\n",
    "import pandas as pd\n",
    "from pyspark.sql import SparkSession\n",
    "from pyspark.sql.functions import split, col, from_json, transform, regexp_extract, when, lit, floor, concat, count\n",
    "from pyspark.sql.types import StructType, StructField, StringType, IntegerType, TimestampType, ArrayType"
   ]
  },
  {
   "cell_type": "code",
   "execution_count": 2,
   "id": "f754bb59-2a01-44a1-9d3e-54a03d61fd93",
   "metadata": {
    "execution": {
     "iopub.execute_input": "2025-05-11T08:40:52.411881Z",
     "iopub.status.busy": "2025-05-11T08:40:52.411546Z",
     "iopub.status.idle": "2025-05-11T08:40:52.421044Z",
     "shell.execute_reply": "2025-05-11T08:40:52.420420Z",
     "shell.execute_reply.started": "2025-05-11T08:40:52.411860Z"
    }
   },
   "outputs": [
    {
     "data": {
      "text/plain": [
       "'/home/msds2025/jvalera/bdcc2025/bdcc-lab-openlib/notebooks'"
      ]
     },
     "execution_count": 2,
     "metadata": {},
     "output_type": "execute_result"
    }
   ],
   "source": [
    "os.getcwd()"
   ]
  },
  {
   "cell_type": "code",
   "execution_count": 3,
   "id": "838ca0fe-f90c-4cf0-bd16-0b053434d65b",
   "metadata": {
    "execution": {
     "iopub.execute_input": "2025-05-11T08:40:52.421833Z",
     "iopub.status.busy": "2025-05-11T08:40:52.421637Z",
     "iopub.status.idle": "2025-05-11T08:40:52.424844Z",
     "shell.execute_reply": "2025-05-11T08:40:52.424326Z",
     "shell.execute_reply.started": "2025-05-11T08:40:52.421815Z"
    }
   },
   "outputs": [],
   "source": [
    "os.chdir('/home/msds2025/jvalera/bdcc2025/bdcc-lab-openlib/')"
   ]
  },
  {
   "cell_type": "code",
   "execution_count": 4,
   "id": "fd245b8a-b1f5-47c7-8bce-75dea9c9b043",
   "metadata": {
    "execution": {
     "iopub.execute_input": "2025-05-11T08:40:52.425718Z",
     "iopub.status.busy": "2025-05-11T08:40:52.425528Z",
     "iopub.status.idle": "2025-05-11T08:40:52.429026Z",
     "shell.execute_reply": "2025-05-11T08:40:52.428546Z",
     "shell.execute_reply.started": "2025-05-11T08:40:52.425701Z"
    }
   },
   "outputs": [],
   "source": [
    "def human_readable_size(size_bytes):\n",
    "    for unit in ['B', 'KB', 'MB', 'GB', 'TB']:\n",
    "        if size_bytes < 1024:\n",
    "            return f\"{size_bytes:.2f} {unit}\"\n",
    "        size_bytes /= 1024"
   ]
  },
  {
   "cell_type": "code",
   "execution_count": 5,
   "id": "44a573b8-7f20-4110-98d2-1866cc4446d1",
   "metadata": {
    "execution": {
     "iopub.execute_input": "2025-05-11T08:40:52.429815Z",
     "iopub.status.busy": "2025-05-11T08:40:52.429618Z",
     "iopub.status.idle": "2025-05-11T08:40:52.436297Z",
     "shell.execute_reply": "2025-05-11T08:40:52.435823Z",
     "shell.execute_reply.started": "2025-05-11T08:40:52.429797Z"
    }
   },
   "outputs": [
    {
     "name": "stdout",
     "output_type": "stream",
     "text": [
      "ol_cdump_latest.txt.gz: 41.89 GB\n"
     ]
    }
   ],
   "source": [
    "file_path = \"/mnt/data/public/openlibrary/20250426/ol_cdump_latest.txt.gz\"\n",
    "file_size_bytes = os.path.getsize(file_path)\n",
    "print(f\"ol_cdump_latest.txt.gz: {human_readable_size(file_size_bytes)}\")"
   ]
  },
  {
   "cell_type": "markdown",
   "id": "d8995630-fdbf-4383-aeb1-c57fbea0b21b",
   "metadata": {},
   "source": [
    "# Initialize Spark"
   ]
  },
  {
   "cell_type": "code",
   "execution_count": 6,
   "id": "826e8d3c-6723-4599-9a53-b3ea773b0f25",
   "metadata": {
    "execution": {
     "iopub.execute_input": "2025-05-11T08:40:52.438482Z",
     "iopub.status.busy": "2025-05-11T08:40:52.438273Z",
     "iopub.status.idle": "2025-05-11T08:40:58.228352Z",
     "shell.execute_reply": "2025-05-11T08:40:58.226535Z",
     "shell.execute_reply.started": "2025-05-11T08:40:52.438465Z"
    }
   },
   "outputs": [],
   "source": [
    "# Initialize Spark session\n",
    "spark = (SparkSession\n",
    "         .builder\n",
    "         .appName(\"Open Library Dataframes Creation\")\n",
    "         .master('local[*]')\n",
    "         .getOrCreate()\n",
    "        )"
   ]
  },
  {
   "cell_type": "markdown",
   "id": "b68c75ff-915f-48e7-a3f9-c310ce34c3b9",
   "metadata": {
    "execution": {
     "iopub.execute_input": "2025-05-09T10:10:54.155325Z",
     "iopub.status.busy": "2025-05-09T10:10:54.154656Z",
     "iopub.status.idle": "2025-05-09T10:10:54.162784Z",
     "shell.execute_reply": "2025-05-09T10:10:54.160866Z",
     "shell.execute_reply.started": "2025-05-09T10:10:54.155265Z"
    }
   },
   "source": [
    "# Prepare Dataframes"
   ]
  },
  {
   "cell_type": "code",
   "execution_count": 7,
   "id": "57966c7d-078a-4637-93d0-0feb6c66968a",
   "metadata": {
    "execution": {
     "iopub.execute_input": "2025-05-11T08:40:58.231262Z",
     "iopub.status.busy": "2025-05-11T08:40:58.230622Z",
     "iopub.status.idle": "2025-05-11T08:40:58.239675Z",
     "shell.execute_reply": "2025-05-11T08:40:58.238003Z",
     "shell.execute_reply.started": "2025-05-11T08:40:58.231194Z"
    }
   },
   "outputs": [],
   "source": [
    "pd.set_option(\"display.max_colwidth\",None)\n",
    "pd.set_option(\"display.max_columns\",None)"
   ]
  },
  {
   "cell_type": "code",
   "execution_count": 8,
   "id": "18af73a4-2ae5-4141-9d04-7b22d79c5a2f",
   "metadata": {
    "execution": {
     "iopub.execute_input": "2025-05-11T08:40:58.242473Z",
     "iopub.status.busy": "2025-05-11T08:40:58.241601Z",
     "iopub.status.idle": "2025-05-11T08:41:01.113303Z",
     "shell.execute_reply": "2025-05-11T08:41:01.112396Z",
     "shell.execute_reply.started": "2025-05-11T08:40:58.242419Z"
    }
   },
   "outputs": [],
   "source": [
    "file_path = \"/mnt/data/public/openlibrary/20250426/ol_cdump_latest.txt.gz\"\n",
    "\n",
    "df = spark.read.text(file_path)"
   ]
  },
  {
   "cell_type": "code",
   "execution_count": 9,
   "id": "32979b2e-8de5-4178-a335-6433c3e4305f",
   "metadata": {
    "execution": {
     "iopub.execute_input": "2025-05-11T08:41:01.114060Z",
     "iopub.status.busy": "2025-05-11T08:41:01.113852Z",
     "iopub.status.idle": "2025-05-11T08:41:01.862225Z",
     "shell.execute_reply": "2025-05-11T08:41:01.860839Z",
     "shell.execute_reply.started": "2025-05-11T08:41:01.114041Z"
    }
   },
   "outputs": [
    {
     "data": {
      "text/plain": [
       "1"
      ]
     },
     "execution_count": 9,
     "metadata": {},
     "output_type": "execute_result"
    }
   ],
   "source": [
    "df.rdd.getNumPartitions()"
   ]
  },
  {
   "cell_type": "code",
   "execution_count": 10,
   "id": "dbf5f079-10ca-422c-8f87-62fd903a6089",
   "metadata": {
    "execution": {
     "iopub.execute_input": "2025-05-11T08:41:01.864934Z",
     "iopub.status.busy": "2025-05-11T08:41:01.864071Z",
     "iopub.status.idle": "2025-05-11T08:41:03.275039Z",
     "shell.execute_reply": "2025-05-11T08:41:03.273667Z",
     "shell.execute_reply.started": "2025-05-11T08:41:01.864876Z"
    },
    "scrolled": true
   },
   "outputs": [
    {
     "data": {
      "text/html": [
       "<div>\n",
       "<style scoped>\n",
       "    .dataframe tbody tr th:only-of-type {\n",
       "        vertical-align: middle;\n",
       "    }\n",
       "\n",
       "    .dataframe tbody tr th {\n",
       "        vertical-align: top;\n",
       "    }\n",
       "\n",
       "    .dataframe thead th {\n",
       "        text-align: right;\n",
       "    }\n",
       "</style>\n",
       "<table border=\"1\" class=\"dataframe\">\n",
       "  <thead>\n",
       "    <tr style=\"text-align: right;\">\n",
       "      <th></th>\n",
       "      <th>record_type</th>\n",
       "      <th>key</th>\n",
       "      <th>revision</th>\n",
       "      <th>timestamp</th>\n",
       "      <th>json_data</th>\n",
       "    </tr>\n",
       "  </thead>\n",
       "  <tbody>\n",
       "    <tr>\n",
       "      <th>0</th>\n",
       "      <td>/type/author</td>\n",
       "      <td>/authors/OL5345273A</td>\n",
       "      <td>1</td>\n",
       "      <td>2008-10-05 09:14:51.676778</td>\n",
       "      <td>{\"name\": \"TOM.KIYIHN\", \"last_modified\": {\"type\": \"/type/datetime\", \"value\": \"2008-10-05T09:14:51.676778\"}, \"key\": \"/authors/OL5345273A\", \"type\": {\"key\": \"/type/author\"}, \"revision\": 1}</td>\n",
       "    </tr>\n",
       "    <tr>\n",
       "      <th>1</th>\n",
       "      <td>/type/author</td>\n",
       "      <td>/authors/OL5345271A</td>\n",
       "      <td>1</td>\n",
       "      <td>2008-10-04 15:55:36.974594</td>\n",
       "      <td>{\"name\": \"Aksakov, S. T.\", \"last_modified\": {\"type\": \"/type/datetime\", \"value\": \"2008-10-04T15:55:36.974594\"}, \"key\": \"/authors/OL5345271A\", \"type\": {\"key\": \"/type/author\"}, \"revision\": 1}</td>\n",
       "    </tr>\n",
       "    <tr>\n",
       "      <th>2</th>\n",
       "      <td>/type/author</td>\n",
       "      <td>/authors/OL5345272A</td>\n",
       "      <td>1</td>\n",
       "      <td>2008-10-04 16:04:08.619520</td>\n",
       "      <td>{\"name\": \"Latham,Barbarahttp://webcat.camosun.bc.ca/cambooks/njpm/tableof.htm\", \"last_modified\": {\"type\": \"/type/datetime\", \"value\": \"2008-10-04T16:04:08.61952\"}, \"key\": \"/authors/OL5345272A\", \"type\": {\"key\": \"/type/author\"}, \"revision\": 1}</td>\n",
       "    </tr>\n",
       "    <tr>\n",
       "      <th>3</th>\n",
       "      <td>/type/edition</td>\n",
       "      <td>/books/OL17806216M</td>\n",
       "      <td>1</td>\n",
       "      <td>2008-10-01 06:49:20.851055</td>\n",
       "      <td>{\"table_of_contents\": [{\"type\": \"/type/text\", \"value\": \"Gender as a category of analysis in vernacular architect studies / Angel Kwolek-Folland\"}, {\"type\": \"/type/text\", \"value\": \"\\\"I'm a lumberjack and I'm ok\\\" : the built environment and varied masculinities in the industrial age / Deryck W. Holdsworth\"}, {\"type\": \"/type/text\", \"value\": \"The Masonic lodge room, 1870-1930 : a sacred space of masculine spiritual hierarchy / William D. Moore\"}, {\"type\": \"/type/text\", \"value\": \"Grammar codes, and performance : linguistic and sociolinguistic models in the study of vernacular architecture / Michael Ann Williams and M. Jane Young\"}, {\"type\": \"/type/text\", \"value\": \"Building an urban identity : the clustered spires of Frederick, Maryland / Diane Shaw\"}, {\"type\": \"/type/text\", \"value\": \"\\\"A school house well arranged\\\" : Baltimore public school buildings on the Lancasterian plan, 1829-1839 / Peter E. Kurtze\"}, {\"type\": \"/type/text\", \"value\": \"Letting in \\\"the world\\\" : (re)interpretive tensions in the Quaker meeting house / Susan Garfinkel\"}, {\"type\": \"/type/text\", \"value\": \"Man\\u0303ana, man\\u0303ana : racial stereotypes and the Anglo rediscovery of the Southwest's vernacular architecture, 1890-1920 / Abigail A. Van Slyck\"}, {\"type\": \"/type/text\", \"value\": \"Association, residence, and shop : an appropriation of commercial blocks in North American Chinatowns / Christopher L. Yip\"}, {\"type\": \"/type/text\", \"value\": \"\\\"Snug li'l house with flue and oven\\\" : nineteenth-century reforms in plantation slave housing / John Michael Vlach\"}, {\"type\": \"/type/text\", \"value\": \"Cheap and tasteful dwellings in popular architecture / Jan Jennings\"}, {\"type\": \"/type/text\", \"value\": \"Cheap, quick, and easy, part II : pressed metal ceilings, 1880-1930 / Pamela H. Simpson\"}, {\"type\": \"/type/text\", \"value\": \"The Eichler home : intention and experience in postwar suburbia / Annmarie Adams\"}, {\"type\": \"/type/text\", \"value\": \"Rural adaptations of suburban bungalows, Sussex County, Delaware / Susan Mulchahey Chase\"}, {\"type\": \"/type/text\", \"value\": \"Building in stone in southwestern Pennyslvania : patterns and process / Karen Koegler\"}, {\"type\": \"/type/text\", \"value\": \"Private dwellings, public ways, and the landscape of early rural capitalism in Virginia's Shenandoah Valley / Warren R. Hofstra\"}, {\"type\": \"/type/text\", \"value\": \"The architectural and social topography of early-nineteenth-century Portsmouth, New Hampshire / Bernard L. Herman\"}, {\"type\": \"/type/text\", \"value\": \"From roadside camps to garden homes : housing and community planning for California's migrant work force, 1935-1941 / Greg Hise.\"}], \"series\": [\"Perspectives in vernacular architecture -- 5.\", \"Perspectives in vernacular architecture (Knoxville, Tenn.) -- 5.\"], \"lc_classifications\": [\"NA705 .G36 1995\"], \"contributions\": [\"Cromley, Elizabeth C.\", \"Hudgins, Carter L.\"], \"edition_name\": \"1st ed.\", \"title\": \"Gender, class, and shelter\", \"languages\": [{\"key\": \"/languages/eng\"}], \"subjects\": [\"Vernacular architecture -- United States.\", \"Architecture and society -- United States.\"], \"publish_country\": \"tnu\", \"by_statement\": \"edited by Elizabeth Collins Cromley and Carter L. Hudgins.\", \"type\": {\"key\": \"/type/edition\"}, \"revision\": 1, \"publishers\": [\"University of Tennessee Press\"], \"last_modified\": {\"type\": \"/type/datetime\", \"value\": \"2008-10-01T06:49:20.851055\"}, \"key\": \"/books/OL17806216M\", \"publish_places\": [\"Knoxville\"], \"pagination\": \"xiv, 272 p. :\", \"dewey_decimal_class\": [\"720/.1/060973\"], \"notes\": {\"type\": \"/type/text\", \"value\": \"Includes bibliographical references (p. [259]-264) and index.\"}, \"number_of_pages\": 272, \"lccn\": [\"94018715\"], \"isbn_10\": [\"087049872X\"], \"publish_date\": \"1995\"}</td>\n",
       "    </tr>\n",
       "    <tr>\n",
       "      <th>4</th>\n",
       "      <td>/type/i18n</td>\n",
       "      <td>/i18n/strings.uk</td>\n",
       "      <td>1</td>\n",
       "      <td>2008-10-04 18:19:08.241118</td>\n",
       "      <td>{\"string_upload\": \"\\u0417\\u0430\\u0432\\u0430\\u043d\\u0442\\u0430\\u0436\\u0438\\u0442\\u0438\", \"string_submit\": \"\\u0412\\u0456\\u0434\\u0456\\u0441\\u043b\\u0430\\u0442\\u0438\", \"string_site_subtitle\": \"\", \"string_site_title\": \"\\u0417\\u0430\\u0433\\u043e\\u043b\\u043e\\u0432\\u043e\\u043a\", \"string_published_in\": \"\\u041e\\u043f\\u0443\\u0431\\u043b\\u0456\\u043a\\u043e\\u0432\\u0430\\u043d\\u043e \\u0443\", \"string_prev\": \"\\u041f\\u043e\\u0432\\u0435\\u0440\\u043d\\u0443\\u0442\\u0438\\u0441\\u044c\", \"string_deleted\": \"\\u0426\\u044f \\u0441\\u0442\\u043e\\u0440\\u0456\\u043d\\u043a\\u0430 \\u0432\\u0438\\u0434\\u0430\\u043b\\u0435\\u043d\\u0430\", \"string_change_language\": \"\\u0417\\u043c\\u0456\\u043d\\u0438\\u0442\\u0438 \\u043c\\u043e\\u0432\\u0443\", \"string_page_does_not_exist\": \"\\u0421\\u0442\\u043e\\u0440\\u0456\\u043d\\u043a\\u0430 \\u0432\\u0456\\u0434\\u0441\\u0443\\u0442\\u043d\\u044f\", \"string_next\": \"\\u0412\\u043f\\u0435\\u0440\\u0435\\u0434\", \"string_login\": \"\\u0423\\u0432\\u0456\\u0439\\u0442\\u0438\", \"string_create_it\": \"\\u0421\\u0442\\u0432\\u043e\\u0440\\u0438\\u0442\\u0438 \\u0441\\u0442\\u043e\\u0440\\u0456\\u043d\\u043a\\u0443\", \"string_open_library\": \"\\u0412\\u0456\\u0434\\u043a\\u0440\\u0438\\u0442\\u0430 \\u0431\\u0456\\u0431\\u043b\\u0456\\u043e\\u0442\\u0435\\u043a\\u0430 - Open Library\", \"string_about_us\": \"\\u041f\\u0440\\u043e \\u043d\\u0430\\u0441\", \"ns\": \"/\", \"type\": {\"key\": \"/type/i18n\"}, \"string_create\": \"\\u0421\\u0442\\u0432\\u043e\\u0440\\u0438\\u0442\\u0438\", \"string_back_to_ol\": \"\\u041f\\u043e\\u0432\\u0435\\u0440\\u043d\\u0443\\u0442\\u0438\\u0441\\u044c \\u0434\\u043e \\\"\\u041f\\u0440\\u043e \\u0412\\u0456\\u0434\\u043a\\u0440\\u0438\\u0442\\u0443 \\u0411\\u0456\\u0431\\u043b\\u0456\\u043e\\u0442\\u0435\\u043a\\u0443\\\"\", \"string_preferences\": \"\\u041d\\u0430\\u043b\\u0430\\u0448\\u0442\\u0443\\u0432\\u0430\\u043d\\u043d\\u044f\", \"string_has_fulltext\": \"\\u041c\\u0430\\u0454 \\u043f\\u043e\\u0432\\u043d\\u0438\\u0439 \\u0442\\u0435\\u043a\\u0441\\u0442\", \"string_logout\": \"\\u0412\\u0438\\u0439\\u0442\\u0438\", \"last_modified\": {\"type\": \"/type/datetime\", \"value\": \"2008-10-04T18:19:08.241118\"}, \"key\": \"/i18n/strings.uk\", \"string_contact_us\": \"\\u0417\\u0432`\\u044f\\u0436\\u0456\\u0442\\u044c\\u0441\\u044f \\u0437 \\u043d\\u0430\\u043c\\u0438\", \"string_powered_by_infogami\": \"\\u0421\\u0442\\u0432\\u043e\\u0440\\u0435\\u043d\\u043e &lt;a href=\\\"%s\\\"&gt;Infogami&lt;/a&gt;\", \"lang\": \"bg\", \"string_welcome_user\": \"\\u041b\\u0430\\u0441\\u043a\\u0430\\u0432\\u043e \\u043f\\u0440\\u043e\\u0441\\u0438\\u043c\\u043e, &lt;a href=\\\"%s\\\"&gt;%s&lt;/a&gt;!\", \"string_facet_year\": \"\\u0414\\u0430\\u0442\\u0430 \\u043f\\u0443\\u0431\\u043b\\u0456\\u043a\\u0430\\u0446\\u0456\\u0457\", \"string_not_found\": \"\\u041d\\u0435 \\u0437\\u043d\\u0430\\u0439\\u0434\\u0435\\u043d\\u043e\", \"string_history\": \"\\u0406\\u0441\\u0442\\u043e\\u0440\\u0456\\u044f\", \"string_hello\": \"\\u041f\\u0440\\u0438\\u0432\\u0456\\u0442\", \"string_internet_archive\": \"\\u0406\\u043d\\u0442\\u0435\\u0440\\u043d\\u0435\\u0442 \\u0430\\u0440\\u0445\\u0456\\u0432 (IA)\", \"revision\": 1}</td>\n",
       "    </tr>\n",
       "    <tr>\n",
       "      <th>5</th>\n",
       "      <td>/type/author</td>\n",
       "      <td>/authors/OL5345269A</td>\n",
       "      <td>1</td>\n",
       "      <td>2008-10-03 20:38:12.544508</td>\n",
       "      <td>{\"name\": \"Bi\", \"last_modified\": {\"type\": \"/type/datetime\", \"value\": \"2008-10-03T20:38:12.544508\"}, \"key\": \"/authors/OL5345269A\", \"type\": {\"key\": \"/type/author\"}, \"revision\": 1}</td>\n",
       "    </tr>\n",
       "    <tr>\n",
       "      <th>6</th>\n",
       "      <td>/type/author</td>\n",
       "      <td>/authors/OL5345270A</td>\n",
       "      <td>1</td>\n",
       "      <td>2008-10-03 20:38:37.118889</td>\n",
       "      <td>{\"name\": \"Bianco Nicholas\", \"last_modified\": {\"type\": \"/type/datetime\", \"value\": \"2008-10-03T20:38:37.118889\"}, \"key\": \"/authors/OL5345270A\", \"type\": {\"key\": \"/type/author\"}, \"revision\": 1}</td>\n",
       "    </tr>\n",
       "    <tr>\n",
       "      <th>7</th>\n",
       "      <td>/type/author</td>\n",
       "      <td>/authors/OL5345265A</td>\n",
       "      <td>1</td>\n",
       "      <td>2008-10-02 21:00:12.012264</td>\n",
       "      <td>{\"name\": \"Crisp, Tony\", \"last_modified\": {\"type\": \"/type/datetime\", \"value\": \"2008-10-02T21:00:12.012264\"}, \"key\": \"/authors/OL5345265A\", \"type\": {\"key\": \"/type/author\"}, \"revision\": 1}</td>\n",
       "    </tr>\n",
       "    <tr>\n",
       "      <th>8</th>\n",
       "      <td>/type/author</td>\n",
       "      <td>/authors/OL5345268A</td>\n",
       "      <td>1</td>\n",
       "      <td>2008-10-03 13:50:01.827605</td>\n",
       "      <td>{\"name\": \"Jean-Pierre ROSSIE\", \"last_modified\": {\"type\": \"/type/datetime\", \"value\": \"2008-10-03T13:50:01.827605\"}, \"key\": \"/authors/OL5345268A\", \"type\": {\"key\": \"/type/author\"}, \"revision\": 1}</td>\n",
       "    </tr>\n",
       "    <tr>\n",
       "      <th>9</th>\n",
       "      <td>/type/author</td>\n",
       "      <td>/authors/OL5345264A</td>\n",
       "      <td>1</td>\n",
       "      <td>2008-10-02 21:00:12.066032</td>\n",
       "      <td>{\"name\": \"Crisp, Tony\", \"last_modified\": {\"type\": \"/type/datetime\", \"value\": \"2008-10-02T21:00:12.066032\"}, \"key\": \"/authors/OL5345264A\", \"type\": {\"key\": \"/type/author\"}, \"revision\": 1}</td>\n",
       "    </tr>\n",
       "  </tbody>\n",
       "</table>\n",
       "</div>"
      ],
      "text/plain": [
       "     record_type                  key  revision                  timestamp  \\\n",
       "0   /type/author  /authors/OL5345273A         1 2008-10-05 09:14:51.676778   \n",
       "1   /type/author  /authors/OL5345271A         1 2008-10-04 15:55:36.974594   \n",
       "2   /type/author  /authors/OL5345272A         1 2008-10-04 16:04:08.619520   \n",
       "3  /type/edition   /books/OL17806216M         1 2008-10-01 06:49:20.851055   \n",
       "4     /type/i18n     /i18n/strings.uk         1 2008-10-04 18:19:08.241118   \n",
       "5   /type/author  /authors/OL5345269A         1 2008-10-03 20:38:12.544508   \n",
       "6   /type/author  /authors/OL5345270A         1 2008-10-03 20:38:37.118889   \n",
       "7   /type/author  /authors/OL5345265A         1 2008-10-02 21:00:12.012264   \n",
       "8   /type/author  /authors/OL5345268A         1 2008-10-03 13:50:01.827605   \n",
       "9   /type/author  /authors/OL5345264A         1 2008-10-02 21:00:12.066032   \n",
       "\n",
       "                                                                                                                                                                                                                                                                                                                                                                                                                                                                                                                                                                                                                                                                                                                                                                                                                                                                                                                                                                                                                                                                                                                                                                                                                                                                                                                                                                                                                                                                                                                                                                                                                                                                                                                                                                                                                                                                                                                                                                                                                                                                                                                                                                                                                                                                                                                                                                                                                                                                                                                                                                                                                                                                                                                                                                                                                                                                                                                                                                                                                                                                                                                                                                                                                                                                                                                                                                                                                                                                                                                                                                                                                                                                                                                                                                                                                                            json_data  \n",
       "0                                                                                                                                                                                                                                                                                                                                                                                                                                                                                                                                                                                                                                                                                                                                                                                                                                                                                                                                                                                                                                                                                                                                                                                                                                                                                                                                                                                                                                                                                                                                                                                                                                                                                                                                                                                                                                                                                                                                                                                                                                                                                                                                                                                                                                                                                                                                                                                                                                                                                                                                                                                                                                                                                                                                                                                                                                                                                                                                                                                                                                                                                                                                                                                                                                                                                                                                                                                                                                                                                                                                                                                                                                                            {\"name\": \"TOM.KIYIHN\", \"last_modified\": {\"type\": \"/type/datetime\", \"value\": \"2008-10-05T09:14:51.676778\"}, \"key\": \"/authors/OL5345273A\", \"type\": {\"key\": \"/type/author\"}, \"revision\": 1}  \n",
       "1                                                                                                                                                                                                                                                                                                                                                                                                                                                                                                                                                                                                                                                                                                                                                                                                                                                                                                                                                                                                                                                                                                                                                                                                                                                                                                                                                                                                                                                                                                                                                                                                                                                                                                                                                                                                                                                                                                                                                                                                                                                                                                                                                                                                                                                                                                                                                                                                                                                                                                                                                                                                                                                                                                                                                                                                                                                                                                                                                                                                                                                                                                                                                                                                                                                                                                                                                                                                                                                                                                                                                                                                                                                        {\"name\": \"Aksakov, S. T.\", \"last_modified\": {\"type\": \"/type/datetime\", \"value\": \"2008-10-04T15:55:36.974594\"}, \"key\": \"/authors/OL5345271A\", \"type\": {\"key\": \"/type/author\"}, \"revision\": 1}  \n",
       "2                                                                                                                                                                                                                                                                                                                                                                                                                                                                                                                                                                                                                                                                                                                                                                                                                                                                                                                                                                                                                                                                                                                                                                                                                                                                                                                                                                                                                                                                                                                                                                                                                                                                                                                                                                                                                                                                                                                                                                                                                                                                                                                                                                                                                                                                                                                                                                                                                                                                                                                                                                                                                                                                                                                                                                                                                                                                                                                                                                                                                                                                                                                                                                                                                                                                                                                                                                                                                                                                                                                                                                                                    {\"name\": \"Latham,Barbarahttp://webcat.camosun.bc.ca/cambooks/njpm/tableof.htm\", \"last_modified\": {\"type\": \"/type/datetime\", \"value\": \"2008-10-04T16:04:08.61952\"}, \"key\": \"/authors/OL5345272A\", \"type\": {\"key\": \"/type/author\"}, \"revision\": 1}  \n",
       "3  {\"table_of_contents\": [{\"type\": \"/type/text\", \"value\": \"Gender as a category of analysis in vernacular architect studies / Angel Kwolek-Folland\"}, {\"type\": \"/type/text\", \"value\": \"\\\"I'm a lumberjack and I'm ok\\\" : the built environment and varied masculinities in the industrial age / Deryck W. Holdsworth\"}, {\"type\": \"/type/text\", \"value\": \"The Masonic lodge room, 1870-1930 : a sacred space of masculine spiritual hierarchy / William D. Moore\"}, {\"type\": \"/type/text\", \"value\": \"Grammar codes, and performance : linguistic and sociolinguistic models in the study of vernacular architecture / Michael Ann Williams and M. Jane Young\"}, {\"type\": \"/type/text\", \"value\": \"Building an urban identity : the clustered spires of Frederick, Maryland / Diane Shaw\"}, {\"type\": \"/type/text\", \"value\": \"\\\"A school house well arranged\\\" : Baltimore public school buildings on the Lancasterian plan, 1829-1839 / Peter E. Kurtze\"}, {\"type\": \"/type/text\", \"value\": \"Letting in \\\"the world\\\" : (re)interpretive tensions in the Quaker meeting house / Susan Garfinkel\"}, {\"type\": \"/type/text\", \"value\": \"Man\\u0303ana, man\\u0303ana : racial stereotypes and the Anglo rediscovery of the Southwest's vernacular architecture, 1890-1920 / Abigail A. Van Slyck\"}, {\"type\": \"/type/text\", \"value\": \"Association, residence, and shop : an appropriation of commercial blocks in North American Chinatowns / Christopher L. Yip\"}, {\"type\": \"/type/text\", \"value\": \"\\\"Snug li'l house with flue and oven\\\" : nineteenth-century reforms in plantation slave housing / John Michael Vlach\"}, {\"type\": \"/type/text\", \"value\": \"Cheap and tasteful dwellings in popular architecture / Jan Jennings\"}, {\"type\": \"/type/text\", \"value\": \"Cheap, quick, and easy, part II : pressed metal ceilings, 1880-1930 / Pamela H. Simpson\"}, {\"type\": \"/type/text\", \"value\": \"The Eichler home : intention and experience in postwar suburbia / Annmarie Adams\"}, {\"type\": \"/type/text\", \"value\": \"Rural adaptations of suburban bungalows, Sussex County, Delaware / Susan Mulchahey Chase\"}, {\"type\": \"/type/text\", \"value\": \"Building in stone in southwestern Pennyslvania : patterns and process / Karen Koegler\"}, {\"type\": \"/type/text\", \"value\": \"Private dwellings, public ways, and the landscape of early rural capitalism in Virginia's Shenandoah Valley / Warren R. Hofstra\"}, {\"type\": \"/type/text\", \"value\": \"The architectural and social topography of early-nineteenth-century Portsmouth, New Hampshire / Bernard L. Herman\"}, {\"type\": \"/type/text\", \"value\": \"From roadside camps to garden homes : housing and community planning for California's migrant work force, 1935-1941 / Greg Hise.\"}], \"series\": [\"Perspectives in vernacular architecture -- 5.\", \"Perspectives in vernacular architecture (Knoxville, Tenn.) -- 5.\"], \"lc_classifications\": [\"NA705 .G36 1995\"], \"contributions\": [\"Cromley, Elizabeth C.\", \"Hudgins, Carter L.\"], \"edition_name\": \"1st ed.\", \"title\": \"Gender, class, and shelter\", \"languages\": [{\"key\": \"/languages/eng\"}], \"subjects\": [\"Vernacular architecture -- United States.\", \"Architecture and society -- United States.\"], \"publish_country\": \"tnu\", \"by_statement\": \"edited by Elizabeth Collins Cromley and Carter L. Hudgins.\", \"type\": {\"key\": \"/type/edition\"}, \"revision\": 1, \"publishers\": [\"University of Tennessee Press\"], \"last_modified\": {\"type\": \"/type/datetime\", \"value\": \"2008-10-01T06:49:20.851055\"}, \"key\": \"/books/OL17806216M\", \"publish_places\": [\"Knoxville\"], \"pagination\": \"xiv, 272 p. :\", \"dewey_decimal_class\": [\"720/.1/060973\"], \"notes\": {\"type\": \"/type/text\", \"value\": \"Includes bibliographical references (p. [259]-264) and index.\"}, \"number_of_pages\": 272, \"lccn\": [\"94018715\"], \"isbn_10\": [\"087049872X\"], \"publish_date\": \"1995\"}  \n",
       "4                                                                                                                                                                                                                                                                                                                                                                                                                                                                                                                                                                                                                                                                                                                                                                                                                                                                                                                                   {\"string_upload\": \"\\u0417\\u0430\\u0432\\u0430\\u043d\\u0442\\u0430\\u0436\\u0438\\u0442\\u0438\", \"string_submit\": \"\\u0412\\u0456\\u0434\\u0456\\u0441\\u043b\\u0430\\u0442\\u0438\", \"string_site_subtitle\": \"\", \"string_site_title\": \"\\u0417\\u0430\\u0433\\u043e\\u043b\\u043e\\u0432\\u043e\\u043a\", \"string_published_in\": \"\\u041e\\u043f\\u0443\\u0431\\u043b\\u0456\\u043a\\u043e\\u0432\\u0430\\u043d\\u043e \\u0443\", \"string_prev\": \"\\u041f\\u043e\\u0432\\u0435\\u0440\\u043d\\u0443\\u0442\\u0438\\u0441\\u044c\", \"string_deleted\": \"\\u0426\\u044f \\u0441\\u0442\\u043e\\u0440\\u0456\\u043d\\u043a\\u0430 \\u0432\\u0438\\u0434\\u0430\\u043b\\u0435\\u043d\\u0430\", \"string_change_language\": \"\\u0417\\u043c\\u0456\\u043d\\u0438\\u0442\\u0438 \\u043c\\u043e\\u0432\\u0443\", \"string_page_does_not_exist\": \"\\u0421\\u0442\\u043e\\u0440\\u0456\\u043d\\u043a\\u0430 \\u0432\\u0456\\u0434\\u0441\\u0443\\u0442\\u043d\\u044f\", \"string_next\": \"\\u0412\\u043f\\u0435\\u0440\\u0435\\u0434\", \"string_login\": \"\\u0423\\u0432\\u0456\\u0439\\u0442\\u0438\", \"string_create_it\": \"\\u0421\\u0442\\u0432\\u043e\\u0440\\u0438\\u0442\\u0438 \\u0441\\u0442\\u043e\\u0440\\u0456\\u043d\\u043a\\u0443\", \"string_open_library\": \"\\u0412\\u0456\\u0434\\u043a\\u0440\\u0438\\u0442\\u0430 \\u0431\\u0456\\u0431\\u043b\\u0456\\u043e\\u0442\\u0435\\u043a\\u0430 - Open Library\", \"string_about_us\": \"\\u041f\\u0440\\u043e \\u043d\\u0430\\u0441\", \"ns\": \"/\", \"type\": {\"key\": \"/type/i18n\"}, \"string_create\": \"\\u0421\\u0442\\u0432\\u043e\\u0440\\u0438\\u0442\\u0438\", \"string_back_to_ol\": \"\\u041f\\u043e\\u0432\\u0435\\u0440\\u043d\\u0443\\u0442\\u0438\\u0441\\u044c \\u0434\\u043e \\\"\\u041f\\u0440\\u043e \\u0412\\u0456\\u0434\\u043a\\u0440\\u0438\\u0442\\u0443 \\u0411\\u0456\\u0431\\u043b\\u0456\\u043e\\u0442\\u0435\\u043a\\u0443\\\"\", \"string_preferences\": \"\\u041d\\u0430\\u043b\\u0430\\u0448\\u0442\\u0443\\u0432\\u0430\\u043d\\u043d\\u044f\", \"string_has_fulltext\": \"\\u041c\\u0430\\u0454 \\u043f\\u043e\\u0432\\u043d\\u0438\\u0439 \\u0442\\u0435\\u043a\\u0441\\u0442\", \"string_logout\": \"\\u0412\\u0438\\u0439\\u0442\\u0438\", \"last_modified\": {\"type\": \"/type/datetime\", \"value\": \"2008-10-04T18:19:08.241118\"}, \"key\": \"/i18n/strings.uk\", \"string_contact_us\": \"\\u0417\\u0432`\\u044f\\u0436\\u0456\\u0442\\u044c\\u0441\\u044f \\u0437 \\u043d\\u0430\\u043c\\u0438\", \"string_powered_by_infogami\": \"\\u0421\\u0442\\u0432\\u043e\\u0440\\u0435\\u043d\\u043e <a href=\\\"%s\\\">Infogami</a>\", \"lang\": \"bg\", \"string_welcome_user\": \"\\u041b\\u0430\\u0441\\u043a\\u0430\\u0432\\u043e \\u043f\\u0440\\u043e\\u0441\\u0438\\u043c\\u043e, <a href=\\\"%s\\\">%s</a>!\", \"string_facet_year\": \"\\u0414\\u0430\\u0442\\u0430 \\u043f\\u0443\\u0431\\u043b\\u0456\\u043a\\u0430\\u0446\\u0456\\u0457\", \"string_not_found\": \"\\u041d\\u0435 \\u0437\\u043d\\u0430\\u0439\\u0434\\u0435\\u043d\\u043e\", \"string_history\": \"\\u0406\\u0441\\u0442\\u043e\\u0440\\u0456\\u044f\", \"string_hello\": \"\\u041f\\u0440\\u0438\\u0432\\u0456\\u0442\", \"string_internet_archive\": \"\\u0406\\u043d\\u0442\\u0435\\u0440\\u043d\\u0435\\u0442 \\u0430\\u0440\\u0445\\u0456\\u0432 (IA)\", \"revision\": 1}  \n",
       "5                                                                                                                                                                                                                                                                                                                                                                                                                                                                                                                                                                                                                                                                                                                                                                                                                                                                                                                                                                                                                                                                                                                                                                                                                                                                                                                                                                                                                                                                                                                                                                                                                                                                                                                                                                                                                                                                                                                                                                                                                                                                                                                                                                                                                                                                                                                                                                                                                                                                                                                                                                                                                                                                                                                                                                                                                                                                                                                                                                                                                                                                                                                                                                                                                                                                                                                                                                                                                                                                                                                                                                                                                                                                    {\"name\": \"Bi\", \"last_modified\": {\"type\": \"/type/datetime\", \"value\": \"2008-10-03T20:38:12.544508\"}, \"key\": \"/authors/OL5345269A\", \"type\": {\"key\": \"/type/author\"}, \"revision\": 1}  \n",
       "6                                                                                                                                                                                                                                                                                                                                                                                                                                                                                                                                                                                                                                                                                                                                                                                                                                                                                                                                                                                                                                                                                                                                                                                                                                                                                                                                                                                                                                                                                                                                                                                                                                                                                                                                                                                                                                                                                                                                                                                                                                                                                                                                                                                                                                                                                                                                                                                                                                                                                                                                                                                                                                                                                                                                                                                                                                                                                                                                                                                                                                                                                                                                                                                                                                                                                                                                                                                                                                                                                                                                                                                                                                                       {\"name\": \"Bianco Nicholas\", \"last_modified\": {\"type\": \"/type/datetime\", \"value\": \"2008-10-03T20:38:37.118889\"}, \"key\": \"/authors/OL5345270A\", \"type\": {\"key\": \"/type/author\"}, \"revision\": 1}  \n",
       "7                                                                                                                                                                                                                                                                                                                                                                                                                                                                                                                                                                                                                                                                                                                                                                                                                                                                                                                                                                                                                                                                                                                                                                                                                                                                                                                                                                                                                                                                                                                                                                                                                                                                                                                                                                                                                                                                                                                                                                                                                                                                                                                                                                                                                                                                                                                                                                                                                                                                                                                                                                                                                                                                                                                                                                                                                                                                                                                                                                                                                                                                                                                                                                                                                                                                                                                                                                                                                                                                                                                                                                                                                                                           {\"name\": \"Crisp, Tony\", \"last_modified\": {\"type\": \"/type/datetime\", \"value\": \"2008-10-02T21:00:12.012264\"}, \"key\": \"/authors/OL5345265A\", \"type\": {\"key\": \"/type/author\"}, \"revision\": 1}  \n",
       "8                                                                                                                                                                                                                                                                                                                                                                                                                                                                                                                                                                                                                                                                                                                                                                                                                                                                                                                                                                                                                                                                                                                                                                                                                                                                                                                                                                                                                                                                                                                                                                                                                                                                                                                                                                                                                                                                                                                                                                                                                                                                                                                                                                                                                                                                                                                                                                                                                                                                                                                                                                                                                                                                                                                                                                                                                                                                                                                                                                                                                                                                                                                                                                                                                                                                                                                                                                                                                                                                                                                                                                                                                                                    {\"name\": \"Jean-Pierre ROSSIE\", \"last_modified\": {\"type\": \"/type/datetime\", \"value\": \"2008-10-03T13:50:01.827605\"}, \"key\": \"/authors/OL5345268A\", \"type\": {\"key\": \"/type/author\"}, \"revision\": 1}  \n",
       "9                                                                                                                                                                                                                                                                                                                                                                                                                                                                                                                                                                                                                                                                                                                                                                                                                                                                                                                                                                                                                                                                                                                                                                                                                                                                                                                                                                                                                                                                                                                                                                                                                                                                                                                                                                                                                                                                                                                                                                                                                                                                                                                                                                                                                                                                                                                                                                                                                                                                                                                                                                                                                                                                                                                                                                                                                                                                                                                                                                                                                                                                                                                                                                                                                                                                                                                                                                                                                                                                                                                                                                                                                                                           {\"name\": \"Crisp, Tony\", \"last_modified\": {\"type\": \"/type/datetime\", \"value\": \"2008-10-02T21:00:12.066032\"}, \"key\": \"/authors/OL5345264A\", \"type\": {\"key\": \"/type/author\"}, \"revision\": 1}  "
      ]
     },
     "execution_count": 10,
     "metadata": {},
     "output_type": "execute_result"
    }
   ],
   "source": [
    "df_split = (df\n",
    "            .select(split(col(\"value\"), \"\\t\").alias(\"fields\"))\n",
    "            .select(\n",
    "                    col(\"fields\")[0].alias(\"record_type\"),\n",
    "                    col(\"fields\")[1].alias(\"key\"),\n",
    "                    col(\"fields\")[2].cast(IntegerType()).alias(\"revision\"),\n",
    "                    col(\"fields\")[3].cast(TimestampType()).alias(\"timestamp\"),\n",
    "                    col(\"fields\")[4].alias(\"json_data\")\n",
    "            )\n",
    "           )\n",
    "\n",
    "df_split.limit(10).toPandas()"
   ]
  },
  {
   "cell_type": "markdown",
   "id": "32d05b02-33e7-484f-87ae-23ba07caae74",
   "metadata": {},
   "source": [
    "## Works Dataframe"
   ]
  },
  {
   "cell_type": "code",
   "execution_count": 11,
   "id": "3c741e33-201d-478e-8253-75ce12c568e6",
   "metadata": {
    "execution": {
     "iopub.execute_input": "2025-05-11T08:41:03.275986Z",
     "iopub.status.busy": "2025-05-11T08:41:03.275768Z",
     "iopub.status.idle": "2025-05-11T08:41:03.869690Z",
     "shell.execute_reply": "2025-05-11T08:41:03.868700Z",
     "shell.execute_reply.started": "2025-05-11T08:41:03.275968Z"
    },
    "scrolled": true
   },
   "outputs": [
    {
     "data": {
      "text/html": [
       "<div>\n",
       "<style scoped>\n",
       "    .dataframe tbody tr th:only-of-type {\n",
       "        vertical-align: middle;\n",
       "    }\n",
       "\n",
       "    .dataframe tbody tr th {\n",
       "        vertical-align: top;\n",
       "    }\n",
       "\n",
       "    .dataframe thead th {\n",
       "        text-align: right;\n",
       "    }\n",
       "</style>\n",
       "<table border=\"1\" class=\"dataframe\">\n",
       "  <thead>\n",
       "    <tr style=\"text-align: right;\">\n",
       "      <th></th>\n",
       "      <th>record_type</th>\n",
       "      <th>key</th>\n",
       "      <th>revision</th>\n",
       "      <th>timestamp</th>\n",
       "      <th>json_data</th>\n",
       "    </tr>\n",
       "  </thead>\n",
       "  <tbody>\n",
       "    <tr>\n",
       "      <th>0</th>\n",
       "      <td>/type/work</td>\n",
       "      <td>/works/OL5967449W</td>\n",
       "      <td>3</td>\n",
       "      <td>2013-08-23 21:48:46.541299</td>\n",
       "      <td>{\"created\": {\"type\": \"/type/datetime\", \"value\": \"2009-12-10T18:16:15.578495\"}, \"subject_places\": [\"Texas\"], \"subjects\": [\"Folk music\", \"History and criticism\"], \"latest_revision\": 3, \"key\": \"/works/OL5967449W\", \"title\": \"Music in Texas--frontier to 1900\", \"authors\": [{\"type\": {\"key\": \"/type/author_role\"}, \"author\": {\"key\": \"/authors/OL1481792A\"}}, {\"type\": {\"key\": \"/type/author_role\"}, \"author\": {\"key\": \"/authors/OL1461795A\"}}], \"type\": {\"key\": \"/type/work\"}, \"last_modified\": {\"type\": \"/type/datetime\", \"value\": \"2013-08-23T21:48:46.541299\"}, \"revision\": 3}</td>\n",
       "    </tr>\n",
       "    <tr>\n",
       "      <th>1</th>\n",
       "      <td>/type/work</td>\n",
       "      <td>/works/OL5918506W</td>\n",
       "      <td>3</td>\n",
       "      <td>2013-08-23 21:49:55.575503</td>\n",
       "      <td>{\"created\": {\"type\": \"/type/datetime\", \"value\": \"2009-12-10T18:11:13.513027\"}, \"subject_places\": [\"Beaumont (Tex.)\"], \"subjects\": [\"History\"], \"latest_revision\": 3, \"key\": \"/works/OL5918506W\", \"title\": \"Beaumont, a chronicle of promise\", \"authors\": [{\"type\": {\"key\": \"/type/author_role\"}, \"author\": {\"key\": \"/authors/OL1461795A\"}}, {\"type\": {\"key\": \"/type/author_role\"}, \"author\": {\"key\": \"/authors/OL1481792A\"}}], \"type\": {\"key\": \"/type/work\"}, \"last_modified\": {\"type\": \"/type/datetime\", \"value\": \"2013-08-23T21:49:55.575503\"}, \"revision\": 3}</td>\n",
       "    </tr>\n",
       "    <tr>\n",
       "      <th>2</th>\n",
       "      <td>/type/work</td>\n",
       "      <td>/works/OL10007810W</td>\n",
       "      <td>3</td>\n",
       "      <td>2010-04-28 06:54:19.472104</td>\n",
       "      <td>{\"title\": \"La cuisine a la plancha (connaitre)\", \"created\": {\"type\": \"/type/datetime\", \"value\": \"2009-12-11T01:58:28.508302\"}, \"covers\": [3156622], \"last_modified\": {\"type\": \"/type/datetime\", \"value\": \"2010-04-28T06:54:19.472104\"}, \"latest_revision\": 3, \"key\": \"/works/OL10007810W\", \"authors\": [{\"type\": \"/type/author_role\", \"author\": {\"key\": \"/authors/OL3973957A\"}}], \"type\": {\"key\": \"/type/work\"}, \"revision\": 3}</td>\n",
       "    </tr>\n",
       "    <tr>\n",
       "      <th>3</th>\n",
       "      <td>/type/work</td>\n",
       "      <td>/works/OL9172590W</td>\n",
       "      <td>4</td>\n",
       "      <td>2013-08-23 22:18:31.678649</td>\n",
       "      <td>{\"title\": \"Cloud Dancer\", \"created\": {\"type\": \"/type/datetime\", \"value\": \"2009-12-10T23:58:01.797117\"}, \"covers\": [4967856], \"last_modified\": {\"type\": \"/type/datetime\", \"value\": \"2013-08-23T22:18:31.678649\"}, \"latest_revision\": 4, \"key\": \"/works/OL9172590W\", \"authors\": [{\"type\": {\"key\": \"/type/author_role\"}, \"author\": {\"key\": \"/authors/OL2674508A\"}}], \"type\": {\"key\": \"/type/work\"}, \"revision\": 4}</td>\n",
       "    </tr>\n",
       "    <tr>\n",
       "      <th>4</th>\n",
       "      <td>/type/work</td>\n",
       "      <td>/works/OL17802418W</td>\n",
       "      <td>1</td>\n",
       "      <td>2017-10-31 23:48:21.594355</td>\n",
       "      <td>{\"title\": \"Leer y redactar en la universidad : del caos de las ideas al texto estructurado\", \"created\": {\"type\": \"/type/datetime\", \"value\": \"2017-10-31T23:48:21.594355\"}, \"last_modified\": {\"type\": \"/type/datetime\", \"value\": \"2017-10-31T23:48:21.594355\"}, \"latest_revision\": 1, \"key\": \"/works/OL17802418W\", \"authors\": [{\"type\": {\"key\": \"/type/author_role\"}}], \"type\": {\"key\": \"/type/work\"}, \"revision\": 1}</td>\n",
       "    </tr>\n",
       "    <tr>\n",
       "      <th>5</th>\n",
       "      <td>/type/work</td>\n",
       "      <td>/works/OL17802421W</td>\n",
       "      <td>1</td>\n",
       "      <td>2017-11-01 03:39:02.464948</td>\n",
       "      <td>{\"title\": \"HELLBURNER\", \"created\": {\"type\": \"/type/datetime\", \"value\": \"2017-11-01T03:39:02.464948\"}, \"last_modified\": {\"type\": \"/type/datetime\", \"value\": \"2017-11-01T03:39:02.464948\"}, \"latest_revision\": 1, \"key\": \"/works/OL17802421W\", \"authors\": [{\"type\": {\"key\": \"/type/author_role\"}, \"author\": {\"key\": \"/authors/OL7046811A\"}}], \"type\": {\"key\": \"/type/work\"}, \"revision\": 1}</td>\n",
       "    </tr>\n",
       "    <tr>\n",
       "      <th>6</th>\n",
       "      <td>/type/work</td>\n",
       "      <td>/works/OL16806239W</td>\n",
       "      <td>1</td>\n",
       "      <td>2013-08-23 22:51:32.436808</td>\n",
       "      <td>{\"title\": \"An Alef-Bet Kabalah\", \"created\": {\"type\": \"/type/datetime\", \"value\": \"2013-08-23T22:51:32.436808\"}, \"last_modified\": {\"type\": \"/type/datetime\", \"value\": \"2013-08-23T22:51:32.436808\"}, \"latest_revision\": 1, \"key\": \"/works/OL16806239W\", \"authors\": [{\"type\": {\"key\": \"/type/author_role\"}}], \"type\": {\"key\": \"/type/work\"}, \"revision\": 1}</td>\n",
       "    </tr>\n",
       "    <tr>\n",
       "      <th>7</th>\n",
       "      <td>/type/work</td>\n",
       "      <td>/works/OL16806240W</td>\n",
       "      <td>1</td>\n",
       "      <td>2013-08-23 23:02:41.862836</td>\n",
       "      <td>{\"title\": \"Che Forever\", \"created\": {\"type\": \"/type/datetime\", \"value\": \"2013-08-23T23:02:41.862836\"}, \"last_modified\": {\"type\": \"/type/datetime\", \"value\": \"2013-08-23T23:02:41.862836\"}, \"latest_revision\": 1, \"key\": \"/works/OL16806240W\", \"authors\": [{\"type\": {\"key\": \"/type/author_role\"}, \"author\": {\"key\": \"/authors/OL274904A\"}}], \"type\": {\"key\": \"/type/work\"}, \"revision\": 1}</td>\n",
       "    </tr>\n",
       "    <tr>\n",
       "      <th>8</th>\n",
       "      <td>/type/work</td>\n",
       "      <td>/works/OL17802473W</td>\n",
       "      <td>2</td>\n",
       "      <td>2017-11-01 13:51:00.576128</td>\n",
       "      <td>{\"title\": \"Apartamento en la Costa Brava\", \"created\": {\"type\": \"/type/datetime\", \"value\": \"2017-11-01T13:50:36.367953\"}, \"last_modified\": {\"type\": \"/type/datetime\", \"value\": \"2017-11-01T13:51:00.576128\"}, \"latest_revision\": 2, \"key\": \"/works/OL17802473W\", \"authors\": [{\"type\": {\"key\": \"/type/author_role\"}, \"author\": {\"key\": \"/authors/OL1540485A\"}}], \"type\": {\"key\": \"/type/work\"}, \"revision\": 2}</td>\n",
       "    </tr>\n",
       "    <tr>\n",
       "      <th>9</th>\n",
       "      <td>/type/work</td>\n",
       "      <td>/works/OL17802492W</td>\n",
       "      <td>1</td>\n",
       "      <td>2017-11-01 16:03:25.631548</td>\n",
       "      <td>{\"title\": \"Artisti romi \\u00een arte contemporana\", \"created\": {\"type\": \"/type/datetime\", \"value\": \"2017-11-01T16:03:25.631548\"}, \"last_modified\": {\"type\": \"/type/datetime\", \"value\": \"2017-11-01T16:03:25.631548\"}, \"latest_revision\": 1, \"key\": \"/works/OL17802492W\", \"authors\": [{\"type\": {\"key\": \"/type/author_role\"}}], \"type\": {\"key\": \"/type/work\"}, \"revision\": 1}</td>\n",
       "    </tr>\n",
       "  </tbody>\n",
       "</table>\n",
       "</div>"
      ],
      "text/plain": [
       "  record_type                 key  revision                  timestamp  \\\n",
       "0  /type/work   /works/OL5967449W         3 2013-08-23 21:48:46.541299   \n",
       "1  /type/work   /works/OL5918506W         3 2013-08-23 21:49:55.575503   \n",
       "2  /type/work  /works/OL10007810W         3 2010-04-28 06:54:19.472104   \n",
       "3  /type/work   /works/OL9172590W         4 2013-08-23 22:18:31.678649   \n",
       "4  /type/work  /works/OL17802418W         1 2017-10-31 23:48:21.594355   \n",
       "5  /type/work  /works/OL17802421W         1 2017-11-01 03:39:02.464948   \n",
       "6  /type/work  /works/OL16806239W         1 2013-08-23 22:51:32.436808   \n",
       "7  /type/work  /works/OL16806240W         1 2013-08-23 23:02:41.862836   \n",
       "8  /type/work  /works/OL17802473W         2 2017-11-01 13:51:00.576128   \n",
       "9  /type/work  /works/OL17802492W         1 2017-11-01 16:03:25.631548   \n",
       "\n",
       "                                                                                                                                                                                                                                                                                                                                                                                                                                                                                                                                                                            json_data  \n",
       "0  {\"created\": {\"type\": \"/type/datetime\", \"value\": \"2009-12-10T18:16:15.578495\"}, \"subject_places\": [\"Texas\"], \"subjects\": [\"Folk music\", \"History and criticism\"], \"latest_revision\": 3, \"key\": \"/works/OL5967449W\", \"title\": \"Music in Texas--frontier to 1900\", \"authors\": [{\"type\": {\"key\": \"/type/author_role\"}, \"author\": {\"key\": \"/authors/OL1481792A\"}}, {\"type\": {\"key\": \"/type/author_role\"}, \"author\": {\"key\": \"/authors/OL1461795A\"}}], \"type\": {\"key\": \"/type/work\"}, \"last_modified\": {\"type\": \"/type/datetime\", \"value\": \"2013-08-23T21:48:46.541299\"}, \"revision\": 3}  \n",
       "1                    {\"created\": {\"type\": \"/type/datetime\", \"value\": \"2009-12-10T18:11:13.513027\"}, \"subject_places\": [\"Beaumont (Tex.)\"], \"subjects\": [\"History\"], \"latest_revision\": 3, \"key\": \"/works/OL5918506W\", \"title\": \"Beaumont, a chronicle of promise\", \"authors\": [{\"type\": {\"key\": \"/type/author_role\"}, \"author\": {\"key\": \"/authors/OL1461795A\"}}, {\"type\": {\"key\": \"/type/author_role\"}, \"author\": {\"key\": \"/authors/OL1481792A\"}}], \"type\": {\"key\": \"/type/work\"}, \"last_modified\": {\"type\": \"/type/datetime\", \"value\": \"2013-08-23T21:49:55.575503\"}, \"revision\": 3}  \n",
       "2                                                                                                                                                      {\"title\": \"La cuisine a la plancha (connaitre)\", \"created\": {\"type\": \"/type/datetime\", \"value\": \"2009-12-11T01:58:28.508302\"}, \"covers\": [3156622], \"last_modified\": {\"type\": \"/type/datetime\", \"value\": \"2010-04-28T06:54:19.472104\"}, \"latest_revision\": 3, \"key\": \"/works/OL10007810W\", \"authors\": [{\"type\": \"/type/author_role\", \"author\": {\"key\": \"/authors/OL3973957A\"}}], \"type\": {\"key\": \"/type/work\"}, \"revision\": 3}  \n",
       "3                                                                                                                                                                     {\"title\": \"Cloud Dancer\", \"created\": {\"type\": \"/type/datetime\", \"value\": \"2009-12-10T23:58:01.797117\"}, \"covers\": [4967856], \"last_modified\": {\"type\": \"/type/datetime\", \"value\": \"2013-08-23T22:18:31.678649\"}, \"latest_revision\": 4, \"key\": \"/works/OL9172590W\", \"authors\": [{\"type\": {\"key\": \"/type/author_role\"}, \"author\": {\"key\": \"/authors/OL2674508A\"}}], \"type\": {\"key\": \"/type/work\"}, \"revision\": 4}  \n",
       "4                                                                                                                                                                {\"title\": \"Leer y redactar en la universidad : del caos de las ideas al texto estructurado\", \"created\": {\"type\": \"/type/datetime\", \"value\": \"2017-10-31T23:48:21.594355\"}, \"last_modified\": {\"type\": \"/type/datetime\", \"value\": \"2017-10-31T23:48:21.594355\"}, \"latest_revision\": 1, \"key\": \"/works/OL17802418W\", \"authors\": [{\"type\": {\"key\": \"/type/author_role\"}}], \"type\": {\"key\": \"/type/work\"}, \"revision\": 1}  \n",
       "5                                                                                                                                                                                           {\"title\": \"HELLBURNER\", \"created\": {\"type\": \"/type/datetime\", \"value\": \"2017-11-01T03:39:02.464948\"}, \"last_modified\": {\"type\": \"/type/datetime\", \"value\": \"2017-11-01T03:39:02.464948\"}, \"latest_revision\": 1, \"key\": \"/works/OL17802421W\", \"authors\": [{\"type\": {\"key\": \"/type/author_role\"}, \"author\": {\"key\": \"/authors/OL7046811A\"}}], \"type\": {\"key\": \"/type/work\"}, \"revision\": 1}  \n",
       "6                                                                                                                                                                                                                            {\"title\": \"An Alef-Bet Kabalah\", \"created\": {\"type\": \"/type/datetime\", \"value\": \"2013-08-23T22:51:32.436808\"}, \"last_modified\": {\"type\": \"/type/datetime\", \"value\": \"2013-08-23T22:51:32.436808\"}, \"latest_revision\": 1, \"key\": \"/works/OL16806239W\", \"authors\": [{\"type\": {\"key\": \"/type/author_role\"}}], \"type\": {\"key\": \"/type/work\"}, \"revision\": 1}  \n",
       "7                                                                                                                                                                                           {\"title\": \"Che Forever\", \"created\": {\"type\": \"/type/datetime\", \"value\": \"2013-08-23T23:02:41.862836\"}, \"last_modified\": {\"type\": \"/type/datetime\", \"value\": \"2013-08-23T23:02:41.862836\"}, \"latest_revision\": 1, \"key\": \"/works/OL16806240W\", \"authors\": [{\"type\": {\"key\": \"/type/author_role\"}, \"author\": {\"key\": \"/authors/OL274904A\"}}], \"type\": {\"key\": \"/type/work\"}, \"revision\": 1}  \n",
       "8                                                                                                                                                                        {\"title\": \"Apartamento en la Costa Brava\", \"created\": {\"type\": \"/type/datetime\", \"value\": \"2017-11-01T13:50:36.367953\"}, \"last_modified\": {\"type\": \"/type/datetime\", \"value\": \"2017-11-01T13:51:00.576128\"}, \"latest_revision\": 2, \"key\": \"/works/OL17802473W\", \"authors\": [{\"type\": {\"key\": \"/type/author_role\"}, \"author\": {\"key\": \"/authors/OL1540485A\"}}], \"type\": {\"key\": \"/type/work\"}, \"revision\": 2}  \n",
       "9                                                                                                                                                                                                         {\"title\": \"Artisti romi \\u00een arte contemporana\", \"created\": {\"type\": \"/type/datetime\", \"value\": \"2017-11-01T16:03:25.631548\"}, \"last_modified\": {\"type\": \"/type/datetime\", \"value\": \"2017-11-01T16:03:25.631548\"}, \"latest_revision\": 1, \"key\": \"/works/OL17802492W\", \"authors\": [{\"type\": {\"key\": \"/type/author_role\"}}], \"type\": {\"key\": \"/type/work\"}, \"revision\": 1}  "
      ]
     },
     "execution_count": 11,
     "metadata": {},
     "output_type": "execute_result"
    }
   ],
   "source": [
    "df_works = df_split.filter(col(\"record_type\") == \"/type/work\")\n",
    "df_works.limit(10).toPandas()"
   ]
  },
  {
   "cell_type": "code",
   "execution_count": 12,
   "id": "dd0a0597-f9ee-4d09-b8da-66d6a55221f9",
   "metadata": {
    "execution": {
     "iopub.execute_input": "2025-05-11T08:41:03.871126Z",
     "iopub.status.busy": "2025-05-11T08:41:03.870829Z",
     "iopub.status.idle": "2025-05-11T08:41:03.882980Z",
     "shell.execute_reply": "2025-05-11T08:41:03.881934Z",
     "shell.execute_reply.started": "2025-05-11T08:41:03.871099Z"
    }
   },
   "outputs": [],
   "source": [
    "works_json_schema = StructType([\n",
    "    StructField(\"key\", StringType(), True),\n",
    "    StructField(\"title\", StringType(), True),\n",
    "    StructField(\"subtitle\", StringType(), True),\n",
    "    StructField(\"type\", StructType([\n",
    "        StructField(\"key\", StringType(), True)\n",
    "    ]), True),\n",
    "    StructField(\"authors\", ArrayType(StructType([\n",
    "        StructField(\"type\", StructType([\n",
    "            StructField(\"key\", StringType(), True)\n",
    "        ]), True),\n",
    "        StructField(\"author\", StructType([\n",
    "            StructField(\"key\", StringType(), True)\n",
    "        ]), True),\n",
    "        StructField(\"role\", StringType(), True),\n",
    "        StructField(\"as\", StringType(), True)\n",
    "    ])), True),\n",
    "    StructField(\"covers\", ArrayType(IntegerType()), True),\n",
    "    StructField(\"links\", ArrayType(StructType([\n",
    "        StructField(\"title\", StringType(), True),\n",
    "        StructField(\"url\", StringType(), True)\n",
    "    ])), True),\n",
    "    StructField(\"id\", IntegerType(), True),\n",
    "    StructField(\"lc_classifications\", ArrayType(StringType()), True),\n",
    "    StructField(\"subjects\", ArrayType(StringType()), True),\n",
    "    StructField(\"first_publish_date\", StringType(), True),\n",
    "    StructField(\"description\", StructType([\n",
    "        StructField(\"type\", StringType(), True),\n",
    "        StructField(\"value\", StringType(), True)\n",
    "    ]), True),\n",
    "    StructField(\"notes\", StructType([\n",
    "        StructField(\"type\", StringType(), True),\n",
    "        StructField(\"value\", StringType(), True)\n",
    "    ]), True),\n",
    "    StructField(\"revision\", IntegerType(), True),\n",
    "    StructField(\"latest_revision\", IntegerType(), True),\n",
    "    StructField(\"created\", StructType([\n",
    "        StructField(\"type\", StringType(), True),\n",
    "        StructField(\"value\", StringType(), True)\n",
    "    ]), True),\n",
    "    StructField(\"last_modified\", StructType([\n",
    "        StructField(\"type\", StringType(), True),\n",
    "        StructField(\"value\", StringType(), True)\n",
    "    ]), True)\n",
    "])"
   ]
  },
  {
   "cell_type": "code",
   "execution_count": 13,
   "id": "8655fef3-df09-4603-a6b1-973ee7bc8a5e",
   "metadata": {
    "execution": {
     "iopub.execute_input": "2025-05-11T08:41:03.883940Z",
     "iopub.status.busy": "2025-05-11T08:41:03.883708Z",
     "iopub.status.idle": "2025-05-11T08:41:03.954314Z",
     "shell.execute_reply": "2025-05-11T08:41:03.952891Z",
     "shell.execute_reply.started": "2025-05-11T08:41:03.883919Z"
    }
   },
   "outputs": [],
   "source": [
    "df_works_parsed = df_works.withColumn(\n",
    "    \"json_parsed\", from_json(col(\"json_data\"), works_json_schema)\n",
    ")"
   ]
  },
  {
   "cell_type": "code",
   "execution_count": 14,
   "id": "980c7563-9d00-4e85-8146-09ec89e0537a",
   "metadata": {
    "execution": {
     "iopub.execute_input": "2025-05-11T08:41:03.957590Z",
     "iopub.status.busy": "2025-05-11T08:41:03.956533Z",
     "iopub.status.idle": "2025-05-11T08:41:04.123757Z",
     "shell.execute_reply": "2025-05-11T08:41:04.122235Z",
     "shell.execute_reply.started": "2025-05-11T08:41:03.957522Z"
    }
   },
   "outputs": [],
   "source": [
    "df_works_final = df_works_parsed.select(\n",
    "    col(\"record_type\"),\n",
    "    col(\"key\").alias(\"work_key\"),\n",
    "    col(\"json_parsed.title\").alias(\"title\"),\n",
    "    col(\"json_parsed.subtitle\").alias(\"subtitle\"),\n",
    "    transform(\n",
    "        col(\"json_parsed.authors\"),\n",
    "        lambda x: x.author.key\n",
    "    ).alias(\"author_keys\"),\n",
    "    col(\"json_parsed.subjects\").alias(\"subjects\"),\n",
    "    col(\"json_parsed.first_publish_date\").alias(\"first_publish_date\")\n",
    ")"
   ]
  },
  {
   "cell_type": "code",
   "execution_count": 15,
   "id": "b16ac7db-0d1d-4bdd-a12c-06a8dabc405c",
   "metadata": {
    "execution": {
     "iopub.execute_input": "2025-05-11T08:41:04.126841Z",
     "iopub.status.busy": "2025-05-11T08:41:04.125566Z",
     "iopub.status.idle": "2025-05-11T08:41:04.664411Z",
     "shell.execute_reply": "2025-05-11T08:41:04.662919Z",
     "shell.execute_reply.started": "2025-05-11T08:41:04.126774Z"
    }
   },
   "outputs": [
    {
     "data": {
      "text/html": [
       "<div>\n",
       "<style scoped>\n",
       "    .dataframe tbody tr th:only-of-type {\n",
       "        vertical-align: middle;\n",
       "    }\n",
       "\n",
       "    .dataframe tbody tr th {\n",
       "        vertical-align: top;\n",
       "    }\n",
       "\n",
       "    .dataframe thead th {\n",
       "        text-align: right;\n",
       "    }\n",
       "</style>\n",
       "<table border=\"1\" class=\"dataframe\">\n",
       "  <thead>\n",
       "    <tr style=\"text-align: right;\">\n",
       "      <th></th>\n",
       "      <th>record_type</th>\n",
       "      <th>work_key</th>\n",
       "      <th>title</th>\n",
       "      <th>subtitle</th>\n",
       "      <th>author_keys</th>\n",
       "      <th>subjects</th>\n",
       "      <th>first_publish_date</th>\n",
       "    </tr>\n",
       "  </thead>\n",
       "  <tbody>\n",
       "    <tr>\n",
       "      <th>0</th>\n",
       "      <td>/type/work</td>\n",
       "      <td>/works/OL5967449W</td>\n",
       "      <td>Music in Texas--frontier to 1900</td>\n",
       "      <td>None</td>\n",
       "      <td>[/authors/OL1481792A, /authors/OL1461795A]</td>\n",
       "      <td>[Folk music, History and criticism]</td>\n",
       "      <td>None</td>\n",
       "    </tr>\n",
       "    <tr>\n",
       "      <th>1</th>\n",
       "      <td>/type/work</td>\n",
       "      <td>/works/OL5918506W</td>\n",
       "      <td>Beaumont, a chronicle of promise</td>\n",
       "      <td>None</td>\n",
       "      <td>[/authors/OL1461795A, /authors/OL1481792A]</td>\n",
       "      <td>[History]</td>\n",
       "      <td>None</td>\n",
       "    </tr>\n",
       "    <tr>\n",
       "      <th>2</th>\n",
       "      <td>/type/work</td>\n",
       "      <td>/works/OL10007810W</td>\n",
       "      <td>La cuisine a la plancha (connaitre)</td>\n",
       "      <td>None</td>\n",
       "      <td>[/authors/OL3973957A]</td>\n",
       "      <td>None</td>\n",
       "      <td>None</td>\n",
       "    </tr>\n",
       "    <tr>\n",
       "      <th>3</th>\n",
       "      <td>/type/work</td>\n",
       "      <td>/works/OL9172590W</td>\n",
       "      <td>Cloud Dancer</td>\n",
       "      <td>None</td>\n",
       "      <td>[/authors/OL2674508A]</td>\n",
       "      <td>None</td>\n",
       "      <td>None</td>\n",
       "    </tr>\n",
       "    <tr>\n",
       "      <th>4</th>\n",
       "      <td>/type/work</td>\n",
       "      <td>/works/OL17802418W</td>\n",
       "      <td>Leer y redactar en la universidad : del caos de las ideas al texto estructurado</td>\n",
       "      <td>None</td>\n",
       "      <td>[None]</td>\n",
       "      <td>None</td>\n",
       "      <td>None</td>\n",
       "    </tr>\n",
       "    <tr>\n",
       "      <th>5</th>\n",
       "      <td>/type/work</td>\n",
       "      <td>/works/OL17802421W</td>\n",
       "      <td>HELLBURNER</td>\n",
       "      <td>None</td>\n",
       "      <td>[/authors/OL7046811A]</td>\n",
       "      <td>None</td>\n",
       "      <td>None</td>\n",
       "    </tr>\n",
       "    <tr>\n",
       "      <th>6</th>\n",
       "      <td>/type/work</td>\n",
       "      <td>/works/OL16806239W</td>\n",
       "      <td>An Alef-Bet Kabalah</td>\n",
       "      <td>None</td>\n",
       "      <td>[None]</td>\n",
       "      <td>None</td>\n",
       "      <td>None</td>\n",
       "    </tr>\n",
       "    <tr>\n",
       "      <th>7</th>\n",
       "      <td>/type/work</td>\n",
       "      <td>/works/OL16806240W</td>\n",
       "      <td>Che Forever</td>\n",
       "      <td>None</td>\n",
       "      <td>[/authors/OL274904A]</td>\n",
       "      <td>None</td>\n",
       "      <td>None</td>\n",
       "    </tr>\n",
       "    <tr>\n",
       "      <th>8</th>\n",
       "      <td>/type/work</td>\n",
       "      <td>/works/OL17802473W</td>\n",
       "      <td>Apartamento en la Costa Brava</td>\n",
       "      <td>None</td>\n",
       "      <td>[/authors/OL1540485A]</td>\n",
       "      <td>None</td>\n",
       "      <td>None</td>\n",
       "    </tr>\n",
       "    <tr>\n",
       "      <th>9</th>\n",
       "      <td>/type/work</td>\n",
       "      <td>/works/OL17802492W</td>\n",
       "      <td>Artisti romi în arte contemporana</td>\n",
       "      <td>None</td>\n",
       "      <td>[None]</td>\n",
       "      <td>None</td>\n",
       "      <td>None</td>\n",
       "    </tr>\n",
       "  </tbody>\n",
       "</table>\n",
       "</div>"
      ],
      "text/plain": [
       "  record_type            work_key  \\\n",
       "0  /type/work   /works/OL5967449W   \n",
       "1  /type/work   /works/OL5918506W   \n",
       "2  /type/work  /works/OL10007810W   \n",
       "3  /type/work   /works/OL9172590W   \n",
       "4  /type/work  /works/OL17802418W   \n",
       "5  /type/work  /works/OL17802421W   \n",
       "6  /type/work  /works/OL16806239W   \n",
       "7  /type/work  /works/OL16806240W   \n",
       "8  /type/work  /works/OL17802473W   \n",
       "9  /type/work  /works/OL17802492W   \n",
       "\n",
       "                                                                             title  \\\n",
       "0                                                 Music in Texas--frontier to 1900   \n",
       "1                                                 Beaumont, a chronicle of promise   \n",
       "2                                              La cuisine a la plancha (connaitre)   \n",
       "3                                                                     Cloud Dancer   \n",
       "4  Leer y redactar en la universidad : del caos de las ideas al texto estructurado   \n",
       "5                                                                       HELLBURNER   \n",
       "6                                                              An Alef-Bet Kabalah   \n",
       "7                                                                      Che Forever   \n",
       "8                                                    Apartamento en la Costa Brava   \n",
       "9                                                Artisti romi în arte contemporana   \n",
       "\n",
       "  subtitle                                 author_keys  \\\n",
       "0     None  [/authors/OL1481792A, /authors/OL1461795A]   \n",
       "1     None  [/authors/OL1461795A, /authors/OL1481792A]   \n",
       "2     None                       [/authors/OL3973957A]   \n",
       "3     None                       [/authors/OL2674508A]   \n",
       "4     None                                      [None]   \n",
       "5     None                       [/authors/OL7046811A]   \n",
       "6     None                                      [None]   \n",
       "7     None                        [/authors/OL274904A]   \n",
       "8     None                       [/authors/OL1540485A]   \n",
       "9     None                                      [None]   \n",
       "\n",
       "                              subjects first_publish_date  \n",
       "0  [Folk music, History and criticism]               None  \n",
       "1                            [History]               None  \n",
       "2                                 None               None  \n",
       "3                                 None               None  \n",
       "4                                 None               None  \n",
       "5                                 None               None  \n",
       "6                                 None               None  \n",
       "7                                 None               None  \n",
       "8                                 None               None  \n",
       "9                                 None               None  "
      ]
     },
     "execution_count": 15,
     "metadata": {},
     "output_type": "execute_result"
    }
   ],
   "source": [
    "df_works_final.limit(10).toPandas()"
   ]
  },
  {
   "cell_type": "code",
   "execution_count": 16,
   "id": "8da25dea-b36d-44a8-a3e8-1d77e6fe65d5",
   "metadata": {
    "execution": {
     "iopub.execute_input": "2025-05-11T08:41:04.666967Z",
     "iopub.status.busy": "2025-05-11T08:41:04.666104Z",
     "iopub.status.idle": "2025-05-11T08:41:04.822545Z",
     "shell.execute_reply": "2025-05-11T08:41:04.820645Z",
     "shell.execute_reply.started": "2025-05-11T08:41:04.666912Z"
    }
   },
   "outputs": [],
   "source": [
    "output_dir = os.path.join(os.getcwd(), \"partitioned_data\")\n",
    "!rm -rf output_dir\n",
    "if not os.path.exists(output_dir):\n",
    "    os.makedirs(output_dir)"
   ]
  },
  {
   "cell_type": "code",
   "execution_count": 17,
   "id": "98b10aee-1d61-4757-89f7-038eeea77773",
   "metadata": {
    "execution": {
     "iopub.execute_input": "2025-05-11T08:41:04.825761Z",
     "iopub.status.busy": "2025-05-11T08:41:04.825098Z",
     "iopub.status.idle": "2025-05-11T09:33:43.231876Z",
     "shell.execute_reply": "2025-05-11T09:33:43.229966Z",
     "shell.execute_reply.started": "2025-05-11T08:41:04.825694Z"
    }
   },
   "outputs": [],
   "source": [
    "works_output_path = f\"{output_dir}/works_partitioned\"\n",
    "df_works_final.write.parquet(works_output_path, mode=\"overwrite\")"
   ]
  },
  {
   "cell_type": "code",
   "execution_count": 18,
   "id": "94f85be8-447f-44e8-be22-78a563714c9c",
   "metadata": {
    "execution": {
     "iopub.execute_input": "2025-05-11T09:33:43.234543Z",
     "iopub.status.busy": "2025-05-11T09:33:43.233758Z",
     "iopub.status.idle": "2025-05-11T09:33:43.823896Z",
     "shell.execute_reply": "2025-05-11T09:33:43.822292Z",
     "shell.execute_reply.started": "2025-05-11T09:33:43.234470Z"
    }
   },
   "outputs": [],
   "source": [
    "df_works_final = spark.read.parquet(works_output_path)"
   ]
  },
  {
   "cell_type": "code",
   "execution_count": 19,
   "id": "6ce2e7fc-dc6c-4f48-9d17-b770796c50b9",
   "metadata": {
    "execution": {
     "iopub.execute_input": "2025-05-11T09:33:43.826366Z",
     "iopub.status.busy": "2025-05-11T09:33:43.825762Z",
     "iopub.status.idle": "2025-05-11T09:33:43.983382Z",
     "shell.execute_reply": "2025-05-11T09:33:43.982078Z",
     "shell.execute_reply.started": "2025-05-11T09:33:43.826312Z"
    }
   },
   "outputs": [
    {
     "data": {
      "text/plain": [
       "31"
      ]
     },
     "execution_count": 19,
     "metadata": {},
     "output_type": "execute_result"
    }
   ],
   "source": [
    "df_works_final.rdd.getNumPartitions()"
   ]
  },
  {
   "cell_type": "markdown",
   "id": "0e7ef2ba-3810-416e-a5a9-9228aa0c9f12",
   "metadata": {},
   "source": [
    "## Authors Dataframe"
   ]
  },
  {
   "cell_type": "code",
   "execution_count": 20,
   "id": "31891d8a-d042-4430-925b-a51eb5a7d65a",
   "metadata": {
    "execution": {
     "iopub.execute_input": "2025-05-11T09:33:43.986329Z",
     "iopub.status.busy": "2025-05-11T09:33:43.985200Z",
     "iopub.status.idle": "2025-05-11T09:33:44.218574Z",
     "shell.execute_reply": "2025-05-11T09:33:44.217721Z",
     "shell.execute_reply.started": "2025-05-11T09:33:43.986266Z"
    },
    "scrolled": true
   },
   "outputs": [
    {
     "data": {
      "text/html": [
       "<div>\n",
       "<style scoped>\n",
       "    .dataframe tbody tr th:only-of-type {\n",
       "        vertical-align: middle;\n",
       "    }\n",
       "\n",
       "    .dataframe tbody tr th {\n",
       "        vertical-align: top;\n",
       "    }\n",
       "\n",
       "    .dataframe thead th {\n",
       "        text-align: right;\n",
       "    }\n",
       "</style>\n",
       "<table border=\"1\" class=\"dataframe\">\n",
       "  <thead>\n",
       "    <tr style=\"text-align: right;\">\n",
       "      <th></th>\n",
       "      <th>record_type</th>\n",
       "      <th>key</th>\n",
       "      <th>revision</th>\n",
       "      <th>timestamp</th>\n",
       "      <th>json_data</th>\n",
       "    </tr>\n",
       "  </thead>\n",
       "  <tbody>\n",
       "    <tr>\n",
       "      <th>0</th>\n",
       "      <td>/type/author</td>\n",
       "      <td>/authors/OL5345273A</td>\n",
       "      <td>1</td>\n",
       "      <td>2008-10-05 09:14:51.676778</td>\n",
       "      <td>{\"name\": \"TOM.KIYIHN\", \"last_modified\": {\"type\": \"/type/datetime\", \"value\": \"2008-10-05T09:14:51.676778\"}, \"key\": \"/authors/OL5345273A\", \"type\": {\"key\": \"/type/author\"}, \"revision\": 1}</td>\n",
       "    </tr>\n",
       "    <tr>\n",
       "      <th>1</th>\n",
       "      <td>/type/author</td>\n",
       "      <td>/authors/OL5345271A</td>\n",
       "      <td>1</td>\n",
       "      <td>2008-10-04 15:55:36.974594</td>\n",
       "      <td>{\"name\": \"Aksakov, S. T.\", \"last_modified\": {\"type\": \"/type/datetime\", \"value\": \"2008-10-04T15:55:36.974594\"}, \"key\": \"/authors/OL5345271A\", \"type\": {\"key\": \"/type/author\"}, \"revision\": 1}</td>\n",
       "    </tr>\n",
       "    <tr>\n",
       "      <th>2</th>\n",
       "      <td>/type/author</td>\n",
       "      <td>/authors/OL5345272A</td>\n",
       "      <td>1</td>\n",
       "      <td>2008-10-04 16:04:08.619520</td>\n",
       "      <td>{\"name\": \"Latham,Barbarahttp://webcat.camosun.bc.ca/cambooks/njpm/tableof.htm\", \"last_modified\": {\"type\": \"/type/datetime\", \"value\": \"2008-10-04T16:04:08.61952\"}, \"key\": \"/authors/OL5345272A\", \"type\": {\"key\": \"/type/author\"}, \"revision\": 1}</td>\n",
       "    </tr>\n",
       "    <tr>\n",
       "      <th>3</th>\n",
       "      <td>/type/author</td>\n",
       "      <td>/authors/OL5345269A</td>\n",
       "      <td>1</td>\n",
       "      <td>2008-10-03 20:38:12.544508</td>\n",
       "      <td>{\"name\": \"Bi\", \"last_modified\": {\"type\": \"/type/datetime\", \"value\": \"2008-10-03T20:38:12.544508\"}, \"key\": \"/authors/OL5345269A\", \"type\": {\"key\": \"/type/author\"}, \"revision\": 1}</td>\n",
       "    </tr>\n",
       "    <tr>\n",
       "      <th>4</th>\n",
       "      <td>/type/author</td>\n",
       "      <td>/authors/OL5345270A</td>\n",
       "      <td>1</td>\n",
       "      <td>2008-10-03 20:38:37.118889</td>\n",
       "      <td>{\"name\": \"Bianco Nicholas\", \"last_modified\": {\"type\": \"/type/datetime\", \"value\": \"2008-10-03T20:38:37.118889\"}, \"key\": \"/authors/OL5345270A\", \"type\": {\"key\": \"/type/author\"}, \"revision\": 1}</td>\n",
       "    </tr>\n",
       "    <tr>\n",
       "      <th>5</th>\n",
       "      <td>/type/author</td>\n",
       "      <td>/authors/OL5345265A</td>\n",
       "      <td>1</td>\n",
       "      <td>2008-10-02 21:00:12.012264</td>\n",
       "      <td>{\"name\": \"Crisp, Tony\", \"last_modified\": {\"type\": \"/type/datetime\", \"value\": \"2008-10-02T21:00:12.012264\"}, \"key\": \"/authors/OL5345265A\", \"type\": {\"key\": \"/type/author\"}, \"revision\": 1}</td>\n",
       "    </tr>\n",
       "    <tr>\n",
       "      <th>6</th>\n",
       "      <td>/type/author</td>\n",
       "      <td>/authors/OL5345268A</td>\n",
       "      <td>1</td>\n",
       "      <td>2008-10-03 13:50:01.827605</td>\n",
       "      <td>{\"name\": \"Jean-Pierre ROSSIE\", \"last_modified\": {\"type\": \"/type/datetime\", \"value\": \"2008-10-03T13:50:01.827605\"}, \"key\": \"/authors/OL5345268A\", \"type\": {\"key\": \"/type/author\"}, \"revision\": 1}</td>\n",
       "    </tr>\n",
       "    <tr>\n",
       "      <th>7</th>\n",
       "      <td>/type/author</td>\n",
       "      <td>/authors/OL5345264A</td>\n",
       "      <td>1</td>\n",
       "      <td>2008-10-02 21:00:12.066032</td>\n",
       "      <td>{\"name\": \"Crisp, Tony\", \"last_modified\": {\"type\": \"/type/datetime\", \"value\": \"2008-10-02T21:00:12.066032\"}, \"key\": \"/authors/OL5345264A\", \"type\": {\"key\": \"/type/author\"}, \"revision\": 1}</td>\n",
       "    </tr>\n",
       "    <tr>\n",
       "      <th>8</th>\n",
       "      <td>/type/author</td>\n",
       "      <td>/authors/OL5345266A</td>\n",
       "      <td>1</td>\n",
       "      <td>2008-10-02 22:32:21.621743</td>\n",
       "      <td>{\"name\": \"Si\", \"last_modified\": {\"type\": \"/type/datetime\", \"value\": \"2008-10-02T22:32:21.621743\"}, \"key\": \"/authors/OL5345266A\", \"type\": {\"key\": \"/type/author\"}, \"revision\": 1}</td>\n",
       "    </tr>\n",
       "    <tr>\n",
       "      <th>9</th>\n",
       "      <td>/type/author</td>\n",
       "      <td>/authors/OL5345267A</td>\n",
       "      <td>1</td>\n",
       "      <td>2008-10-02 22:32:39.685528</td>\n",
       "      <td>{\"name\": \"Sikundar,Sylvia\", \"last_modified\": {\"type\": \"/type/datetime\", \"value\": \"2008-10-02T22:32:39.685528\"}, \"key\": \"/authors/OL5345267A\", \"type\": {\"key\": \"/type/author\"}, \"revision\": 1}</td>\n",
       "    </tr>\n",
       "  </tbody>\n",
       "</table>\n",
       "</div>"
      ],
      "text/plain": [
       "    record_type                  key  revision                  timestamp  \\\n",
       "0  /type/author  /authors/OL5345273A         1 2008-10-05 09:14:51.676778   \n",
       "1  /type/author  /authors/OL5345271A         1 2008-10-04 15:55:36.974594   \n",
       "2  /type/author  /authors/OL5345272A         1 2008-10-04 16:04:08.619520   \n",
       "3  /type/author  /authors/OL5345269A         1 2008-10-03 20:38:12.544508   \n",
       "4  /type/author  /authors/OL5345270A         1 2008-10-03 20:38:37.118889   \n",
       "5  /type/author  /authors/OL5345265A         1 2008-10-02 21:00:12.012264   \n",
       "6  /type/author  /authors/OL5345268A         1 2008-10-03 13:50:01.827605   \n",
       "7  /type/author  /authors/OL5345264A         1 2008-10-02 21:00:12.066032   \n",
       "8  /type/author  /authors/OL5345266A         1 2008-10-02 22:32:21.621743   \n",
       "9  /type/author  /authors/OL5345267A         1 2008-10-02 22:32:39.685528   \n",
       "\n",
       "                                                                                                                                                                                                                                          json_data  \n",
       "0                                                          {\"name\": \"TOM.KIYIHN\", \"last_modified\": {\"type\": \"/type/datetime\", \"value\": \"2008-10-05T09:14:51.676778\"}, \"key\": \"/authors/OL5345273A\", \"type\": {\"key\": \"/type/author\"}, \"revision\": 1}  \n",
       "1                                                      {\"name\": \"Aksakov, S. T.\", \"last_modified\": {\"type\": \"/type/datetime\", \"value\": \"2008-10-04T15:55:36.974594\"}, \"key\": \"/authors/OL5345271A\", \"type\": {\"key\": \"/type/author\"}, \"revision\": 1}  \n",
       "2  {\"name\": \"Latham,Barbarahttp://webcat.camosun.bc.ca/cambooks/njpm/tableof.htm\", \"last_modified\": {\"type\": \"/type/datetime\", \"value\": \"2008-10-04T16:04:08.61952\"}, \"key\": \"/authors/OL5345272A\", \"type\": {\"key\": \"/type/author\"}, \"revision\": 1}  \n",
       "3                                                                  {\"name\": \"Bi\", \"last_modified\": {\"type\": \"/type/datetime\", \"value\": \"2008-10-03T20:38:12.544508\"}, \"key\": \"/authors/OL5345269A\", \"type\": {\"key\": \"/type/author\"}, \"revision\": 1}  \n",
       "4                                                     {\"name\": \"Bianco Nicholas\", \"last_modified\": {\"type\": \"/type/datetime\", \"value\": \"2008-10-03T20:38:37.118889\"}, \"key\": \"/authors/OL5345270A\", \"type\": {\"key\": \"/type/author\"}, \"revision\": 1}  \n",
       "5                                                         {\"name\": \"Crisp, Tony\", \"last_modified\": {\"type\": \"/type/datetime\", \"value\": \"2008-10-02T21:00:12.012264\"}, \"key\": \"/authors/OL5345265A\", \"type\": {\"key\": \"/type/author\"}, \"revision\": 1}  \n",
       "6                                                  {\"name\": \"Jean-Pierre ROSSIE\", \"last_modified\": {\"type\": \"/type/datetime\", \"value\": \"2008-10-03T13:50:01.827605\"}, \"key\": \"/authors/OL5345268A\", \"type\": {\"key\": \"/type/author\"}, \"revision\": 1}  \n",
       "7                                                         {\"name\": \"Crisp, Tony\", \"last_modified\": {\"type\": \"/type/datetime\", \"value\": \"2008-10-02T21:00:12.066032\"}, \"key\": \"/authors/OL5345264A\", \"type\": {\"key\": \"/type/author\"}, \"revision\": 1}  \n",
       "8                                                                  {\"name\": \"Si\", \"last_modified\": {\"type\": \"/type/datetime\", \"value\": \"2008-10-02T22:32:21.621743\"}, \"key\": \"/authors/OL5345266A\", \"type\": {\"key\": \"/type/author\"}, \"revision\": 1}  \n",
       "9                                                     {\"name\": \"Sikundar,Sylvia\", \"last_modified\": {\"type\": \"/type/datetime\", \"value\": \"2008-10-02T22:32:39.685528\"}, \"key\": \"/authors/OL5345267A\", \"type\": {\"key\": \"/type/author\"}, \"revision\": 1}  "
      ]
     },
     "execution_count": 20,
     "metadata": {},
     "output_type": "execute_result"
    }
   ],
   "source": [
    "df_authors = df_split.filter(col(\"record_type\") == \"/type/author\")\n",
    "df_authors.limit(10).toPandas()"
   ]
  },
  {
   "cell_type": "code",
   "execution_count": 21,
   "id": "db2266af-0547-4eb3-a8ca-4c1d000dd13f",
   "metadata": {
    "execution": {
     "iopub.execute_input": "2025-05-11T09:33:44.223670Z",
     "iopub.status.busy": "2025-05-11T09:33:44.223382Z",
     "iopub.status.idle": "2025-05-11T09:33:44.228718Z",
     "shell.execute_reply": "2025-05-11T09:33:44.227929Z",
     "shell.execute_reply.started": "2025-05-11T09:33:44.223646Z"
    }
   },
   "outputs": [],
   "source": [
    "authors_json_schema = StructType([\n",
    "    StructField(\"key\", StringType(), True),\n",
    "    StructField(\"name\", StringType(), True),\n",
    "    StructField(\"location\", StringType(), True),\n",
    "    StructField(\"type\", StructType([\n",
    "        StructField(\"key\", StringType(), True)\n",
    "    ]), True),\n",
    "    StructField(\"revision\", IntegerType(), True),\n",
    "    StructField(\"last_modified\", StructType([\n",
    "        StructField(\"type\", StringType(), True),\n",
    "        StructField(\"value\", StringType(), True)\n",
    "    ]), True)\n",
    "])"
   ]
  },
  {
   "cell_type": "code",
   "execution_count": 22,
   "id": "56e3bc1c-be40-413a-8e0f-b5b8547b5827",
   "metadata": {
    "execution": {
     "iopub.execute_input": "2025-05-11T09:33:44.229827Z",
     "iopub.status.busy": "2025-05-11T09:33:44.229579Z",
     "iopub.status.idle": "2025-05-11T09:33:44.262227Z",
     "shell.execute_reply": "2025-05-11T09:33:44.261075Z",
     "shell.execute_reply.started": "2025-05-11T09:33:44.229804Z"
    }
   },
   "outputs": [],
   "source": [
    "df_authors_parsed = df_authors.withColumn(\n",
    "    \"json_parsed\", from_json(col(\"json_data\"), authors_json_schema)\n",
    ")"
   ]
  },
  {
   "cell_type": "code",
   "execution_count": 23,
   "id": "af562482-71d3-4ea2-b315-339f75441e5e",
   "metadata": {
    "execution": {
     "iopub.execute_input": "2025-05-11T09:33:44.264978Z",
     "iopub.status.busy": "2025-05-11T09:33:44.263685Z",
     "iopub.status.idle": "2025-05-11T09:33:44.319424Z",
     "shell.execute_reply": "2025-05-11T09:33:44.317674Z",
     "shell.execute_reply.started": "2025-05-11T09:33:44.264916Z"
    }
   },
   "outputs": [],
   "source": [
    "df_authors_final = df_authors_parsed.select(\n",
    "    col(\"record_type\"),\n",
    "    col(\"key\").alias(\"author_key\"),\n",
    "    col(\"revision\"),\n",
    "    col(\"timestamp\"),\n",
    "    col(\"json_parsed.name\").alias(\"name\"),\n",
    "    col(\"json_parsed.location\").alias(\"location\")\n",
    ")"
   ]
  },
  {
   "cell_type": "code",
   "execution_count": 24,
   "id": "2c61e170-4cb6-4832-9982-8997bb4a7f8c",
   "metadata": {
    "execution": {
     "iopub.execute_input": "2025-05-11T09:33:44.322305Z",
     "iopub.status.busy": "2025-05-11T09:33:44.321221Z",
     "iopub.status.idle": "2025-05-11T09:33:44.561248Z",
     "shell.execute_reply": "2025-05-11T09:33:44.560196Z",
     "shell.execute_reply.started": "2025-05-11T09:33:44.322245Z"
    },
    "scrolled": true
   },
   "outputs": [
    {
     "data": {
      "text/html": [
       "<div>\n",
       "<style scoped>\n",
       "    .dataframe tbody tr th:only-of-type {\n",
       "        vertical-align: middle;\n",
       "    }\n",
       "\n",
       "    .dataframe tbody tr th {\n",
       "        vertical-align: top;\n",
       "    }\n",
       "\n",
       "    .dataframe thead th {\n",
       "        text-align: right;\n",
       "    }\n",
       "</style>\n",
       "<table border=\"1\" class=\"dataframe\">\n",
       "  <thead>\n",
       "    <tr style=\"text-align: right;\">\n",
       "      <th></th>\n",
       "      <th>record_type</th>\n",
       "      <th>author_key</th>\n",
       "      <th>revision</th>\n",
       "      <th>timestamp</th>\n",
       "      <th>name</th>\n",
       "      <th>location</th>\n",
       "    </tr>\n",
       "  </thead>\n",
       "  <tbody>\n",
       "    <tr>\n",
       "      <th>0</th>\n",
       "      <td>/type/author</td>\n",
       "      <td>/authors/OL5345273A</td>\n",
       "      <td>1</td>\n",
       "      <td>2008-10-05 09:14:51.676778</td>\n",
       "      <td>TOM.KIYIHN</td>\n",
       "      <td>None</td>\n",
       "    </tr>\n",
       "    <tr>\n",
       "      <th>1</th>\n",
       "      <td>/type/author</td>\n",
       "      <td>/authors/OL5345271A</td>\n",
       "      <td>1</td>\n",
       "      <td>2008-10-04 15:55:36.974594</td>\n",
       "      <td>Aksakov, S. T.</td>\n",
       "      <td>None</td>\n",
       "    </tr>\n",
       "    <tr>\n",
       "      <th>2</th>\n",
       "      <td>/type/author</td>\n",
       "      <td>/authors/OL5345272A</td>\n",
       "      <td>1</td>\n",
       "      <td>2008-10-04 16:04:08.619520</td>\n",
       "      <td>Latham,Barbarahttp://webcat.camosun.bc.ca/cambooks/njpm/tableof.htm</td>\n",
       "      <td>None</td>\n",
       "    </tr>\n",
       "    <tr>\n",
       "      <th>3</th>\n",
       "      <td>/type/author</td>\n",
       "      <td>/authors/OL5345269A</td>\n",
       "      <td>1</td>\n",
       "      <td>2008-10-03 20:38:12.544508</td>\n",
       "      <td>Bi</td>\n",
       "      <td>None</td>\n",
       "    </tr>\n",
       "    <tr>\n",
       "      <th>4</th>\n",
       "      <td>/type/author</td>\n",
       "      <td>/authors/OL5345270A</td>\n",
       "      <td>1</td>\n",
       "      <td>2008-10-03 20:38:37.118889</td>\n",
       "      <td>Bianco Nicholas</td>\n",
       "      <td>None</td>\n",
       "    </tr>\n",
       "    <tr>\n",
       "      <th>5</th>\n",
       "      <td>/type/author</td>\n",
       "      <td>/authors/OL5345265A</td>\n",
       "      <td>1</td>\n",
       "      <td>2008-10-02 21:00:12.012264</td>\n",
       "      <td>Crisp, Tony</td>\n",
       "      <td>None</td>\n",
       "    </tr>\n",
       "    <tr>\n",
       "      <th>6</th>\n",
       "      <td>/type/author</td>\n",
       "      <td>/authors/OL5345268A</td>\n",
       "      <td>1</td>\n",
       "      <td>2008-10-03 13:50:01.827605</td>\n",
       "      <td>Jean-Pierre ROSSIE</td>\n",
       "      <td>None</td>\n",
       "    </tr>\n",
       "    <tr>\n",
       "      <th>7</th>\n",
       "      <td>/type/author</td>\n",
       "      <td>/authors/OL5345264A</td>\n",
       "      <td>1</td>\n",
       "      <td>2008-10-02 21:00:12.066032</td>\n",
       "      <td>Crisp, Tony</td>\n",
       "      <td>None</td>\n",
       "    </tr>\n",
       "    <tr>\n",
       "      <th>8</th>\n",
       "      <td>/type/author</td>\n",
       "      <td>/authors/OL5345266A</td>\n",
       "      <td>1</td>\n",
       "      <td>2008-10-02 22:32:21.621743</td>\n",
       "      <td>Si</td>\n",
       "      <td>None</td>\n",
       "    </tr>\n",
       "    <tr>\n",
       "      <th>9</th>\n",
       "      <td>/type/author</td>\n",
       "      <td>/authors/OL5345267A</td>\n",
       "      <td>1</td>\n",
       "      <td>2008-10-02 22:32:39.685528</td>\n",
       "      <td>Sikundar,Sylvia</td>\n",
       "      <td>None</td>\n",
       "    </tr>\n",
       "  </tbody>\n",
       "</table>\n",
       "</div>"
      ],
      "text/plain": [
       "    record_type           author_key  revision                  timestamp  \\\n",
       "0  /type/author  /authors/OL5345273A         1 2008-10-05 09:14:51.676778   \n",
       "1  /type/author  /authors/OL5345271A         1 2008-10-04 15:55:36.974594   \n",
       "2  /type/author  /authors/OL5345272A         1 2008-10-04 16:04:08.619520   \n",
       "3  /type/author  /authors/OL5345269A         1 2008-10-03 20:38:12.544508   \n",
       "4  /type/author  /authors/OL5345270A         1 2008-10-03 20:38:37.118889   \n",
       "5  /type/author  /authors/OL5345265A         1 2008-10-02 21:00:12.012264   \n",
       "6  /type/author  /authors/OL5345268A         1 2008-10-03 13:50:01.827605   \n",
       "7  /type/author  /authors/OL5345264A         1 2008-10-02 21:00:12.066032   \n",
       "8  /type/author  /authors/OL5345266A         1 2008-10-02 22:32:21.621743   \n",
       "9  /type/author  /authors/OL5345267A         1 2008-10-02 22:32:39.685528   \n",
       "\n",
       "                                                                  name  \\\n",
       "0                                                           TOM.KIYIHN   \n",
       "1                                                       Aksakov, S. T.   \n",
       "2  Latham,Barbarahttp://webcat.camosun.bc.ca/cambooks/njpm/tableof.htm   \n",
       "3                                                                   Bi   \n",
       "4                                                      Bianco Nicholas   \n",
       "5                                                          Crisp, Tony   \n",
       "6                                                   Jean-Pierre ROSSIE   \n",
       "7                                                          Crisp, Tony   \n",
       "8                                                                   Si   \n",
       "9                                                      Sikundar,Sylvia   \n",
       "\n",
       "  location  \n",
       "0     None  \n",
       "1     None  \n",
       "2     None  \n",
       "3     None  \n",
       "4     None  \n",
       "5     None  \n",
       "6     None  \n",
       "7     None  \n",
       "8     None  \n",
       "9     None  "
      ]
     },
     "execution_count": 24,
     "metadata": {},
     "output_type": "execute_result"
    }
   ],
   "source": [
    "df_authors_final.limit(10).toPandas()"
   ]
  },
  {
   "cell_type": "code",
   "execution_count": 27,
   "id": "3fae3cde-99a9-4f13-be76-eb2e34b52fe6",
   "metadata": {
    "execution": {
     "iopub.execute_input": "2025-05-11T09:42:22.665055Z",
     "iopub.status.busy": "2025-05-11T09:42:22.664305Z",
     "iopub.status.idle": "2025-05-11T10:12:06.458490Z",
     "shell.execute_reply": "2025-05-11T10:12:06.457049Z",
     "shell.execute_reply.started": "2025-05-11T09:42:22.664993Z"
    }
   },
   "outputs": [],
   "source": [
    "authors_output_path = f\"{output_dir}/authors_partitioned\"\n",
    "df_authors_final.write.parquet(authors_output_path, mode=\"overwrite\")"
   ]
  },
  {
   "cell_type": "code",
   "execution_count": 28,
   "id": "c9098e43-94f5-4f85-898a-ca85769f70e4",
   "metadata": {
    "execution": {
     "iopub.execute_input": "2025-05-11T10:12:06.461735Z",
     "iopub.status.busy": "2025-05-11T10:12:06.460849Z",
     "iopub.status.idle": "2025-05-11T10:12:06.713921Z",
     "shell.execute_reply": "2025-05-11T10:12:06.712770Z",
     "shell.execute_reply.started": "2025-05-11T10:12:06.461678Z"
    }
   },
   "outputs": [],
   "source": [
    "df_authors_final = spark.read.parquet(authors_output_path)"
   ]
  },
  {
   "cell_type": "code",
   "execution_count": 29,
   "id": "4034ddcc-7b5b-4160-bd9f-260b715fe37f",
   "metadata": {
    "execution": {
     "iopub.execute_input": "2025-05-11T10:12:06.715368Z",
     "iopub.status.busy": "2025-05-11T10:12:06.715056Z",
     "iopub.status.idle": "2025-05-11T10:12:06.795199Z",
     "shell.execute_reply": "2025-05-11T10:12:06.794072Z",
     "shell.execute_reply.started": "2025-05-11T10:12:06.715337Z"
    }
   },
   "outputs": [
    {
     "data": {
      "text/plain": [
       "16"
      ]
     },
     "execution_count": 29,
     "metadata": {},
     "output_type": "execute_result"
    }
   ],
   "source": [
    "df_authors_final.rdd.getNumPartitions()"
   ]
  },
  {
   "cell_type": "markdown",
   "id": "b6d75aa0-8d2f-457d-95d6-2892601d6697",
   "metadata": {},
   "source": [
    "## Editions Dataframe"
   ]
  },
  {
   "cell_type": "code",
   "execution_count": 30,
   "id": "13568d8d-387a-4f30-b539-825a5791404c",
   "metadata": {
    "execution": {
     "iopub.execute_input": "2025-05-11T10:12:06.797622Z",
     "iopub.status.busy": "2025-05-11T10:12:06.797279Z",
     "iopub.status.idle": "2025-05-11T10:12:06.973767Z",
     "shell.execute_reply": "2025-05-11T10:12:06.972638Z",
     "shell.execute_reply.started": "2025-05-11T10:12:06.797588Z"
    }
   },
   "outputs": [
    {
     "data": {
      "text/html": [
       "<div>\n",
       "<style scoped>\n",
       "    .dataframe tbody tr th:only-of-type {\n",
       "        vertical-align: middle;\n",
       "    }\n",
       "\n",
       "    .dataframe tbody tr th {\n",
       "        vertical-align: top;\n",
       "    }\n",
       "\n",
       "    .dataframe thead th {\n",
       "        text-align: right;\n",
       "    }\n",
       "</style>\n",
       "<table border=\"1\" class=\"dataframe\">\n",
       "  <thead>\n",
       "    <tr style=\"text-align: right;\">\n",
       "      <th></th>\n",
       "      <th>record_type</th>\n",
       "      <th>key</th>\n",
       "      <th>revision</th>\n",
       "      <th>timestamp</th>\n",
       "      <th>json_data</th>\n",
       "    </tr>\n",
       "  </thead>\n",
       "  <tbody>\n",
       "    <tr>\n",
       "      <th>0</th>\n",
       "      <td>/type/edition</td>\n",
       "      <td>/books/OL17806216M</td>\n",
       "      <td>1</td>\n",
       "      <td>2008-10-01 06:49:20.851055</td>\n",
       "      <td>{\"table_of_contents\": [{\"type\": \"/type/text\", \"value\": \"Gender as a category of analysis in vernacular architect studies / Angel Kwolek-Folland\"}, {\"type\": \"/type/text\", \"value\": \"\\\"I'm a lumberjack and I'm ok\\\" : the built environment and varied masculinities in the industrial age / Deryck W. Holdsworth\"}, {\"type\": \"/type/text\", \"value\": \"The Masonic lodge room, 1870-1930 : a sacred space of masculine spiritual hierarchy / William D. Moore\"}, {\"type\": \"/type/text\", \"value\": \"Grammar codes, and performance : linguistic and sociolinguistic models in the study of vernacular architecture / Michael Ann Williams and M. Jane Young\"}, {\"type\": \"/type/text\", \"value\": \"Building an urban identity : the clustered spires of Frederick, Maryland / Diane Shaw\"}, {\"type\": \"/type/text\", \"value\": \"\\\"A school house well arranged\\\" : Baltimore public school buildings on the Lancasterian plan, 1829-1839 / Peter E. Kurtze\"}, {\"type\": \"/type/text\", \"value\": \"Letting in \\\"the world\\\" : (re)interpretive tensions in the Quaker meeting house / Susan Garfinkel\"}, {\"type\": \"/type/text\", \"value\": \"Man\\u0303ana, man\\u0303ana : racial stereotypes and the Anglo rediscovery of the Southwest's vernacular architecture, 1890-1920 / Abigail A. Van Slyck\"}, {\"type\": \"/type/text\", \"value\": \"Association, residence, and shop : an appropriation of commercial blocks in North American Chinatowns / Christopher L. Yip\"}, {\"type\": \"/type/text\", \"value\": \"\\\"Snug li'l house with flue and oven\\\" : nineteenth-century reforms in plantation slave housing / John Michael Vlach\"}, {\"type\": \"/type/text\", \"value\": \"Cheap and tasteful dwellings in popular architecture / Jan Jennings\"}, {\"type\": \"/type/text\", \"value\": \"Cheap, quick, and easy, part II : pressed metal ceilings, 1880-1930 / Pamela H. Simpson\"}, {\"type\": \"/type/text\", \"value\": \"The Eichler home : intention and experience in postwar suburbia / Annmarie Adams\"}, {\"type\": \"/type/text\", \"value\": \"Rural adaptations of suburban bungalows, Sussex County, Delaware / Susan Mulchahey Chase\"}, {\"type\": \"/type/text\", \"value\": \"Building in stone in southwestern Pennyslvania : patterns and process / Karen Koegler\"}, {\"type\": \"/type/text\", \"value\": \"Private dwellings, public ways, and the landscape of early rural capitalism in Virginia's Shenandoah Valley / Warren R. Hofstra\"}, {\"type\": \"/type/text\", \"value\": \"The architectural and social topography of early-nineteenth-century Portsmouth, New Hampshire / Bernard L. Herman\"}, {\"type\": \"/type/text\", \"value\": \"From roadside camps to garden homes : housing and community planning for California's migrant work force, 1935-1941 / Greg Hise.\"}], \"series\": [\"Perspectives in vernacular architecture -- 5.\", \"Perspectives in vernacular architecture (Knoxville, Tenn.) -- 5.\"], \"lc_classifications\": [\"NA705 .G36 1995\"], \"contributions\": [\"Cromley, Elizabeth C.\", \"Hudgins, Carter L.\"], \"edition_name\": \"1st ed.\", \"title\": \"Gender, class, and shelter\", \"languages\": [{\"key\": \"/languages/eng\"}], \"subjects\": [\"Vernacular architecture -- United States.\", \"Architecture and society -- United States.\"], \"publish_country\": \"tnu\", \"by_statement\": \"edited by Elizabeth Collins Cromley and Carter L. Hudgins.\", \"type\": {\"key\": \"/type/edition\"}, \"revision\": 1, \"publishers\": [\"University of Tennessee Press\"], \"last_modified\": {\"type\": \"/type/datetime\", \"value\": \"2008-10-01T06:49:20.851055\"}, \"key\": \"/books/OL17806216M\", \"publish_places\": [\"Knoxville\"], \"pagination\": \"xiv, 272 p. :\", \"dewey_decimal_class\": [\"720/.1/060973\"], \"notes\": {\"type\": \"/type/text\", \"value\": \"Includes bibliographical references (p. [259]-264) and index.\"}, \"number_of_pages\": 272, \"lccn\": [\"94018715\"], \"isbn_10\": [\"087049872X\"], \"publish_date\": \"1995\"}</td>\n",
       "    </tr>\n",
       "    <tr>\n",
       "      <th>1</th>\n",
       "      <td>/type/edition</td>\n",
       "      <td>/books/OL17841395M</td>\n",
       "      <td>1</td>\n",
       "      <td>2008-10-01 11:02:13.766308</td>\n",
       "      <td>{\"pagination\": \"$29.95\", \"last_modified\": {\"type\": \"/type/datetime\", \"value\": \"2008-10-01T11:02:13.766308\"}, \"title\": \"Elizabeth Blackburn and the story of telomeres\", \"notes\": {\"type\": \"/type/text\", \"value\": \"SP\"}, \"number_of_pages\": 95, \"isbn_10\": [\"262026228\"], \"key\": \"/books/OL17841395M\", \"authors\": [{\"key\": \"/authors/OL5345253A\"}], \"publish_places\": [\"MIT, 2007\"], \"type\": {\"key\": \"/type/edition\"}, \"subjects\": [\"History of Medicine\"], \"revision\": 1}</td>\n",
       "    </tr>\n",
       "    <tr>\n",
       "      <th>2</th>\n",
       "      <td>/type/edition</td>\n",
       "      <td>/books/OL17841396M</td>\n",
       "      <td>1</td>\n",
       "      <td>2008-10-01 11:02:14.299218</td>\n",
       "      <td>{\"publishers\": [\"Medical Research Foundation of Oregon\"], \"pagination\": \"1 sheet :\", \"table_of_contents\": [{\"type\": \"/type/text\", \"value\": \"History and purpose.\"}, {\"type\": \"/type/text\", \"value\": \"Personnel.\"}, {\"type\": \"/type/text\", \"value\": \"Facilities.\"}, {\"type\": \"/type/text\", \"value\": \"Finances and organization.\"}, {\"type\": \"/type/text\", \"value\": \"Map of campus, dated April 1962 (buildings under construction or completed).\"}], \"title\": \"Oregon Regional Primate Research Center facts.\", \"oclc_number\": [\"190823722\"], \"languages\": [{\"key\": \"/languages/eng\"}], \"last_modified\": {\"type\": \"/type/datetime\", \"value\": \"2008-10-01T11:02:14.299218\"}, \"publish_date\": \"1962\", \"publish_country\": \"oru\", \"key\": \"/books/OL17841396M\", \"authors\": [{\"key\": \"/authors/OL4684114A\"}], \"publish_places\": [\"Portland, Or\"], \"type\": {\"key\": \"/type/edition\"}, \"subjects\": [\"Oregon Regional Primate Research Center.\", \"Primates.\", \"Research -- Oregon.\"], \"revision\": 1}</td>\n",
       "    </tr>\n",
       "    <tr>\n",
       "      <th>3</th>\n",
       "      <td>/type/edition</td>\n",
       "      <td>/books/OL17841387M</td>\n",
       "      <td>1</td>\n",
       "      <td>2008-10-01 11:02:08.596896</td>\n",
       "      <td>{\"subtitle\": \"effect in female, black, and diabetic patients, and cost-effectiveness\", \"series\": [\"Evidence report/technology assessment -- no. 82\", \"AHRQ publication -- no. 03-E045\"], \"lc_classifications\": [\"RC685.C53 P437 2003\"], \"contributions\": [\"Shekelle, Paul G.\", \"Morton, Sally C.\", \"Southern California Evidence-Based Practice Center/RAND.\"], \"title\": \"Pharmacologic management of heart failure and left ventricular systolic dysfunction\", \"languages\": [{\"key\": \"/languages/eng\"}], \"subjects\": [\"Heart failure -- Chemotherapy -- Evaluation.\", \"Heart failure -- Chemotherapy -- Cost effectiveness.\", \"Adrenergic beta blockers -- Therapeutic use -- Evaluation.\", \"Angiotensin converting enzyme -- Inhibitors -- Therapeutic use -- Evaluation.\", \"Diabetes -- Complications -- Chemotherapy -- Evaluation.\", \"Evidence-based medicine.\", \"Heart Failure -- drug therapy.\", \"Ventricular Dysfunction, Left -- drug therapy.\", \"Evidence-Based Medicine -- methods.\"], \"publish_country\": \"mdu\", \"by_statement\": \"prepared for Agency for Healthcare Research and Quality, U.S. Department of Health and Human Services ; prepared by Southern California-RAND Evidence-based Practice Center, Santa Monica, CA ; program director, Paul Shekelle, program co-director, Sally Morton ... [et al.].\", \"type\": {\"key\": \"/type/edition\"}, \"revision\": 1, \"publishers\": [\"U.S. Dept. of Health and Human Services, Public Health Service, Agency for Healthcare Research and Quality\"], \"last_modified\": {\"type\": \"/type/datetime\", \"value\": \"2008-10-01T11:02:08.596896\"}, \"key\": \"/books/OL17841387M\", \"publish_places\": [\"Rockville, Md\"], \"oclc_number\": [\"54960165\"], \"pagination\": \"x, 163 p. :\", \"dewey_decimal_class\": [\"616.1/29061\"], \"notes\": {\"type\": \"/type/text\", \"value\": \"\\\"Prepared for Agency for Healthcare Research and Quality, U.S. Department of Health and Human Services.\\\"\\n\\n\\\"July 2003.\\\"\\n\\n\\\"Contract no.: 290-97-0001.\\\"\\n\\n\\\"\\\"Bibliography\\\": p. 101-128.\\n\\nIncludes bibliographical references (p. 83-85).\"}, \"number_of_pages\": 163, \"lccn\": [\"2003628991\"], \"publish_date\": \"2003\"}</td>\n",
       "    </tr>\n",
       "    <tr>\n",
       "      <th>4</th>\n",
       "      <td>/type/edition</td>\n",
       "      <td>/books/OL17841388M</td>\n",
       "      <td>1</td>\n",
       "      <td>2008-10-01 11:02:09.629327</td>\n",
       "      <td>{\"publishers\": [\"W.M. Hinton &amp; Co., Printers\"], \"pagination\": \"10 p. ;\", \"last_modified\": {\"type\": \"/type/datetime\", \"value\": \"2008-10-01T11:02:09.629327\"}, \"title\": \"Disease-germs\", \"type\": {\"key\": \"/type/edition\"}, \"notes\": {\"type\": \"/type/text\", \"value\": \"\\\"An address delivered at the anniversary meeting of the San Francisco Medical Society, November, 1879.\\\"\\n\\nCover title.\"}, \"number_of_pages\": 10, \"languages\": [{\"key\": \"/languages/eng\"}], \"subjects\": [\"Germ theory of disease.\", \"Bacteria.\", \"Bacteria.\"], \"publish_date\": \"1879\", \"publish_country\": \"cau\", \"key\": \"/books/OL17841388M\", \"authors\": [{\"key\": \"/authors/OL2456514A\"}], \"by_statement\": \"by J.H. Wythe.\", \"publish_places\": [\"S.F. [i.e. San Francisco]\"], \"oclc_number\": [\"15642021\"], \"revision\": 1}</td>\n",
       "    </tr>\n",
       "    <tr>\n",
       "      <th>5</th>\n",
       "      <td>/type/edition</td>\n",
       "      <td>/books/OL17841389M</td>\n",
       "      <td>1</td>\n",
       "      <td>2008-10-01 11:02:10.116704</td>\n",
       "      <td>{\"last_modified\": {\"type\": \"/type/datetime\", \"value\": \"2008-10-01T11:02:10.116704\"}, \"title\": \"Current diagnosis and treatment: emergency medicine\", \"notes\": {\"type\": \"/type/text\", \"value\": \"$69.95\"}, \"isbn_10\": [\"780071443197\"], \"key\": \"/books/OL17841389M\", \"authors\": [{\"key\": \"/authors/OL5345248A\"}], \"publish_places\": [\"McGraw Hill, 2008\"], \"type\": {\"key\": \"/type/edition\"}, \"subjects\": [\"Emergency Medicine\"], \"revision\": 1}</td>\n",
       "    </tr>\n",
       "    <tr>\n",
       "      <th>6</th>\n",
       "      <td>/type/edition</td>\n",
       "      <td>/books/OL17841390M</td>\n",
       "      <td>1</td>\n",
       "      <td>2008-10-01 11:02:10.530593</td>\n",
       "      <td>{\"title\": \"Midwifery &amp; Childbirth in America\", \"last_modified\": {\"type\": \"/type/datetime\", \"value\": \"2008-10-01T11:02:10.530593\"}, \"key\": \"/books/OL17841390M\", \"authors\": [{\"key\": \"/authors/OL5345249A\"}], \"type\": {\"key\": \"/type/edition\"}, \"revision\": 1}</td>\n",
       "    </tr>\n",
       "    <tr>\n",
       "      <th>7</th>\n",
       "      <td>/type/edition</td>\n",
       "      <td>/books/OL17841391M</td>\n",
       "      <td>1</td>\n",
       "      <td>2008-10-01 11:02:10.954860</td>\n",
       "      <td>{\"last_modified\": {\"type\": \"/type/datetime\", \"value\": \"2008-10-01T11:02:10.95486\"}, \"title\": \"Fundamentals of musculoskeletal ultrasound\", \"notes\": {\"type\": \"/type/text\", \"value\": \"$79.00\"}, \"isbn_10\": [\"416035931\"], \"key\": \"/books/OL17841391M\", \"authors\": [{\"key\": \"/authors/OL5345250A\"}], \"publish_places\": [\"Saunders, 2007\"], \"type\": {\"key\": \"/type/edition\"}, \"subjects\": [\"Radiology\"], \"revision\": 1}</td>\n",
       "    </tr>\n",
       "    <tr>\n",
       "      <th>8</th>\n",
       "      <td>/type/edition</td>\n",
       "      <td>/books/OL17841366M</td>\n",
       "      <td>1</td>\n",
       "      <td>2008-10-01 11:01:55.432347</td>\n",
       "      <td>{\"title\": \"Tami's test record\", \"last_modified\": {\"type\": \"/type/datetime\", \"value\": \"2008-10-01T11:01:55.432347\"}, \"key\": \"/books/OL17841366M\", \"authors\": [{\"key\": \"/authors/OL5345237A\"}], \"publish_places\": [\"2007\"], \"type\": {\"key\": \"/type/edition\"}, \"revision\": 1}</td>\n",
       "    </tr>\n",
       "    <tr>\n",
       "      <th>9</th>\n",
       "      <td>/type/edition</td>\n",
       "      <td>/books/OL17841392M</td>\n",
       "      <td>1</td>\n",
       "      <td>2008-10-01 11:02:11.453848</td>\n",
       "      <td>{\"publishers\": [\"Oregon Health &amp; Science University, Dept. of Surgery\"], \"pagination\": \"65 p. :\", \"table_of_contents\": [{\"type\": \"/type/text\", \"value\": \"Introduction.\"}, {\"type\": \"/type/text\", \"value\": \"History of Oregon Health &amp; Science University.\"}, {\"type\": \"/type/text\", \"value\": \"\\\"The downtown surgeons\\\"\"}, {\"type\": \"/type/text\", \"value\": \"History of the surgical residency programs.\"}, {\"type\": \"/type/text\", \"value\": \"OHSU surgery residency program.\"}, {\"type\": \"/type/text\", \"value\": \"History of OHSU surgery divisions.\"}, {\"type\": \"/type/text\", \"value\": \"March to a world class department of surgery.\"}, {\"type\": \"/type/text\", \"value\": \"Historic events in the Department of Surgery.\"}, {\"type\": \"/type/text\", \"value\": \"References.\"}, {\"type\": \"/type/text\", \"value\": \"Interviewees and manuscript reviewers.\"}], \"title\": \"History of the Department of Surgery, 1867-2007\", \"oclc_number\": [\"187326800\"], \"notes\": {\"type\": \"/type/text\", \"value\": \"Includes bibliographical references (p. 63-64).\"}, \"number_of_pages\": 65, \"edition_name\": \"1st ed.\", \"languages\": [{\"key\": \"/languages/eng\"}], \"last_modified\": {\"type\": \"/type/datetime\", \"value\": \"2008-10-01T11:02:11.453848\"}, \"publish_date\": \"2007\", \"publish_country\": \"oru\", \"key\": \"/books/OL17841392M\", \"authors\": [{\"key\": \"/authors/OL5345251A\"}], \"by_statement\": \"written by Patricia A. Southard.\", \"publish_places\": [\"Portland, Or\"], \"type\": {\"key\": \"/type/edition\"}, \"subjects\": [\"Oregon Health &amp; Science University. -- Dept. of Surgery.\", \"Oregon Health Sciences University. -- Dept. of Surgery.\", \"University of Oregon Health Sciences Center. -- Dept. of Surgery.\", \"University of Oregon. -- Medical School. -- Dept. of Surgery.\", \"Surgery -- history -- Oregon.\", \"Schools, Medical -- history -- Oregon.\"], \"revision\": 1}</td>\n",
       "    </tr>\n",
       "  </tbody>\n",
       "</table>\n",
       "</div>"
      ],
      "text/plain": [
       "     record_type                 key  revision                  timestamp  \\\n",
       "0  /type/edition  /books/OL17806216M         1 2008-10-01 06:49:20.851055   \n",
       "1  /type/edition  /books/OL17841395M         1 2008-10-01 11:02:13.766308   \n",
       "2  /type/edition  /books/OL17841396M         1 2008-10-01 11:02:14.299218   \n",
       "3  /type/edition  /books/OL17841387M         1 2008-10-01 11:02:08.596896   \n",
       "4  /type/edition  /books/OL17841388M         1 2008-10-01 11:02:09.629327   \n",
       "5  /type/edition  /books/OL17841389M         1 2008-10-01 11:02:10.116704   \n",
       "6  /type/edition  /books/OL17841390M         1 2008-10-01 11:02:10.530593   \n",
       "7  /type/edition  /books/OL17841391M         1 2008-10-01 11:02:10.954860   \n",
       "8  /type/edition  /books/OL17841366M         1 2008-10-01 11:01:55.432347   \n",
       "9  /type/edition  /books/OL17841392M         1 2008-10-01 11:02:11.453848   \n",
       "\n",
       "                                                                                                                                                                                                                                                                                                                                                                                                                                                                                                                                                                                                                                                                                                                                                                                                                                                                                                                                                                                                                                                                                                                                                                                                                                                                                                                                                                                                                                                                                                                                                                                                                                                                                                                                                                                                                                                                                                                                                                                                                                                                                                                                                                                                                                                                                                                                                                                                                                                                                                                                                                                                                                                                                                                                                                                                                                                                                                                                                                                                                                                                                                                                                                                                                                                                                                                                                                                                                                                                                                                                                                                                                                                                                                                                                                                                                                            json_data  \n",
       "0  {\"table_of_contents\": [{\"type\": \"/type/text\", \"value\": \"Gender as a category of analysis in vernacular architect studies / Angel Kwolek-Folland\"}, {\"type\": \"/type/text\", \"value\": \"\\\"I'm a lumberjack and I'm ok\\\" : the built environment and varied masculinities in the industrial age / Deryck W. Holdsworth\"}, {\"type\": \"/type/text\", \"value\": \"The Masonic lodge room, 1870-1930 : a sacred space of masculine spiritual hierarchy / William D. Moore\"}, {\"type\": \"/type/text\", \"value\": \"Grammar codes, and performance : linguistic and sociolinguistic models in the study of vernacular architecture / Michael Ann Williams and M. Jane Young\"}, {\"type\": \"/type/text\", \"value\": \"Building an urban identity : the clustered spires of Frederick, Maryland / Diane Shaw\"}, {\"type\": \"/type/text\", \"value\": \"\\\"A school house well arranged\\\" : Baltimore public school buildings on the Lancasterian plan, 1829-1839 / Peter E. Kurtze\"}, {\"type\": \"/type/text\", \"value\": \"Letting in \\\"the world\\\" : (re)interpretive tensions in the Quaker meeting house / Susan Garfinkel\"}, {\"type\": \"/type/text\", \"value\": \"Man\\u0303ana, man\\u0303ana : racial stereotypes and the Anglo rediscovery of the Southwest's vernacular architecture, 1890-1920 / Abigail A. Van Slyck\"}, {\"type\": \"/type/text\", \"value\": \"Association, residence, and shop : an appropriation of commercial blocks in North American Chinatowns / Christopher L. Yip\"}, {\"type\": \"/type/text\", \"value\": \"\\\"Snug li'l house with flue and oven\\\" : nineteenth-century reforms in plantation slave housing / John Michael Vlach\"}, {\"type\": \"/type/text\", \"value\": \"Cheap and tasteful dwellings in popular architecture / Jan Jennings\"}, {\"type\": \"/type/text\", \"value\": \"Cheap, quick, and easy, part II : pressed metal ceilings, 1880-1930 / Pamela H. Simpson\"}, {\"type\": \"/type/text\", \"value\": \"The Eichler home : intention and experience in postwar suburbia / Annmarie Adams\"}, {\"type\": \"/type/text\", \"value\": \"Rural adaptations of suburban bungalows, Sussex County, Delaware / Susan Mulchahey Chase\"}, {\"type\": \"/type/text\", \"value\": \"Building in stone in southwestern Pennyslvania : patterns and process / Karen Koegler\"}, {\"type\": \"/type/text\", \"value\": \"Private dwellings, public ways, and the landscape of early rural capitalism in Virginia's Shenandoah Valley / Warren R. Hofstra\"}, {\"type\": \"/type/text\", \"value\": \"The architectural and social topography of early-nineteenth-century Portsmouth, New Hampshire / Bernard L. Herman\"}, {\"type\": \"/type/text\", \"value\": \"From roadside camps to garden homes : housing and community planning for California's migrant work force, 1935-1941 / Greg Hise.\"}], \"series\": [\"Perspectives in vernacular architecture -- 5.\", \"Perspectives in vernacular architecture (Knoxville, Tenn.) -- 5.\"], \"lc_classifications\": [\"NA705 .G36 1995\"], \"contributions\": [\"Cromley, Elizabeth C.\", \"Hudgins, Carter L.\"], \"edition_name\": \"1st ed.\", \"title\": \"Gender, class, and shelter\", \"languages\": [{\"key\": \"/languages/eng\"}], \"subjects\": [\"Vernacular architecture -- United States.\", \"Architecture and society -- United States.\"], \"publish_country\": \"tnu\", \"by_statement\": \"edited by Elizabeth Collins Cromley and Carter L. Hudgins.\", \"type\": {\"key\": \"/type/edition\"}, \"revision\": 1, \"publishers\": [\"University of Tennessee Press\"], \"last_modified\": {\"type\": \"/type/datetime\", \"value\": \"2008-10-01T06:49:20.851055\"}, \"key\": \"/books/OL17806216M\", \"publish_places\": [\"Knoxville\"], \"pagination\": \"xiv, 272 p. :\", \"dewey_decimal_class\": [\"720/.1/060973\"], \"notes\": {\"type\": \"/type/text\", \"value\": \"Includes bibliographical references (p. [259]-264) and index.\"}, \"number_of_pages\": 272, \"lccn\": [\"94018715\"], \"isbn_10\": [\"087049872X\"], \"publish_date\": \"1995\"}  \n",
       "1                                                                                                                                                                                                                                                                                                                                                                                                                                                                                                                                                                                                                                                                                                                                                                                                                                                                                                                                                                                                                                                                                                                                                                                                                                                                                                                                                                                                                                                                                                                                                                                                                                                                                                                                                                                                                                                                                                                                                                                                                                                                                                                                                                                                                                                                                                                                                                                                                                                                                                                                                                                                                                                                                                                                                                                                                                                                                                                                                                                                                                                                                                                                                                                                                                                                                                                                                                           {\"pagination\": \"$29.95\", \"last_modified\": {\"type\": \"/type/datetime\", \"value\": \"2008-10-01T11:02:13.766308\"}, \"title\": \"Elizabeth Blackburn and the story of telomeres\", \"notes\": {\"type\": \"/type/text\", \"value\": \"SP\"}, \"number_of_pages\": 95, \"isbn_10\": [\"262026228\"], \"key\": \"/books/OL17841395M\", \"authors\": [{\"key\": \"/authors/OL5345253A\"}], \"publish_places\": [\"MIT, 2007\"], \"type\": {\"key\": \"/type/edition\"}, \"subjects\": [\"History of Medicine\"], \"revision\": 1}  \n",
       "2                                                                                                                                                                                                                                                                                                                                                                                                                                                                                                                                                                                                                                                                                                                                                                                                                                                                                                                                                                                                                                                                                                                                                                                                                                                                                                                                                                                                                                                                                                                                                                                                                                                                                                                                                                                                                                                                                                                                                                                                                                                                                                                                                                                                                                                                                                                                                                                                                                                                                                                                                                                                                                                                                                                                                                                                                                                           {\"publishers\": [\"Medical Research Foundation of Oregon\"], \"pagination\": \"1 sheet :\", \"table_of_contents\": [{\"type\": \"/type/text\", \"value\": \"History and purpose.\"}, {\"type\": \"/type/text\", \"value\": \"Personnel.\"}, {\"type\": \"/type/text\", \"value\": \"Facilities.\"}, {\"type\": \"/type/text\", \"value\": \"Finances and organization.\"}, {\"type\": \"/type/text\", \"value\": \"Map of campus, dated April 1962 (buildings under construction or completed).\"}], \"title\": \"Oregon Regional Primate Research Center facts.\", \"oclc_number\": [\"190823722\"], \"languages\": [{\"key\": \"/languages/eng\"}], \"last_modified\": {\"type\": \"/type/datetime\", \"value\": \"2008-10-01T11:02:14.299218\"}, \"publish_date\": \"1962\", \"publish_country\": \"oru\", \"key\": \"/books/OL17841396M\", \"authors\": [{\"key\": \"/authors/OL4684114A\"}], \"publish_places\": [\"Portland, Or\"], \"type\": {\"key\": \"/type/edition\"}, \"subjects\": [\"Oregon Regional Primate Research Center.\", \"Primates.\", \"Research -- Oregon.\"], \"revision\": 1}  \n",
       "3                                                                                                                                                                                                                                                                                                                                                                                                                                                                                                                                                                                                                                                                                                                                                                                                                                                                                                                                                                                                                                                                                                                                                                                                                                                                                                                                                                                                                                                                                                                                                                                                                                                                                                    {\"subtitle\": \"effect in female, black, and diabetic patients, and cost-effectiveness\", \"series\": [\"Evidence report/technology assessment -- no. 82\", \"AHRQ publication -- no. 03-E045\"], \"lc_classifications\": [\"RC685.C53 P437 2003\"], \"contributions\": [\"Shekelle, Paul G.\", \"Morton, Sally C.\", \"Southern California Evidence-Based Practice Center/RAND.\"], \"title\": \"Pharmacologic management of heart failure and left ventricular systolic dysfunction\", \"languages\": [{\"key\": \"/languages/eng\"}], \"subjects\": [\"Heart failure -- Chemotherapy -- Evaluation.\", \"Heart failure -- Chemotherapy -- Cost effectiveness.\", \"Adrenergic beta blockers -- Therapeutic use -- Evaluation.\", \"Angiotensin converting enzyme -- Inhibitors -- Therapeutic use -- Evaluation.\", \"Diabetes -- Complications -- Chemotherapy -- Evaluation.\", \"Evidence-based medicine.\", \"Heart Failure -- drug therapy.\", \"Ventricular Dysfunction, Left -- drug therapy.\", \"Evidence-Based Medicine -- methods.\"], \"publish_country\": \"mdu\", \"by_statement\": \"prepared for Agency for Healthcare Research and Quality, U.S. Department of Health and Human Services ; prepared by Southern California-RAND Evidence-based Practice Center, Santa Monica, CA ; program director, Paul Shekelle, program co-director, Sally Morton ... [et al.].\", \"type\": {\"key\": \"/type/edition\"}, \"revision\": 1, \"publishers\": [\"U.S. Dept. of Health and Human Services, Public Health Service, Agency for Healthcare Research and Quality\"], \"last_modified\": {\"type\": \"/type/datetime\", \"value\": \"2008-10-01T11:02:08.596896\"}, \"key\": \"/books/OL17841387M\", \"publish_places\": [\"Rockville, Md\"], \"oclc_number\": [\"54960165\"], \"pagination\": \"x, 163 p. :\", \"dewey_decimal_class\": [\"616.1/29061\"], \"notes\": {\"type\": \"/type/text\", \"value\": \"\\\"Prepared for Agency for Healthcare Research and Quality, U.S. Department of Health and Human Services.\\\"\\n\\n\\\"July 2003.\\\"\\n\\n\\\"Contract no.: 290-97-0001.\\\"\\n\\n\\\"\\\"Bibliography\\\": p. 101-128.\\n\\nIncludes bibliographical references (p. 83-85).\"}, \"number_of_pages\": 163, \"lccn\": [\"2003628991\"], \"publish_date\": \"2003\"}  \n",
       "4                                                                                                                                                                                                                                                                                                                                                                                                                                                                                                                                                                                                                                                                                                                                                                                                                                                                                                                                                                                                                                                                                                                                                                                                                                                                                                                                                                                                                                                                                                                                                                                                                                                                                                                                                                                                                                                                                                                                                                                                                                                                                                                                                                                                                                                                                                                                                                                                                                                                                                                                                                                                                                                                                                                                                                                                                                                                                                                                                                                                                                                      {\"publishers\": [\"W.M. Hinton & Co., Printers\"], \"pagination\": \"10 p. ;\", \"last_modified\": {\"type\": \"/type/datetime\", \"value\": \"2008-10-01T11:02:09.629327\"}, \"title\": \"Disease-germs\", \"type\": {\"key\": \"/type/edition\"}, \"notes\": {\"type\": \"/type/text\", \"value\": \"\\\"An address delivered at the anniversary meeting of the San Francisco Medical Society, November, 1879.\\\"\\n\\nCover title.\"}, \"number_of_pages\": 10, \"languages\": [{\"key\": \"/languages/eng\"}], \"subjects\": [\"Germ theory of disease.\", \"Bacteria.\", \"Bacteria.\"], \"publish_date\": \"1879\", \"publish_country\": \"cau\", \"key\": \"/books/OL17841388M\", \"authors\": [{\"key\": \"/authors/OL2456514A\"}], \"by_statement\": \"by J.H. Wythe.\", \"publish_places\": [\"S.F. [i.e. San Francisco]\"], \"oclc_number\": [\"15642021\"], \"revision\": 1}  \n",
       "5                                                                                                                                                                                                                                                                                                                                                                                                                                                                                                                                                                                                                                                                                                                                                                                                                                                                                                                                                                                                                                                                                                                                                                                                                                                                                                                                                                                                                                                                                                                                                                                                                                                                                                                                                                                                                                                                                                                                                                                                                                                                                                                                                                                                                                                                                                                                                                                                                                                                                                                                                                                                                                                                                                                                                                                                                                                                                                                                                                                                                                                                                                                                                                                                                                                                                                                                                                                                       {\"last_modified\": {\"type\": \"/type/datetime\", \"value\": \"2008-10-01T11:02:10.116704\"}, \"title\": \"Current diagnosis and treatment: emergency medicine\", \"notes\": {\"type\": \"/type/text\", \"value\": \"$69.95\"}, \"isbn_10\": [\"780071443197\"], \"key\": \"/books/OL17841389M\", \"authors\": [{\"key\": \"/authors/OL5345248A\"}], \"publish_places\": [\"McGraw Hill, 2008\"], \"type\": {\"key\": \"/type/edition\"}, \"subjects\": [\"Emergency Medicine\"], \"revision\": 1}  \n",
       "6                                                                                                                                                                                                                                                                                                                                                                                                                                                                                                                                                                                                                                                                                                                                                                                                                                                                                                                                                                                                                                                                                                                                                                                                                                                                                                                                                                                                                                                                                                                                                                                                                                                                                                                                                                                                                                                                                                                                                                                                                                                                                                                                                                                                                                                                                                                                                                                                                                                                                                                                                                                                                                                                                                                                                                                                                                                                                                                                                                                                                                                                                                                                                                                                                                                                                                                                                                                                                                                                                                                                                                                       {\"title\": \"Midwifery & Childbirth in America\", \"last_modified\": {\"type\": \"/type/datetime\", \"value\": \"2008-10-01T11:02:10.530593\"}, \"key\": \"/books/OL17841390M\", \"authors\": [{\"key\": \"/authors/OL5345249A\"}], \"type\": {\"key\": \"/type/edition\"}, \"revision\": 1}  \n",
       "7                                                                                                                                                                                                                                                                                                                                                                                                                                                                                                                                                                                                                                                                                                                                                                                                                                                                                                                                                                                                                                                                                                                                                                                                                                                                                                                                                                                                                                                                                                                                                                                                                                                                                                                                                                                                                                                                                                                                                                                                                                                                                                                                                                                                                                                                                                                                                                                                                                                                                                                                                                                                                                                                                                                                                                                                                                                                                                                                                                                                                                                                                                                                                                                                                                                                                                                                                                                                                                {\"last_modified\": {\"type\": \"/type/datetime\", \"value\": \"2008-10-01T11:02:10.95486\"}, \"title\": \"Fundamentals of musculoskeletal ultrasound\", \"notes\": {\"type\": \"/type/text\", \"value\": \"$79.00\"}, \"isbn_10\": [\"416035931\"], \"key\": \"/books/OL17841391M\", \"authors\": [{\"key\": \"/authors/OL5345250A\"}], \"publish_places\": [\"Saunders, 2007\"], \"type\": {\"key\": \"/type/edition\"}, \"subjects\": [\"Radiology\"], \"revision\": 1}  \n",
       "8                                                                                                                                                                                                                                                                                                                                                                                                                                                                                                                                                                                                                                                                                                                                                                                                                                                                                                                                                                                                                                                                                                                                                                                                                                                                                                                                                                                                                                                                                                                                                                                                                                                                                                                                                                                                                                                                                                                                                                                                                                                                                                                                                                                                                                                                                                                                                                                                                                                                                                                                                                                                                                                                                                                                                                                                                                                                                                                                                                                                                                                                                                                                                                                                                                                                                                                                                                                                                                                                                                                                                                          {\"title\": \"Tami's test record\", \"last_modified\": {\"type\": \"/type/datetime\", \"value\": \"2008-10-01T11:01:55.432347\"}, \"key\": \"/books/OL17841366M\", \"authors\": [{\"key\": \"/authors/OL5345237A\"}], \"publish_places\": [\"2007\"], \"type\": {\"key\": \"/type/edition\"}, \"revision\": 1}  \n",
       "9                                                                                                                                                                                                                                                                                                                                                                                                                                                                                                                                                                                                                                                                                                                                                                                                                                                                                                                                                                                                                                                                                                                                                                                                                                                                                                                                                                                                                                                                                                                                                                                                                                                                                                                                                                                                                                                                                                                                                                                             {\"publishers\": [\"Oregon Health & Science University, Dept. of Surgery\"], \"pagination\": \"65 p. :\", \"table_of_contents\": [{\"type\": \"/type/text\", \"value\": \"Introduction.\"}, {\"type\": \"/type/text\", \"value\": \"History of Oregon Health & Science University.\"}, {\"type\": \"/type/text\", \"value\": \"\\\"The downtown surgeons\\\"\"}, {\"type\": \"/type/text\", \"value\": \"History of the surgical residency programs.\"}, {\"type\": \"/type/text\", \"value\": \"OHSU surgery residency program.\"}, {\"type\": \"/type/text\", \"value\": \"History of OHSU surgery divisions.\"}, {\"type\": \"/type/text\", \"value\": \"March to a world class department of surgery.\"}, {\"type\": \"/type/text\", \"value\": \"Historic events in the Department of Surgery.\"}, {\"type\": \"/type/text\", \"value\": \"References.\"}, {\"type\": \"/type/text\", \"value\": \"Interviewees and manuscript reviewers.\"}], \"title\": \"History of the Department of Surgery, 1867-2007\", \"oclc_number\": [\"187326800\"], \"notes\": {\"type\": \"/type/text\", \"value\": \"Includes bibliographical references (p. 63-64).\"}, \"number_of_pages\": 65, \"edition_name\": \"1st ed.\", \"languages\": [{\"key\": \"/languages/eng\"}], \"last_modified\": {\"type\": \"/type/datetime\", \"value\": \"2008-10-01T11:02:11.453848\"}, \"publish_date\": \"2007\", \"publish_country\": \"oru\", \"key\": \"/books/OL17841392M\", \"authors\": [{\"key\": \"/authors/OL5345251A\"}], \"by_statement\": \"written by Patricia A. Southard.\", \"publish_places\": [\"Portland, Or\"], \"type\": {\"key\": \"/type/edition\"}, \"subjects\": [\"Oregon Health & Science University. -- Dept. of Surgery.\", \"Oregon Health Sciences University. -- Dept. of Surgery.\", \"University of Oregon Health Sciences Center. -- Dept. of Surgery.\", \"University of Oregon. -- Medical School. -- Dept. of Surgery.\", \"Surgery -- history -- Oregon.\", \"Schools, Medical -- history -- Oregon.\"], \"revision\": 1}  "
      ]
     },
     "execution_count": 30,
     "metadata": {},
     "output_type": "execute_result"
    }
   ],
   "source": [
    "df_eds = df_split.filter(col(\"record_type\") == \"/type/edition\")\n",
    "df_eds.limit(10).toPandas()"
   ]
  },
  {
   "cell_type": "code",
   "execution_count": 31,
   "id": "bc5ed067-91f2-4cfd-9bbc-973ed350f526",
   "metadata": {
    "execution": {
     "iopub.execute_input": "2025-05-11T10:12:06.975353Z",
     "iopub.status.busy": "2025-05-11T10:12:06.975042Z",
     "iopub.status.idle": "2025-05-11T10:12:06.993850Z",
     "shell.execute_reply": "2025-05-11T10:12:06.992176Z",
     "shell.execute_reply.started": "2025-05-11T10:12:06.975321Z"
    }
   },
   "outputs": [],
   "source": [
    "editions_json_schema = StructType([\n",
    "    StructField(\"key\", StringType(), True),\n",
    "    StructField(\"title\", StringType(), True),\n",
    "    StructField(\"subtitle\", StringType(), True),\n",
    "    StructField(\"type\", StructType([\n",
    "        StructField(\"key\", StringType(), True)\n",
    "    ]), True),\n",
    "    StructField(\"authors\", ArrayType(StructType([\n",
    "        StructField(\"key\", StringType(), True)\n",
    "    ])), True),\n",
    "    StructField(\"works\", ArrayType(StructType([\n",
    "        StructField(\"key\", StringType(), True)\n",
    "    ])), True),\n",
    "    StructField(\"identifiers\", StructType([]), True),  # Generic object, skipped for now\n",
    "    StructField(\"isbn_10\", ArrayType(StringType()), True),\n",
    "    StructField(\"isbn_13\", ArrayType(StringType()), True),\n",
    "    StructField(\"lccn\", ArrayType(StringType()), True),\n",
    "    StructField(\"ocaid\", StringType(), True),\n",
    "    StructField(\"oclc_numbers\", ArrayType(StringType()), True),\n",
    "    StructField(\"local_id\", ArrayType(StringType()), True),\n",
    "    StructField(\"covers\", ArrayType(IntegerType()), True),\n",
    "    StructField(\"links\", ArrayType(StructType([\n",
    "        StructField(\"title\", StringType(), True),\n",
    "        StructField(\"url\", StringType(), True)\n",
    "    ])), True),\n",
    "    StructField(\"languages\", ArrayType(StructType([\n",
    "        StructField(\"key\", StringType(), True)\n",
    "    ])), True),\n",
    "    StructField(\"translated_from\", ArrayType(StructType([\n",
    "        StructField(\"key\", StringType(), True)\n",
    "    ])), True),\n",
    "    StructField(\"translation_of\", StringType(), True),\n",
    "    StructField(\"by_statement\", StringType(), True),\n",
    "    StructField(\"weight\", StringType(), True),\n",
    "    StructField(\"edition_name\", StringType(), True),\n",
    "    StructField(\"number_of_pages\", IntegerType(), True),\n",
    "    StructField(\"pagination\", StringType(), True),\n",
    "    StructField(\"physical_dimensions\", StringType(), True),\n",
    "    StructField(\"physical_format\", StringType(), True),\n",
    "    StructField(\"copyright_date\", StringType(), True),\n",
    "    StructField(\"publish_country\", StringType(), True),\n",
    "    StructField(\"publish_date\", StringType(), True),\n",
    "    StructField(\"publish_places\", ArrayType(StringType()), True),\n",
    "    StructField(\"publishers\", ArrayType(StringType()), True),\n",
    "    StructField(\"contributions\", ArrayType(StringType()), True),\n",
    "    StructField(\"dewey_decimal_class\", ArrayType(StringType()), True),\n",
    "    StructField(\"genres\", ArrayType(StringType()), True),\n",
    "    StructField(\"lc_classifications\", ArrayType(StringType()), True),\n",
    "    StructField(\"other_titles\", ArrayType(StringType()), True),\n",
    "    StructField(\"series\", ArrayType(StringType()), True),\n",
    "    StructField(\"source_records\", ArrayType(StringType()), True),\n",
    "    StructField(\"subjects\", ArrayType(StringType()), True),\n",
    "    StructField(\"work_titles\", ArrayType(StringType()), True),\n",
    "    StructField(\"table_of_contents\", ArrayType(StringType()), True),\n",
    "    StructField(\"description\", StructType([\n",
    "        StructField(\"type\", StringType(), True),\n",
    "        StructField(\"value\", StringType(), True)\n",
    "    ]), True),\n",
    "    StructField(\"first_sentence\", StructType([\n",
    "        StructField(\"type\", StringType(), True),\n",
    "        StructField(\"value\", StringType(), True)\n",
    "    ]), True),\n",
    "    StructField(\"notes\", StructType([\n",
    "        StructField(\"type\", StringType(), True),\n",
    "        StructField(\"value\", StringType(), True)\n",
    "    ]), True),\n",
    "    StructField(\"revision\", IntegerType(), True),\n",
    "    StructField(\"latest_revision\", IntegerType(), True),\n",
    "    StructField(\"created\", StructType([\n",
    "        StructField(\"type\", StringType(), True),\n",
    "        StructField(\"value\", StringType(), True)\n",
    "    ]), True),\n",
    "    StructField(\"last_modified\", StructType([\n",
    "        StructField(\"type\", StringType(), True),\n",
    "        StructField(\"value\", StringType(), True)\n",
    "    ]), True)\n",
    "])"
   ]
  },
  {
   "cell_type": "code",
   "execution_count": 32,
   "id": "aa324305-99ac-4947-b385-fa8d3b88cd6d",
   "metadata": {
    "execution": {
     "iopub.execute_input": "2025-05-11T10:12:06.996842Z",
     "iopub.status.busy": "2025-05-11T10:12:06.996001Z",
     "iopub.status.idle": "2025-05-11T10:12:07.043751Z",
     "shell.execute_reply": "2025-05-11T10:12:07.042465Z",
     "shell.execute_reply.started": "2025-05-11T10:12:06.996784Z"
    }
   },
   "outputs": [],
   "source": [
    "df_eds_parsed = df_eds.withColumn(\n",
    "    \"json_parsed\", from_json(col(\"json_data\"), editions_json_schema)\n",
    ")"
   ]
  },
  {
   "cell_type": "code",
   "execution_count": 33,
   "id": "c05757fc-675b-4794-bb00-6525156feee6",
   "metadata": {
    "execution": {
     "iopub.execute_input": "2025-05-11T10:12:07.046726Z",
     "iopub.status.busy": "2025-05-11T10:12:07.045374Z",
     "iopub.status.idle": "2025-05-11T10:12:07.212678Z",
     "shell.execute_reply": "2025-05-11T10:12:07.210936Z",
     "shell.execute_reply.started": "2025-05-11T10:12:07.046670Z"
    }
   },
   "outputs": [],
   "source": [
    "df_eds_final = df_eds_parsed.select(\n",
    "    col(\"record_type\"),\n",
    "    col(\"key\").alias(\"edition_key\"),\n",
    "    col(\"json_parsed.title\").alias(\"title\"),\n",
    "    col(\"json_parsed.subtitle\").alias(\"subtitle\"),\n",
    "    # Simplify authors to array of keys\n",
    "    transform(\n",
    "        col(\"json_parsed.authors\"),\n",
    "        lambda x: x.key\n",
    "    ).alias(\"author_keys\"),\n",
    "    col(\"json_parsed.works\").alias(\"work_keys\"),\n",
    "    # Simplify languages to array of keys\n",
    "    transform(\n",
    "        col(\"json_parsed.languages\"),\n",
    "        lambda x: x.key\n",
    "    ).alias(\"language_keys\"),\n",
    "    col(\"json_parsed.publish_country\").alias(\"publish_country\"),\n",
    "    col(\"json_parsed.publish_date\").alias(\"publish_date\"),\n",
    "    col(\"json_parsed.publish_places\").alias(\"publish_places\"),\n",
    "    col(\"json_parsed.genres\").alias(\"genres\"),\n",
    "    col(\"json_parsed.subjects\").alias(\"subjects\"),\n",
    ")"
   ]
  },
  {
   "cell_type": "code",
   "execution_count": 34,
   "id": "353aa448-e035-4ede-a96c-2f6d7609125f",
   "metadata": {
    "execution": {
     "iopub.execute_input": "2025-05-11T10:12:07.215005Z",
     "iopub.status.busy": "2025-05-11T10:12:07.214366Z",
     "iopub.status.idle": "2025-05-11T10:12:07.458948Z",
     "shell.execute_reply": "2025-05-11T10:12:07.458077Z",
     "shell.execute_reply.started": "2025-05-11T10:12:07.214952Z"
    },
    "scrolled": true
   },
   "outputs": [
    {
     "data": {
      "text/html": [
       "<div>\n",
       "<style scoped>\n",
       "    .dataframe tbody tr th:only-of-type {\n",
       "        vertical-align: middle;\n",
       "    }\n",
       "\n",
       "    .dataframe tbody tr th {\n",
       "        vertical-align: top;\n",
       "    }\n",
       "\n",
       "    .dataframe thead th {\n",
       "        text-align: right;\n",
       "    }\n",
       "</style>\n",
       "<table border=\"1\" class=\"dataframe\">\n",
       "  <thead>\n",
       "    <tr style=\"text-align: right;\">\n",
       "      <th></th>\n",
       "      <th>record_type</th>\n",
       "      <th>edition_key</th>\n",
       "      <th>title</th>\n",
       "      <th>subtitle</th>\n",
       "      <th>author_keys</th>\n",
       "      <th>work_keys</th>\n",
       "      <th>language_keys</th>\n",
       "      <th>publish_country</th>\n",
       "      <th>publish_date</th>\n",
       "      <th>publish_places</th>\n",
       "      <th>genres</th>\n",
       "      <th>subjects</th>\n",
       "    </tr>\n",
       "  </thead>\n",
       "  <tbody>\n",
       "    <tr>\n",
       "      <th>0</th>\n",
       "      <td>/type/edition</td>\n",
       "      <td>/books/OL17806216M</td>\n",
       "      <td>Gender, class, and shelter</td>\n",
       "      <td>None</td>\n",
       "      <td>None</td>\n",
       "      <td>None</td>\n",
       "      <td>[/languages/eng]</td>\n",
       "      <td>tnu</td>\n",
       "      <td>1995</td>\n",
       "      <td>[Knoxville]</td>\n",
       "      <td>None</td>\n",
       "      <td>[Vernacular architecture -- United States., Architecture and society -- United States.]</td>\n",
       "    </tr>\n",
       "    <tr>\n",
       "      <th>1</th>\n",
       "      <td>/type/edition</td>\n",
       "      <td>/books/OL17841395M</td>\n",
       "      <td>Elizabeth Blackburn and the story of telomeres</td>\n",
       "      <td>None</td>\n",
       "      <td>[/authors/OL5345253A]</td>\n",
       "      <td>None</td>\n",
       "      <td>None</td>\n",
       "      <td>None</td>\n",
       "      <td>None</td>\n",
       "      <td>[MIT, 2007]</td>\n",
       "      <td>None</td>\n",
       "      <td>[History of Medicine]</td>\n",
       "    </tr>\n",
       "    <tr>\n",
       "      <th>2</th>\n",
       "      <td>/type/edition</td>\n",
       "      <td>/books/OL17841396M</td>\n",
       "      <td>Oregon Regional Primate Research Center facts.</td>\n",
       "      <td>None</td>\n",
       "      <td>[/authors/OL4684114A]</td>\n",
       "      <td>None</td>\n",
       "      <td>[/languages/eng]</td>\n",
       "      <td>oru</td>\n",
       "      <td>1962</td>\n",
       "      <td>[Portland, Or]</td>\n",
       "      <td>None</td>\n",
       "      <td>[Oregon Regional Primate Research Center., Primates., Research -- Oregon.]</td>\n",
       "    </tr>\n",
       "    <tr>\n",
       "      <th>3</th>\n",
       "      <td>/type/edition</td>\n",
       "      <td>/books/OL17841387M</td>\n",
       "      <td>Pharmacologic management of heart failure and left ventricular systolic dysfunction</td>\n",
       "      <td>effect in female, black, and diabetic patients, and cost-effectiveness</td>\n",
       "      <td>None</td>\n",
       "      <td>None</td>\n",
       "      <td>[/languages/eng]</td>\n",
       "      <td>mdu</td>\n",
       "      <td>2003</td>\n",
       "      <td>[Rockville, Md]</td>\n",
       "      <td>None</td>\n",
       "      <td>[Heart failure -- Chemotherapy -- Evaluation., Heart failure -- Chemotherapy -- Cost effectiveness., Adrenergic beta blockers -- Therapeutic use -- Evaluation., Angiotensin converting enzyme -- Inhibitors -- Therapeutic use -- Evaluation., Diabetes -- Complications -- Chemotherapy -- Evaluation., Evidence-based medicine., Heart Failure -- drug therapy., Ventricular Dysfunction, Left -- drug therapy., Evidence-Based Medicine -- methods.]</td>\n",
       "    </tr>\n",
       "    <tr>\n",
       "      <th>4</th>\n",
       "      <td>/type/edition</td>\n",
       "      <td>/books/OL17841388M</td>\n",
       "      <td>Disease-germs</td>\n",
       "      <td>None</td>\n",
       "      <td>[/authors/OL2456514A]</td>\n",
       "      <td>None</td>\n",
       "      <td>[/languages/eng]</td>\n",
       "      <td>cau</td>\n",
       "      <td>1879</td>\n",
       "      <td>[S.F. [i.e. San Francisco]]</td>\n",
       "      <td>None</td>\n",
       "      <td>[Germ theory of disease., Bacteria., Bacteria.]</td>\n",
       "    </tr>\n",
       "    <tr>\n",
       "      <th>5</th>\n",
       "      <td>/type/edition</td>\n",
       "      <td>/books/OL17841389M</td>\n",
       "      <td>Current diagnosis and treatment: emergency medicine</td>\n",
       "      <td>None</td>\n",
       "      <td>[/authors/OL5345248A]</td>\n",
       "      <td>None</td>\n",
       "      <td>None</td>\n",
       "      <td>None</td>\n",
       "      <td>None</td>\n",
       "      <td>[McGraw Hill, 2008]</td>\n",
       "      <td>None</td>\n",
       "      <td>[Emergency Medicine]</td>\n",
       "    </tr>\n",
       "    <tr>\n",
       "      <th>6</th>\n",
       "      <td>/type/edition</td>\n",
       "      <td>/books/OL17841390M</td>\n",
       "      <td>Midwifery &amp; Childbirth in America</td>\n",
       "      <td>None</td>\n",
       "      <td>[/authors/OL5345249A]</td>\n",
       "      <td>None</td>\n",
       "      <td>None</td>\n",
       "      <td>None</td>\n",
       "      <td>None</td>\n",
       "      <td>None</td>\n",
       "      <td>None</td>\n",
       "      <td>None</td>\n",
       "    </tr>\n",
       "    <tr>\n",
       "      <th>7</th>\n",
       "      <td>/type/edition</td>\n",
       "      <td>/books/OL17841391M</td>\n",
       "      <td>Fundamentals of musculoskeletal ultrasound</td>\n",
       "      <td>None</td>\n",
       "      <td>[/authors/OL5345250A]</td>\n",
       "      <td>None</td>\n",
       "      <td>None</td>\n",
       "      <td>None</td>\n",
       "      <td>None</td>\n",
       "      <td>[Saunders, 2007]</td>\n",
       "      <td>None</td>\n",
       "      <td>[Radiology]</td>\n",
       "    </tr>\n",
       "    <tr>\n",
       "      <th>8</th>\n",
       "      <td>/type/edition</td>\n",
       "      <td>/books/OL17841366M</td>\n",
       "      <td>Tami's test record</td>\n",
       "      <td>None</td>\n",
       "      <td>[/authors/OL5345237A]</td>\n",
       "      <td>None</td>\n",
       "      <td>None</td>\n",
       "      <td>None</td>\n",
       "      <td>None</td>\n",
       "      <td>[2007]</td>\n",
       "      <td>None</td>\n",
       "      <td>None</td>\n",
       "    </tr>\n",
       "    <tr>\n",
       "      <th>9</th>\n",
       "      <td>/type/edition</td>\n",
       "      <td>/books/OL17841392M</td>\n",
       "      <td>History of the Department of Surgery, 1867-2007</td>\n",
       "      <td>None</td>\n",
       "      <td>[/authors/OL5345251A]</td>\n",
       "      <td>None</td>\n",
       "      <td>[/languages/eng]</td>\n",
       "      <td>oru</td>\n",
       "      <td>2007</td>\n",
       "      <td>[Portland, Or]</td>\n",
       "      <td>None</td>\n",
       "      <td>[Oregon Health &amp; Science University. -- Dept. of Surgery., Oregon Health Sciences University. -- Dept. of Surgery., University of Oregon Health Sciences Center. -- Dept. of Surgery., University of Oregon. -- Medical School. -- Dept. of Surgery., Surgery -- history -- Oregon., Schools, Medical -- history -- Oregon.]</td>\n",
       "    </tr>\n",
       "  </tbody>\n",
       "</table>\n",
       "</div>"
      ],
      "text/plain": [
       "     record_type         edition_key  \\\n",
       "0  /type/edition  /books/OL17806216M   \n",
       "1  /type/edition  /books/OL17841395M   \n",
       "2  /type/edition  /books/OL17841396M   \n",
       "3  /type/edition  /books/OL17841387M   \n",
       "4  /type/edition  /books/OL17841388M   \n",
       "5  /type/edition  /books/OL17841389M   \n",
       "6  /type/edition  /books/OL17841390M   \n",
       "7  /type/edition  /books/OL17841391M   \n",
       "8  /type/edition  /books/OL17841366M   \n",
       "9  /type/edition  /books/OL17841392M   \n",
       "\n",
       "                                                                                 title  \\\n",
       "0                                                           Gender, class, and shelter   \n",
       "1                                       Elizabeth Blackburn and the story of telomeres   \n",
       "2                                       Oregon Regional Primate Research Center facts.   \n",
       "3  Pharmacologic management of heart failure and left ventricular systolic dysfunction   \n",
       "4                                                                        Disease-germs   \n",
       "5                                  Current diagnosis and treatment: emergency medicine   \n",
       "6                                                    Midwifery & Childbirth in America   \n",
       "7                                           Fundamentals of musculoskeletal ultrasound   \n",
       "8                                                                   Tami's test record   \n",
       "9                                      History of the Department of Surgery, 1867-2007   \n",
       "\n",
       "                                                                 subtitle  \\\n",
       "0                                                                    None   \n",
       "1                                                                    None   \n",
       "2                                                                    None   \n",
       "3  effect in female, black, and diabetic patients, and cost-effectiveness   \n",
       "4                                                                    None   \n",
       "5                                                                    None   \n",
       "6                                                                    None   \n",
       "7                                                                    None   \n",
       "8                                                                    None   \n",
       "9                                                                    None   \n",
       "\n",
       "             author_keys work_keys     language_keys publish_country  \\\n",
       "0                   None      None  [/languages/eng]             tnu   \n",
       "1  [/authors/OL5345253A]      None              None            None   \n",
       "2  [/authors/OL4684114A]      None  [/languages/eng]             oru   \n",
       "3                   None      None  [/languages/eng]             mdu   \n",
       "4  [/authors/OL2456514A]      None  [/languages/eng]             cau   \n",
       "5  [/authors/OL5345248A]      None              None            None   \n",
       "6  [/authors/OL5345249A]      None              None            None   \n",
       "7  [/authors/OL5345250A]      None              None            None   \n",
       "8  [/authors/OL5345237A]      None              None            None   \n",
       "9  [/authors/OL5345251A]      None  [/languages/eng]             oru   \n",
       "\n",
       "  publish_date               publish_places genres  \\\n",
       "0         1995                  [Knoxville]   None   \n",
       "1         None                  [MIT, 2007]   None   \n",
       "2         1962               [Portland, Or]   None   \n",
       "3         2003              [Rockville, Md]   None   \n",
       "4         1879  [S.F. [i.e. San Francisco]]   None   \n",
       "5         None          [McGraw Hill, 2008]   None   \n",
       "6         None                         None   None   \n",
       "7         None             [Saunders, 2007]   None   \n",
       "8         None                       [2007]   None   \n",
       "9         2007               [Portland, Or]   None   \n",
       "\n",
       "                                                                                                                                                                                                                                                                                                                                                                                                                                                   subjects  \n",
       "0                                                                                                                                                                                                                                                                                                                                                                   [Vernacular architecture -- United States., Architecture and society -- United States.]  \n",
       "1                                                                                                                                                                                                                                                                                                                                                                                                                                     [History of Medicine]  \n",
       "2                                                                                                                                                                                                                                                                                                                                                                                [Oregon Regional Primate Research Center., Primates., Research -- Oregon.]  \n",
       "3  [Heart failure -- Chemotherapy -- Evaluation., Heart failure -- Chemotherapy -- Cost effectiveness., Adrenergic beta blockers -- Therapeutic use -- Evaluation., Angiotensin converting enzyme -- Inhibitors -- Therapeutic use -- Evaluation., Diabetes -- Complications -- Chemotherapy -- Evaluation., Evidence-based medicine., Heart Failure -- drug therapy., Ventricular Dysfunction, Left -- drug therapy., Evidence-Based Medicine -- methods.]  \n",
       "4                                                                                                                                                                                                                                                                                                                                                                                                           [Germ theory of disease., Bacteria., Bacteria.]  \n",
       "5                                                                                                                                                                                                                                                                                                                                                                                                                                      [Emergency Medicine]  \n",
       "6                                                                                                                                                                                                                                                                                                                                                                                                                                                      None  \n",
       "7                                                                                                                                                                                                                                                                                                                                                                                                                                               [Radiology]  \n",
       "8                                                                                                                                                                                                                                                                                                                                                                                                                                                      None  \n",
       "9                                                                                                                              [Oregon Health & Science University. -- Dept. of Surgery., Oregon Health Sciences University. -- Dept. of Surgery., University of Oregon Health Sciences Center. -- Dept. of Surgery., University of Oregon. -- Medical School. -- Dept. of Surgery., Surgery -- history -- Oregon., Schools, Medical -- history -- Oregon.]  "
      ]
     },
     "execution_count": 34,
     "metadata": {},
     "output_type": "execute_result"
    }
   ],
   "source": [
    "df_eds_final.limit(10).toPandas()"
   ]
  },
  {
   "cell_type": "code",
   "execution_count": 35,
   "id": "ab07295d-0ed7-4189-95de-b876d69849ab",
   "metadata": {
    "execution": {
     "iopub.execute_input": "2025-05-11T10:12:07.459834Z",
     "iopub.status.busy": "2025-05-11T10:12:07.459611Z",
     "iopub.status.idle": "2025-05-11T11:55:45.743330Z",
     "shell.execute_reply": "2025-05-11T11:55:45.740724Z",
     "shell.execute_reply.started": "2025-05-11T10:12:07.459814Z"
    }
   },
   "outputs": [],
   "source": [
    "eds_output_path = f\"{output_dir}/eds_partitioned\"\n",
    "df_eds_final.write.parquet(eds_output_path, mode=\"overwrite\")"
   ]
  },
  {
   "cell_type": "code",
   "execution_count": 36,
   "id": "16e8ec33-c248-4306-9037-29fcf40c57ec",
   "metadata": {
    "execution": {
     "iopub.execute_input": "2025-05-11T11:55:45.749977Z",
     "iopub.status.busy": "2025-05-11T11:55:45.749239Z",
     "iopub.status.idle": "2025-05-11T11:55:46.761015Z",
     "shell.execute_reply": "2025-05-11T11:55:46.759340Z",
     "shell.execute_reply.started": "2025-05-11T11:55:45.749903Z"
    }
   },
   "outputs": [],
   "source": [
    "df_eds_final = spark.read.parquet(eds_output_path)"
   ]
  },
  {
   "cell_type": "code",
   "execution_count": 37,
   "id": "59f9bf5d-778c-4017-9e17-1648b253cad4",
   "metadata": {
    "execution": {
     "iopub.execute_input": "2025-05-11T11:55:46.763372Z",
     "iopub.status.busy": "2025-05-11T11:55:46.762760Z",
     "iopub.status.idle": "2025-05-11T11:55:46.862636Z",
     "shell.execute_reply": "2025-05-11T11:55:46.861103Z",
     "shell.execute_reply.started": "2025-05-11T11:55:46.763318Z"
    }
   },
   "outputs": [
    {
     "data": {
      "text/plain": [
       "103"
      ]
     },
     "execution_count": 37,
     "metadata": {},
     "output_type": "execute_result"
    }
   ],
   "source": [
    "df_eds_final.rdd.getNumPartitions()"
   ]
  },
  {
   "cell_type": "code",
   "execution_count": 38,
   "id": "9e070a89-c24c-4031-82d2-24d8425b129b",
   "metadata": {
    "execution": {
     "iopub.execute_input": "2025-05-11T11:55:46.865429Z",
     "iopub.status.busy": "2025-05-11T11:55:46.864347Z",
     "iopub.status.idle": "2025-05-11T11:55:47.158216Z",
     "shell.execute_reply": "2025-05-11T11:55:47.156718Z",
     "shell.execute_reply.started": "2025-05-11T11:55:46.865359Z"
    }
   },
   "outputs": [],
   "source": [
    "spark.stop()"
   ]
  },
  {
   "cell_type": "code",
   "execution_count": 39,
   "id": "65f4654e-f970-4ddd-afe6-985ffc6f47b9",
   "metadata": {
    "execution": {
     "iopub.execute_input": "2025-05-11T11:55:47.161153Z",
     "iopub.status.busy": "2025-05-11T11:55:47.160040Z",
     "iopub.status.idle": "2025-05-11T11:55:47.172056Z",
     "shell.execute_reply": "2025-05-11T11:55:47.170637Z",
     "shell.execute_reply.started": "2025-05-11T11:55:47.161095Z"
    }
   },
   "outputs": [
    {
     "name": "stdout",
     "output_type": "stream",
     "text": [
      "_SUCCESS: 0.00 B\n",
      "part-00000-ac7e19f9-82eb-49d5-a0eb-c87bf900c2a5-c000.snappy.parquet: 12.86 GB\n",
      ".part-00000-ac7e19f9-82eb-49d5-a0eb-c87bf900c2a5-c000.snappy.parquet.crc: 102.89 MB\n",
      "._SUCCESS.crc: 8.00 B\n",
      "Total Size: 12.96 GB\n"
     ]
    }
   ],
   "source": [
    "total_size = 0.0\n",
    "for i, file in enumerate(os.listdir('/home/msds2025/jvalera/bdcc2025/bdcc-lab-openlib/partitioned_data/eds_partitioned/')):\n",
    "    file_path = '/home/msds2025/jvalera/bdcc2025/bdcc-lab-openlib/partitioned_data/eds_partitioned/' + file\n",
    "    file_size_bytes = os.path.getsize(file_path)\n",
    "    total_size += file_size_bytes\n",
    "    print(f\"{file}: {human_readable_size(file_size_bytes)}\")\n",
    "print(f\"Total Size: {human_readable_size(total_size)}\")"
   ]
  },
  {
   "cell_type": "code",
   "execution_count": 40,
   "id": "f3d5f259-a8a0-4ada-89c2-f0d10a8146db",
   "metadata": {
    "execution": {
     "iopub.execute_input": "2025-05-11T11:55:47.173947Z",
     "iopub.status.busy": "2025-05-11T11:55:47.173477Z",
     "iopub.status.idle": "2025-05-11T11:55:47.182204Z",
     "shell.execute_reply": "2025-05-11T11:55:47.181064Z",
     "shell.execute_reply.started": "2025-05-11T11:55:47.173904Z"
    }
   },
   "outputs": [
    {
     "name": "stdout",
     "output_type": "stream",
     "text": [
      "_SUCCESS: 0.00 B\n",
      "part-00000-1d12f884-9f4d-48b9-884d-37d03c766b68-c000.snappy.parquet: 446.62 MB\n",
      ".part-00000-1d12f884-9f4d-48b9-884d-37d03c766b68-c000.snappy.parquet.crc: 3.49 MB\n",
      "._SUCCESS.crc: 8.00 B\n",
      "Total Size: 450.11 MB\n"
     ]
    }
   ],
   "source": [
    "total_size = 0.0\n",
    "for i, file in enumerate(os.listdir('/home/msds2025/jvalera/bdcc2025/bdcc-lab-openlib/partitioned_data/authors_partitioned/')):\n",
    "    file_path = '/home/msds2025/jvalera/bdcc2025/bdcc-lab-openlib/partitioned_data/authors_partitioned/' + file\n",
    "    file_size_bytes = os.path.getsize(file_path)\n",
    "    total_size += file_size_bytes\n",
    "    print(f\"{file}: {human_readable_size(file_size_bytes)}\")\n",
    "print(f\"Total Size: {human_readable_size(total_size)}\")"
   ]
  },
  {
   "cell_type": "code",
   "execution_count": 41,
   "id": "2c129554-fa2d-4e89-9dea-5490b8c14763",
   "metadata": {
    "execution": {
     "iopub.execute_input": "2025-05-11T11:55:47.183864Z",
     "iopub.status.busy": "2025-05-11T11:55:47.183427Z",
     "iopub.status.idle": "2025-05-11T11:55:47.192077Z",
     "shell.execute_reply": "2025-05-11T11:55:47.190915Z",
     "shell.execute_reply.started": "2025-05-11T11:55:47.183822Z"
    }
   },
   "outputs": [
    {
     "name": "stdout",
     "output_type": "stream",
     "text": [
      "_SUCCESS: 0.00 B\n",
      "part-00000-7a7024c9-2d18-4186-aab9-f9c08a405214-c000.snappy.parquet: 3.84 GB\n",
      ".part-00000-7a7024c9-2d18-4186-aab9-f9c08a405214-c000.snappy.parquet.crc: 30.71 MB\n",
      "._SUCCESS.crc: 8.00 B\n",
      "Total Size: 3.87 GB\n"
     ]
    }
   ],
   "source": [
    "total_size = 0.0\n",
    "for i, file in enumerate(os.listdir('/home/msds2025/jvalera/bdcc2025/bdcc-lab-openlib/partitioned_data/works_partitioned/')):\n",
    "    file_path = '/home/msds2025/jvalera/bdcc2025/bdcc-lab-openlib/partitioned_data/works_partitioned/' + file\n",
    "    file_size_bytes = os.path.getsize(file_path)\n",
    "    total_size += file_size_bytes\n",
    "    print(f\"{file}: {human_readable_size(file_size_bytes)}\")\n",
    "print(f\"Total Size: {human_readable_size(total_size)}\")"
   ]
  },
  {
   "cell_type": "code",
   "execution_count": null,
   "id": "a8a69bd7-486b-4885-913f-f5f1c100787e",
   "metadata": {},
   "outputs": [],
   "source": []
  }
 ],
 "metadata": {
  "kernelspec": {
   "display_name": "Python [conda env:base] *",
   "language": "python",
   "name": "conda-base-py"
  },
  "language_info": {
   "codemirror_mode": {
    "name": "ipython",
    "version": 3
   },
   "file_extension": ".py",
   "mimetype": "text/x-python",
   "name": "python",
   "nbconvert_exporter": "python",
   "pygments_lexer": "ipython3",
   "version": "3.12.8"
  }
 },
 "nbformat": 4,
 "nbformat_minor": 5
}
